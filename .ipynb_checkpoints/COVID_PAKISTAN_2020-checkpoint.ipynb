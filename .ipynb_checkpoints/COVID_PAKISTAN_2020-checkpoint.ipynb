{
 "cells": [
  {
   "cell_type": "code",
   "execution_count": 1,
   "metadata": {
    "colab": {},
    "colab_type": "code",
    "id": "324cRasOdF1-"
   },
   "outputs": [],
   "source": [
    "#Importing the libraries\n",
    "import numpy as np \n",
    "import pandas as pd\n",
    "from datetime import datetime as dt"
   ]
  },
  {
   "cell_type": "code",
   "execution_count": 2,
   "metadata": {
    "colab": {},
    "colab_type": "code",
    "id": "Q307WOQGdREE"
   },
   "outputs": [],
   "source": [
    "#Now importing Excel file or Dataset\n",
    "workbook = pd.ExcelFile(r\"C:\\Users\\dell\\Downloads\\COVID_FINAL_DATA.xlsx\")"
   ]
  },
  {
   "cell_type": "code",
   "execution_count": 3,
   "metadata": {
    "colab": {
     "base_uri": "https://localhost:8080/",
     "height": 185
    },
    "colab_type": "code",
    "id": "EkAL0cKzdefg",
    "outputId": "0f4f1423-575f-457b-f322-e69b5d1a5f75"
   },
   "outputs": [
    {
     "data": {
      "text/plain": [
       "['TimeSeries_KeyIndicators',\n",
       " 'TimeSeries_KeyIndicators_Detail',\n",
       " 'TimeSeries_Action_Screen',\n",
       " 'TimeSeries_Action_Call',\n",
       " 'TimeSeries_COVID_News',\n",
       " 'TimeSeries_NIH_Response',\n",
       " 'TimeSeries_NIH_Risk',\n",
       " 'TimeSeries_Province_Response',\n",
       " 'TimeSeries_Helpline_Calls',\n",
       " 'TimeSeries_Quarantine_Details']"
      ]
     },
     "execution_count": 3,
     "metadata": {},
     "output_type": "execute_result"
    }
   ],
   "source": [
    "#Displaying the worksheets\n",
    "workbook.sheet_names"
   ]
  },
  {
   "cell_type": "code",
   "execution_count": 0,
   "metadata": {
    "colab": {},
    "colab_type": "code",
    "id": "hFvT45Tqdgyy"
   },
   "outputs": [],
   "source": [
    "#Naming different sheets\n",
    "sheet1 = workbook.parse(0)\n",
    "sheet2 = workbook.parse(1)\n",
    "sheet3 = workbook.parse(2)\n",
    "sheet4 = workbook.parse(3)\n",
    "sheet5 = workbook.parse(4)\n",
    "sheet6 = workbook.parse(5)\n",
    "sheet7 = workbook.parse(6)\n",
    "sheet8 = workbook.parse(7)\n",
    "sheet9 = workbook.parse(8)\n",
    "sheet10 = workbook.parse(9)"
   ]
  },
  {
   "cell_type": "markdown",
   "metadata": {
    "colab_type": "text",
    "id": "jXblDIoZdwRv"
   },
   "source": [
    "# **SHEET 1**"
   ]
  },
  {
   "cell_type": "code",
   "execution_count": 0,
   "metadata": {
    "colab": {
     "base_uri": "https://localhost:8080/",
     "height": 235
    },
    "colab_type": "code",
    "id": "taI5ZAY7duAf",
    "outputId": "d186c53c-75c4-4675-ea85-fe4a7e8a57cf"
   },
   "outputs": [
    {
     "data": {
      "text/plain": [
       "Unnamed: 0                             0\n",
       "Cumulative                             0\n",
       "Cumulative  Test positive              0\n",
       "Cumulative  tests performed            0\n",
       "Date                                   0\n",
       "Discharged                             0\n",
       "Expired                                0\n",
       "Home Quarantine                      139\n",
       "New  (last 24 hrs)                     0\n",
       "Region                                 0\n",
       "Still admitted                         0\n",
       "Tests  performed in last 24 hours      0\n",
       "dtype: int64"
      ]
     },
     "execution_count": 214,
     "metadata": {
      "tags": []
     },
     "output_type": "execute_result"
    }
   ],
   "source": [
    "#Checking any empty cells in the sheet\n",
    "sheet1.isnull().sum()"
   ]
  },
  {
   "cell_type": "code",
   "execution_count": 0,
   "metadata": {
    "colab": {},
    "colab_type": "code",
    "id": "WvyJyev1d87I"
   },
   "outputs": [],
   "source": [
    "#Filling the empty spaces\n",
    "sheet1=sheet1.fillna(0)"
   ]
  },
  {
   "cell_type": "code",
   "execution_count": 0,
   "metadata": {
    "colab": {
     "base_uri": "https://localhost:8080/",
     "height": 235
    },
    "colab_type": "code",
    "id": "2fY5CmKOeDMv",
    "outputId": "e77f2c33-0e28-43ac-d263-1c3763566cd8"
   },
   "outputs": [
    {
     "data": {
      "text/plain": [
       "Unnamed: 0                           0\n",
       "Cumulative                           0\n",
       "Cumulative  Test positive            0\n",
       "Cumulative  tests performed          0\n",
       "Date                                 0\n",
       "Discharged                           0\n",
       "Expired                              0\n",
       "Home Quarantine                      0\n",
       "New  (last 24 hrs)                   0\n",
       "Region                               0\n",
       "Still admitted                       0\n",
       "Tests  performed in last 24 hours    0\n",
       "dtype: int64"
      ]
     },
     "execution_count": 216,
     "metadata": {
      "tags": []
     },
     "output_type": "execute_result"
    }
   ],
   "source": [
    "#Again checking the sheet\n",
    "sheet1.isnull().sum()"
   ]
  },
  {
   "cell_type": "code",
   "execution_count": 0,
   "metadata": {
    "colab": {},
    "colab_type": "code",
    "id": "C7OjNDpUeHOA"
   },
   "outputs": [],
   "source": [
    "#Dropping the column\n",
    "sheet1.drop(['Unnamed: 0'], axis=1, inplace=True)"
   ]
  },
  {
   "cell_type": "code",
   "execution_count": 0,
   "metadata": {
    "colab": {
     "base_uri": "https://localhost:8080/",
     "height": 603
    },
    "colab_type": "code",
    "id": "H07oCxmVeNOh",
    "outputId": "aa37c1b7-6c75-481a-b2da-a71255057ae2"
   },
   "outputs": [
    {
     "data": {
      "text/html": [
       "<div>\n",
       "<style scoped>\n",
       "    .dataframe tbody tr th:only-of-type {\n",
       "        vertical-align: middle;\n",
       "    }\n",
       "\n",
       "    .dataframe tbody tr th {\n",
       "        vertical-align: top;\n",
       "    }\n",
       "\n",
       "    .dataframe thead th {\n",
       "        text-align: right;\n",
       "    }\n",
       "</style>\n",
       "<table border=\"1\" class=\"dataframe\">\n",
       "  <thead>\n",
       "    <tr style=\"text-align: right;\">\n",
       "      <th></th>\n",
       "      <th>Cumulative</th>\n",
       "      <th>Cumulative  Test positive</th>\n",
       "      <th>Cumulative  tests performed</th>\n",
       "      <th>Date</th>\n",
       "      <th>Discharged</th>\n",
       "      <th>Expired</th>\n",
       "      <th>Home Quarantine</th>\n",
       "      <th>New  (last 24 hrs)</th>\n",
       "      <th>Region</th>\n",
       "      <th>Still admitted</th>\n",
       "      <th>Tests  performed in last 24 hours</th>\n",
       "    </tr>\n",
       "  </thead>\n",
       "  <tbody>\n",
       "    <tr>\n",
       "      <th>0</th>\n",
       "      <td>48</td>\n",
       "      <td>2</td>\n",
       "      <td>80</td>\n",
       "      <td>2020-03-11 00:00:00</td>\n",
       "      <td>0</td>\n",
       "      <td>0</td>\n",
       "      <td>0.0</td>\n",
       "      <td>3</td>\n",
       "      <td>ICT</td>\n",
       "      <td>2</td>\n",
       "      <td>8</td>\n",
       "    </tr>\n",
       "    <tr>\n",
       "      <th>1</th>\n",
       "      <td>61</td>\n",
       "      <td>0</td>\n",
       "      <td>95</td>\n",
       "      <td>2020-03-11 00:00:00</td>\n",
       "      <td>0</td>\n",
       "      <td>0</td>\n",
       "      <td>0.0</td>\n",
       "      <td>6</td>\n",
       "      <td>Punjab</td>\n",
       "      <td>0</td>\n",
       "      <td>7</td>\n",
       "    </tr>\n",
       "    <tr>\n",
       "      <th>2</th>\n",
       "      <td>84</td>\n",
       "      <td>14</td>\n",
       "      <td>171</td>\n",
       "      <td>2020-03-11 00:00:00</td>\n",
       "      <td>1</td>\n",
       "      <td>0</td>\n",
       "      <td>0.0</td>\n",
       "      <td>1</td>\n",
       "      <td>Sindh</td>\n",
       "      <td>13</td>\n",
       "      <td>55</td>\n",
       "    </tr>\n",
       "    <tr>\n",
       "      <th>3</th>\n",
       "      <td>20</td>\n",
       "      <td>0</td>\n",
       "      <td>28</td>\n",
       "      <td>2020-03-11 00:00:00</td>\n",
       "      <td>0</td>\n",
       "      <td>0</td>\n",
       "      <td>0.0</td>\n",
       "      <td>0</td>\n",
       "      <td>KP</td>\n",
       "      <td>0</td>\n",
       "      <td>2</td>\n",
       "    </tr>\n",
       "    <tr>\n",
       "      <th>4</th>\n",
       "      <td>3</td>\n",
       "      <td>0</td>\n",
       "      <td>0</td>\n",
       "      <td>2020-03-11 00:00:00</td>\n",
       "      <td>0</td>\n",
       "      <td>0</td>\n",
       "      <td>0.0</td>\n",
       "      <td>0</td>\n",
       "      <td>KPTD</td>\n",
       "      <td>0</td>\n",
       "      <td>0</td>\n",
       "    </tr>\n",
       "    <tr>\n",
       "      <th>...</th>\n",
       "      <td>...</td>\n",
       "      <td>...</td>\n",
       "      <td>...</td>\n",
       "      <td>...</td>\n",
       "      <td>...</td>\n",
       "      <td>...</td>\n",
       "      <td>...</td>\n",
       "      <td>...</td>\n",
       "      <td>...</td>\n",
       "      <td>...</td>\n",
       "      <td>...</td>\n",
       "    </tr>\n",
       "    <tr>\n",
       "      <th>372</th>\n",
       "      <td>4370</td>\n",
       "      <td>339</td>\n",
       "      <td>3932</td>\n",
       "      <td>2020-05-01 00:00:00</td>\n",
       "      <td>248</td>\n",
       "      <td>3</td>\n",
       "      <td>78.0</td>\n",
       "      <td>194</td>\n",
       "      <td>GB</td>\n",
       "      <td>10</td>\n",
       "      <td>141</td>\n",
       "    </tr>\n",
       "    <tr>\n",
       "      <th>373</th>\n",
       "      <td>11194</td>\n",
       "      <td>343</td>\n",
       "      <td>11194</td>\n",
       "      <td>2020-05-01 00:00:00</td>\n",
       "      <td>44</td>\n",
       "      <td>4</td>\n",
       "      <td>277.0</td>\n",
       "      <td>759</td>\n",
       "      <td>ICT</td>\n",
       "      <td>18</td>\n",
       "      <td>759</td>\n",
       "    </tr>\n",
       "    <tr>\n",
       "      <th>374</th>\n",
       "      <td>17495</td>\n",
       "      <td>2627</td>\n",
       "      <td>18504</td>\n",
       "      <td>2020-05-01 00:00:00</td>\n",
       "      <td>654</td>\n",
       "      <td>146</td>\n",
       "      <td>1211.0</td>\n",
       "      <td>1052</td>\n",
       "      <td>KP</td>\n",
       "      <td>616</td>\n",
       "      <td>1052</td>\n",
       "    </tr>\n",
       "    <tr>\n",
       "      <th>375</th>\n",
       "      <td>53262</td>\n",
       "      <td>6340</td>\n",
       "      <td>82651</td>\n",
       "      <td>2020-05-01 00:00:00</td>\n",
       "      <td>1921</td>\n",
       "      <td>106</td>\n",
       "      <td>2610.0</td>\n",
       "      <td>3689</td>\n",
       "      <td>Punjab</td>\n",
       "      <td>1703</td>\n",
       "      <td>2737</td>\n",
       "    </tr>\n",
       "    <tr>\n",
       "      <th>376</th>\n",
       "      <td>54377</td>\n",
       "      <td>6053</td>\n",
       "      <td>54377</td>\n",
       "      <td>2020-05-01 00:00:00</td>\n",
       "      <td>1222</td>\n",
       "      <td>112</td>\n",
       "      <td>3473.0</td>\n",
       "      <td>2587</td>\n",
       "      <td>Sindh</td>\n",
       "      <td>1246</td>\n",
       "      <td>2587</td>\n",
       "    </tr>\n",
       "  </tbody>\n",
       "</table>\n",
       "<p>377 rows × 11 columns</p>\n",
       "</div>"
      ],
      "text/plain": [
       "     Cumulative  ...  Tests  performed in last 24 hours\n",
       "0            48  ...                                  8\n",
       "1            61  ...                                  7\n",
       "2            84  ...                                 55\n",
       "3            20  ...                                  2\n",
       "4             3  ...                                  0\n",
       "..          ...  ...                                ...\n",
       "372        4370  ...                                141\n",
       "373       11194  ...                                759\n",
       "374       17495  ...                               1052\n",
       "375       53262  ...                               2737\n",
       "376       54377  ...                               2587\n",
       "\n",
       "[377 rows x 11 columns]"
      ]
     },
     "execution_count": 218,
     "metadata": {
      "tags": []
     },
     "output_type": "execute_result"
    }
   ],
   "source": [
    "#Displaying the Sheet 1\n",
    "sheet1"
   ]
  },
  {
   "cell_type": "code",
   "execution_count": 0,
   "metadata": {
    "colab": {
     "base_uri": "https://localhost:8080/",
     "height": 101
    },
    "colab_type": "code",
    "id": "v4ceLUA6eQ8Z",
    "outputId": "b69bb60f-85d8-41ad-95f8-c02751328ade"
   },
   "outputs": [
    {
     "data": {
      "text/plain": [
       "Index(['CUMULATIVE', 'CUMULATIVE  TEST POSITIVE',\n",
       "       'CUMULATIVE  TESTS PERFORMED', 'DATE', 'DISCHARGED', 'EXPIRED',\n",
       "       'HOME QUARANTINE', 'NEW  (LAST 24 HRS)', 'REGION', 'STILL ADMITTED',\n",
       "       'TESTS  PERFORMED IN LAST 24 HOURS'],\n",
       "      dtype='object')"
      ]
     },
     "execution_count": 219,
     "metadata": {
      "tags": []
     },
     "output_type": "execute_result"
    }
   ],
   "source": [
    "#Converting the columns name in upper case\n",
    "sheet1.columns=sheet1.columns.str.upper().str.strip()\n",
    "sheet1.columns "
   ]
  },
  {
   "cell_type": "code",
   "execution_count": 0,
   "metadata": {
    "colab": {
     "base_uri": "https://localhost:8080/",
     "height": 313
    },
    "colab_type": "code",
    "id": "TzaLpsctee2R",
    "outputId": "6bebd3fb-27bf-492e-f7e3-0305d9e3d985"
   },
   "outputs": [
    {
     "data": {
      "text/html": [
       "<div>\n",
       "<style scoped>\n",
       "    .dataframe tbody tr th:only-of-type {\n",
       "        vertical-align: middle;\n",
       "    }\n",
       "\n",
       "    .dataframe tbody tr th {\n",
       "        vertical-align: top;\n",
       "    }\n",
       "\n",
       "    .dataframe thead th {\n",
       "        text-align: right;\n",
       "    }\n",
       "</style>\n",
       "<table border=\"1\" class=\"dataframe\">\n",
       "  <thead>\n",
       "    <tr style=\"text-align: right;\">\n",
       "      <th></th>\n",
       "      <th>CUMULATIVE</th>\n",
       "      <th>CUMULATIVE  TEST POSITIVE</th>\n",
       "      <th>CUMULATIVE  TESTS PERFORMED</th>\n",
       "      <th>DATE</th>\n",
       "      <th>DISCHARGED</th>\n",
       "      <th>EXPIRED</th>\n",
       "      <th>HOME QUARANTINE</th>\n",
       "      <th>NEW  (LAST 24 HRS)</th>\n",
       "      <th>REGION</th>\n",
       "      <th>STILL ADMITTED</th>\n",
       "      <th>TESTS  PERFORMED IN LAST 24 HOURS</th>\n",
       "    </tr>\n",
       "  </thead>\n",
       "  <tbody>\n",
       "    <tr>\n",
       "      <th>0</th>\n",
       "      <td>48</td>\n",
       "      <td>2</td>\n",
       "      <td>80</td>\n",
       "      <td>2020-03-11 00:00:00</td>\n",
       "      <td>0</td>\n",
       "      <td>0</td>\n",
       "      <td>0.0</td>\n",
       "      <td>3</td>\n",
       "      <td>ICT</td>\n",
       "      <td>2</td>\n",
       "      <td>8</td>\n",
       "    </tr>\n",
       "    <tr>\n",
       "      <th>1</th>\n",
       "      <td>61</td>\n",
       "      <td>0</td>\n",
       "      <td>95</td>\n",
       "      <td>2020-03-11 00:00:00</td>\n",
       "      <td>0</td>\n",
       "      <td>0</td>\n",
       "      <td>0.0</td>\n",
       "      <td>6</td>\n",
       "      <td>Punjab</td>\n",
       "      <td>0</td>\n",
       "      <td>7</td>\n",
       "    </tr>\n",
       "    <tr>\n",
       "      <th>2</th>\n",
       "      <td>84</td>\n",
       "      <td>14</td>\n",
       "      <td>171</td>\n",
       "      <td>2020-03-11 00:00:00</td>\n",
       "      <td>1</td>\n",
       "      <td>0</td>\n",
       "      <td>0.0</td>\n",
       "      <td>1</td>\n",
       "      <td>Sindh</td>\n",
       "      <td>13</td>\n",
       "      <td>55</td>\n",
       "    </tr>\n",
       "    <tr>\n",
       "      <th>3</th>\n",
       "      <td>20</td>\n",
       "      <td>0</td>\n",
       "      <td>28</td>\n",
       "      <td>2020-03-11 00:00:00</td>\n",
       "      <td>0</td>\n",
       "      <td>0</td>\n",
       "      <td>0.0</td>\n",
       "      <td>0</td>\n",
       "      <td>KP</td>\n",
       "      <td>0</td>\n",
       "      <td>2</td>\n",
       "    </tr>\n",
       "    <tr>\n",
       "      <th>4</th>\n",
       "      <td>3</td>\n",
       "      <td>0</td>\n",
       "      <td>0</td>\n",
       "      <td>2020-03-11 00:00:00</td>\n",
       "      <td>0</td>\n",
       "      <td>0</td>\n",
       "      <td>0.0</td>\n",
       "      <td>0</td>\n",
       "      <td>KPTD</td>\n",
       "      <td>0</td>\n",
       "      <td>0</td>\n",
       "    </tr>\n",
       "  </tbody>\n",
       "</table>\n",
       "</div>"
      ],
      "text/plain": [
       "   CUMULATIVE  ...  TESTS  PERFORMED IN LAST 24 HOURS\n",
       "0          48  ...                                  8\n",
       "1          61  ...                                  7\n",
       "2          84  ...                                 55\n",
       "3          20  ...                                  2\n",
       "4           3  ...                                  0\n",
       "\n",
       "[5 rows x 11 columns]"
      ]
     },
     "execution_count": 220,
     "metadata": {
      "tags": []
     },
     "output_type": "execute_result"
    }
   ],
   "source": [
    "#Padding of the column\n",
    "sheet1['REGION']=sheet1['REGION'].str.pad(12,side='right')\n",
    "sheet1.head()"
   ]
  },
  {
   "cell_type": "code",
   "execution_count": 0,
   "metadata": {
    "colab": {
     "base_uri": "https://localhost:8080/",
     "height": 218
    },
    "colab_type": "code",
    "id": "lZCQNZWjejUw",
    "outputId": "126eaaa8-7b66-4f2c-965c-ce15cabba5ea"
   },
   "outputs": [
    {
     "data": {
      "text/plain": [
       "CUMULATIVE                             int64\n",
       "CUMULATIVE  TEST POSITIVE              int64\n",
       "CUMULATIVE  TESTS PERFORMED            int64\n",
       "DATE                                  object\n",
       "DISCHARGED                             int64\n",
       "EXPIRED                                int64\n",
       "HOME QUARANTINE                      float64\n",
       "NEW  (LAST 24 HRS)                     int64\n",
       "REGION                                object\n",
       "STILL ADMITTED                         int64\n",
       "TESTS  PERFORMED IN LAST 24 HOURS     object\n",
       "dtype: object"
      ]
     },
     "execution_count": 221,
     "metadata": {
      "tags": []
     },
     "output_type": "execute_result"
    }
   ],
   "source": [
    "#Checking the datatypes of the columns\n",
    "sheet1.dtypes"
   ]
  },
  {
   "cell_type": "code",
   "execution_count": 0,
   "metadata": {
    "colab": {},
    "colab_type": "code",
    "id": "XQaZ0dMOeqzG"
   },
   "outputs": [],
   "source": [
    "#Changing the datatypes where needed\n",
    "sheet1['HOME QUARANTINE']=sheet1['HOME QUARANTINE'].apply(np.int64)\n",
    "sheet1['DATE']=pd.to_datetime(sheet1['DATE'])"
   ]
  },
  {
   "cell_type": "code",
   "execution_count": 0,
   "metadata": {
    "colab": {
     "base_uri": "https://localhost:8080/",
     "height": 218
    },
    "colab_type": "code",
    "id": "dyUz-QzWe1jw",
    "outputId": "b984d22f-a525-4205-b66f-cc9b72638600"
   },
   "outputs": [
    {
     "data": {
      "text/plain": [
       "CUMULATIVE                                    int64\n",
       "CUMULATIVE  TEST POSITIVE                     int64\n",
       "CUMULATIVE  TESTS PERFORMED                   int64\n",
       "DATE                                 datetime64[ns]\n",
       "DISCHARGED                                    int64\n",
       "EXPIRED                                       int64\n",
       "HOME QUARANTINE                               int64\n",
       "NEW  (LAST 24 HRS)                            int64\n",
       "REGION                                       object\n",
       "STILL ADMITTED                                int64\n",
       "TESTS  PERFORMED IN LAST 24 HOURS            object\n",
       "dtype: object"
      ]
     },
     "execution_count": 223,
     "metadata": {
      "tags": []
     },
     "output_type": "execute_result"
    }
   ],
   "source": [
    "#Checking the changes made\n",
    "sheet1.dtypes"
   ]
  },
  {
   "cell_type": "code",
   "execution_count": 0,
   "metadata": {
    "colab": {
     "base_uri": "https://localhost:8080/",
     "height": 34
    },
    "colab_type": "code",
    "id": "m_m4phRke9U_",
    "outputId": "035f9958-4b10-406f-8173-d7245bcf99d3"
   },
   "outputs": [
    {
     "data": {
      "text/plain": [
       "datetime.date(2020, 3, 13)"
      ]
     },
     "execution_count": 224,
     "metadata": {
      "tags": []
     },
     "output_type": "execute_result"
    }
   ],
   "source": [
    "#Changing date syntax\n",
    "sheet1['DATE']=pd.to_datetime(sheet1['DATE']).dt.date\n",
    "sheet1['DATE'][21]"
   ]
  },
  {
   "cell_type": "code",
   "execution_count": 0,
   "metadata": {
    "colab": {
     "base_uri": "https://localhost:8080/",
     "height": 218
    },
    "colab_type": "code",
    "id": "giMg7QxMfQ59",
    "outputId": "1d9aa9c8-a8d6-4369-9bfb-c3aaaa81282f"
   },
   "outputs": [
    {
     "data": {
      "text/plain": [
       "CUMULATIVE                            int64\n",
       "CUMULATIVE  TEST POSITIVE             int64\n",
       "CUMULATIVE  TESTS PERFORMED           int64\n",
       "DATE                                 object\n",
       "DISCHARGED                            int64\n",
       "EXPIRED                               int64\n",
       "HOME QUARANTINE                       int64\n",
       "NEW  (LAST 24 HRS)                    int64\n",
       "REGION                               object\n",
       "STILL ADMITTED                        int64\n",
       "TESTS  PERFORMED IN LAST 24 HOURS    object\n",
       "dtype: object"
      ]
     },
     "execution_count": 225,
     "metadata": {
      "tags": []
     },
     "output_type": "execute_result"
    }
   ],
   "source": [
    "#Again checking the datatypes\n",
    "sheet1.dtypes"
   ]
  },
  {
   "cell_type": "code",
   "execution_count": 0,
   "metadata": {
    "colab": {
     "base_uri": "https://localhost:8080/",
     "height": 34
    },
    "colab_type": "code",
    "id": "jWZSq7CRfZ-I",
    "outputId": "e8dd5440-7aad-47d2-86af-5df620ed9eda"
   },
   "outputs": [
    {
     "data": {
      "text/plain": [
       "nan"
      ]
     },
     "execution_count": 226,
     "metadata": {
      "tags": []
     },
     "output_type": "execute_result"
    }
   ],
   "source": [
    "#Changing the type\n",
    "sheet1['TESTS  PERFORMED IN LAST 24 HOURS'] = pd.to_numeric(sheet1['TESTS  PERFORMED IN LAST 24 HOURS'], errors='coerce')\n",
    "sheet1['TESTS  PERFORMED IN LAST 24 HOURS'][50]"
   ]
  },
  {
   "cell_type": "code",
   "execution_count": 0,
   "metadata": {
    "colab": {
     "base_uri": "https://localhost:8080/",
     "height": 34
    },
    "colab_type": "code",
    "id": "wdkTrRxngWNT",
    "outputId": "4f55813d-8654-4be8-8a03-6f1147bb8a02"
   },
   "outputs": [
    {
     "data": {
      "text/plain": [
       "0.0"
      ]
     },
     "execution_count": 227,
     "metadata": {
      "tags": []
     },
     "output_type": "execute_result"
    }
   ],
   "source": [
    "#Changing the type\n",
    "sheet1 = sheet1.replace(np.nan, 0, regex=True)\n",
    "sheet1['TESTS  PERFORMED IN LAST 24 HOURS'][50]"
   ]
  },
  {
   "cell_type": "code",
   "execution_count": 0,
   "metadata": {
    "colab": {
     "base_uri": "https://localhost:8080/",
     "height": 218
    },
    "colab_type": "code",
    "id": "Moh13targaLg",
    "outputId": "f7908005-b2bf-4366-cd98-66bf2013ef84"
   },
   "outputs": [
    {
     "data": {
      "text/plain": [
       "CUMULATIVE                             int64\n",
       "CUMULATIVE  TEST POSITIVE              int64\n",
       "CUMULATIVE  TESTS PERFORMED            int64\n",
       "DATE                                  object\n",
       "DISCHARGED                             int64\n",
       "EXPIRED                                int64\n",
       "HOME QUARANTINE                        int64\n",
       "NEW  (LAST 24 HRS)                     int64\n",
       "REGION                                object\n",
       "STILL ADMITTED                         int64\n",
       "TESTS  PERFORMED IN LAST 24 HOURS    float64\n",
       "dtype: object"
      ]
     },
     "execution_count": 228,
     "metadata": {
      "tags": []
     },
     "output_type": "execute_result"
    }
   ],
   "source": [
    "sheet1.dtypes"
   ]
  },
  {
   "cell_type": "code",
   "execution_count": 0,
   "metadata": {
    "colab": {},
    "colab_type": "code",
    "id": "TM6BGbqRglyD"
   },
   "outputs": [],
   "source": [
    "#Changing the type\n",
    "sheet1['TESTS  PERFORMED IN LAST 24 HOURS']=sheet1['TESTS  PERFORMED IN LAST 24 HOURS'].apply(np.int64)"
   ]
  },
  {
   "cell_type": "code",
   "execution_count": 0,
   "metadata": {
    "colab": {
     "base_uri": "https://localhost:8080/",
     "height": 218
    },
    "colab_type": "code",
    "id": "hXIc_K5SgoAf",
    "outputId": "43ac70a0-c0e0-4273-84cd-59e1d00e909f"
   },
   "outputs": [
    {
     "data": {
      "text/plain": [
       "CUMULATIVE                            int64\n",
       "CUMULATIVE  TEST POSITIVE             int64\n",
       "CUMULATIVE  TESTS PERFORMED           int64\n",
       "DATE                                 object\n",
       "DISCHARGED                            int64\n",
       "EXPIRED                               int64\n",
       "HOME QUARANTINE                       int64\n",
       "NEW  (LAST 24 HRS)                    int64\n",
       "REGION                               object\n",
       "STILL ADMITTED                        int64\n",
       "TESTS  PERFORMED IN LAST 24 HOURS     int64\n",
       "dtype: object"
      ]
     },
     "execution_count": 230,
     "metadata": {
      "tags": []
     },
     "output_type": "execute_result"
    }
   ],
   "source": [
    "sheet1.dtypes"
   ]
  },
  {
   "cell_type": "code",
   "execution_count": 0,
   "metadata": {
    "colab": {
     "base_uri": "https://localhost:8080/",
     "height": 586
    },
    "colab_type": "code",
    "id": "dtzUJfWVgqLc",
    "outputId": "e619bd6d-e56f-4bd6-f137-ea26f0616db5"
   },
   "outputs": [
    {
     "data": {
      "text/html": [
       "<div>\n",
       "<style scoped>\n",
       "    .dataframe tbody tr th:only-of-type {\n",
       "        vertical-align: middle;\n",
       "    }\n",
       "\n",
       "    .dataframe tbody tr th {\n",
       "        vertical-align: top;\n",
       "    }\n",
       "\n",
       "    .dataframe thead th {\n",
       "        text-align: right;\n",
       "    }\n",
       "</style>\n",
       "<table border=\"1\" class=\"dataframe\">\n",
       "  <thead>\n",
       "    <tr style=\"text-align: right;\">\n",
       "      <th></th>\n",
       "      <th>CUMULATIVE</th>\n",
       "      <th>CUMULATIVE  TEST POSITIVE</th>\n",
       "      <th>CUMULATIVE  TESTS PERFORMED</th>\n",
       "      <th>DATE</th>\n",
       "      <th>DISCHARGED</th>\n",
       "      <th>EXPIRED</th>\n",
       "      <th>HOME QUARANTINE</th>\n",
       "      <th>NEW  (LAST 24 HRS)</th>\n",
       "      <th>REGION</th>\n",
       "      <th>STILL ADMITTED</th>\n",
       "      <th>TESTS  PERFORMED IN LAST 24 HOURS</th>\n",
       "    </tr>\n",
       "  </thead>\n",
       "  <tbody>\n",
       "    <tr>\n",
       "      <th>0</th>\n",
       "      <td>48</td>\n",
       "      <td>2</td>\n",
       "      <td>80</td>\n",
       "      <td>2020-03-11</td>\n",
       "      <td>0</td>\n",
       "      <td>0</td>\n",
       "      <td>0</td>\n",
       "      <td>3</td>\n",
       "      <td>ICT</td>\n",
       "      <td>2</td>\n",
       "      <td>8</td>\n",
       "    </tr>\n",
       "    <tr>\n",
       "      <th>1</th>\n",
       "      <td>61</td>\n",
       "      <td>0</td>\n",
       "      <td>95</td>\n",
       "      <td>2020-03-11</td>\n",
       "      <td>0</td>\n",
       "      <td>0</td>\n",
       "      <td>0</td>\n",
       "      <td>6</td>\n",
       "      <td>Punjab</td>\n",
       "      <td>0</td>\n",
       "      <td>7</td>\n",
       "    </tr>\n",
       "    <tr>\n",
       "      <th>2</th>\n",
       "      <td>84</td>\n",
       "      <td>14</td>\n",
       "      <td>171</td>\n",
       "      <td>2020-03-11</td>\n",
       "      <td>1</td>\n",
       "      <td>0</td>\n",
       "      <td>0</td>\n",
       "      <td>1</td>\n",
       "      <td>Sindh</td>\n",
       "      <td>13</td>\n",
       "      <td>55</td>\n",
       "    </tr>\n",
       "    <tr>\n",
       "      <th>3</th>\n",
       "      <td>20</td>\n",
       "      <td>0</td>\n",
       "      <td>28</td>\n",
       "      <td>2020-03-11</td>\n",
       "      <td>0</td>\n",
       "      <td>0</td>\n",
       "      <td>0</td>\n",
       "      <td>0</td>\n",
       "      <td>KP</td>\n",
       "      <td>0</td>\n",
       "      <td>2</td>\n",
       "    </tr>\n",
       "    <tr>\n",
       "      <th>4</th>\n",
       "      <td>3</td>\n",
       "      <td>0</td>\n",
       "      <td>0</td>\n",
       "      <td>2020-03-11</td>\n",
       "      <td>0</td>\n",
       "      <td>0</td>\n",
       "      <td>0</td>\n",
       "      <td>0</td>\n",
       "      <td>KPTD</td>\n",
       "      <td>0</td>\n",
       "      <td>0</td>\n",
       "    </tr>\n",
       "    <tr>\n",
       "      <th>...</th>\n",
       "      <td>...</td>\n",
       "      <td>...</td>\n",
       "      <td>...</td>\n",
       "      <td>...</td>\n",
       "      <td>...</td>\n",
       "      <td>...</td>\n",
       "      <td>...</td>\n",
       "      <td>...</td>\n",
       "      <td>...</td>\n",
       "      <td>...</td>\n",
       "      <td>...</td>\n",
       "    </tr>\n",
       "    <tr>\n",
       "      <th>372</th>\n",
       "      <td>4370</td>\n",
       "      <td>339</td>\n",
       "      <td>3932</td>\n",
       "      <td>2020-05-01</td>\n",
       "      <td>248</td>\n",
       "      <td>3</td>\n",
       "      <td>78</td>\n",
       "      <td>194</td>\n",
       "      <td>GB</td>\n",
       "      <td>10</td>\n",
       "      <td>141</td>\n",
       "    </tr>\n",
       "    <tr>\n",
       "      <th>373</th>\n",
       "      <td>11194</td>\n",
       "      <td>343</td>\n",
       "      <td>11194</td>\n",
       "      <td>2020-05-01</td>\n",
       "      <td>44</td>\n",
       "      <td>4</td>\n",
       "      <td>277</td>\n",
       "      <td>759</td>\n",
       "      <td>ICT</td>\n",
       "      <td>18</td>\n",
       "      <td>759</td>\n",
       "    </tr>\n",
       "    <tr>\n",
       "      <th>374</th>\n",
       "      <td>17495</td>\n",
       "      <td>2627</td>\n",
       "      <td>18504</td>\n",
       "      <td>2020-05-01</td>\n",
       "      <td>654</td>\n",
       "      <td>146</td>\n",
       "      <td>1211</td>\n",
       "      <td>1052</td>\n",
       "      <td>KP</td>\n",
       "      <td>616</td>\n",
       "      <td>1052</td>\n",
       "    </tr>\n",
       "    <tr>\n",
       "      <th>375</th>\n",
       "      <td>53262</td>\n",
       "      <td>6340</td>\n",
       "      <td>82651</td>\n",
       "      <td>2020-05-01</td>\n",
       "      <td>1921</td>\n",
       "      <td>106</td>\n",
       "      <td>2610</td>\n",
       "      <td>3689</td>\n",
       "      <td>Punjab</td>\n",
       "      <td>1703</td>\n",
       "      <td>2737</td>\n",
       "    </tr>\n",
       "    <tr>\n",
       "      <th>376</th>\n",
       "      <td>54377</td>\n",
       "      <td>6053</td>\n",
       "      <td>54377</td>\n",
       "      <td>2020-05-01</td>\n",
       "      <td>1222</td>\n",
       "      <td>112</td>\n",
       "      <td>3473</td>\n",
       "      <td>2587</td>\n",
       "      <td>Sindh</td>\n",
       "      <td>1246</td>\n",
       "      <td>2587</td>\n",
       "    </tr>\n",
       "  </tbody>\n",
       "</table>\n",
       "<p>377 rows × 11 columns</p>\n",
       "</div>"
      ],
      "text/plain": [
       "     CUMULATIVE  ...  TESTS  PERFORMED IN LAST 24 HOURS\n",
       "0            48  ...                                  8\n",
       "1            61  ...                                  7\n",
       "2            84  ...                                 55\n",
       "3            20  ...                                  2\n",
       "4             3  ...                                  0\n",
       "..          ...  ...                                ...\n",
       "372        4370  ...                                141\n",
       "373       11194  ...                                759\n",
       "374       17495  ...                               1052\n",
       "375       53262  ...                               2737\n",
       "376       54377  ...                               2587\n",
       "\n",
       "[377 rows x 11 columns]"
      ]
     },
     "execution_count": 231,
     "metadata": {
      "tags": []
     },
     "output_type": "execute_result"
    }
   ],
   "source": [
    "sheet1"
   ]
  },
  {
   "cell_type": "markdown",
   "metadata": {
    "colab_type": "text",
    "id": "R1LOy5ALg22P"
   },
   "source": [
    "# **SHEET 2**"
   ]
  },
  {
   "cell_type": "code",
   "execution_count": 0,
   "metadata": {
    "colab": {
     "base_uri": "https://localhost:8080/",
     "height": 907
    },
    "colab_type": "code",
    "id": "aSIqQtlpg1ws",
    "outputId": "e097bf88-f1bb-4cf0-e7aa-28baf15fac57"
   },
   "outputs": [
    {
     "data": {
      "text/plain": [
       "Date                                         0\n",
       "Province Old                                 0\n",
       "Suspected Cases Last Date                    0\n",
       "Suspected Cases Last 24 Hrs                  0\n",
       "Suspected Cases Cumulative                   0\n",
       "Lab Tests Last 24 Hrs                        0\n",
       "Lab Tests Cumulative                         0\n",
       "Confirmed Cases Last Date                    0\n",
       "Confirmed Cases Last 24 Hrs                  0\n",
       "Confirmed Cases Cumulative                   0\n",
       " Deaths Last Date                            0\n",
       " Deaths Last 24 Hrs                          0\n",
       " Deaths Cumulative                           0\n",
       "Transmission Total                           0\n",
       "Transmission Foreign - Iran                  0\n",
       "Transmission Foreign - Iran %                0\n",
       "Transmission Foreign - Other                 0\n",
       "Transmission Foreign - Other %               0\n",
       "Transmission Local - Tableegh                0\n",
       "Transmission Local % - Tableegh              0\n",
       "Transmission Local - Others                  0\n",
       "Transmission Local % - Others                0\n",
       "Transmission Local                           0\n",
       "Transmission Local %                         0\n",
       "Total Hospitals                              0\n",
       "Beds for COVID                               0\n",
       "Total Admitted                               0\n",
       "Admitted Stable                              0\n",
       "Admitted Critical                            0\n",
       "Admitted Venilator                           0\n",
       "Home Quarantine                              0\n",
       "Recovered                                    0\n",
       "Death                                        0\n",
       "Quarantine Facilities                        0\n",
       "Last 24 Hrs Arrival                          0\n",
       "Last 24 Hrs (Location)                       0\n",
       "Last 24 Hrs Departure                        0\n",
       "Cumulative Quarantined                       0\n",
       "Number of Tests                              0\n",
       "Results Achieved                             0\n",
       "Test Positive Cases                          0\n",
       "Test Positive Cases %                        0\n",
       "Confirmed HW - Active Doctors                0\n",
       "Confirmed HW - Active Nurses                 0\n",
       "Confirmed HW - Active Others                 0\n",
       "Confirmed HW - Active Total                  0\n",
       "Confirmed HW - Active Isolation              0\n",
       "Confirmed HW - Active Hospital               0\n",
       "Confirmed HW - Active Hospital Stable        0\n",
       "Confirmed HW - Active Hospital Ventilator    0\n",
       "Confirmed HW - Active Recovered              0\n",
       "Confirmed HW - Active Deaths                 0\n",
       "dtype: int64"
      ]
     },
     "execution_count": 232,
     "metadata": {
      "tags": []
     },
     "output_type": "execute_result"
    }
   ],
   "source": [
    "#Checking for any empty spaces in the sheet\n",
    "sheet2.isnull().sum()"
   ]
  },
  {
   "cell_type": "code",
   "execution_count": 0,
   "metadata": {
    "colab": {
     "base_uri": "https://localhost:8080/",
     "height": 907
    },
    "colab_type": "code",
    "id": "4til7wzThFxV",
    "outputId": "88b695e8-5b50-472e-e9a7-80e08347c743"
   },
   "outputs": [
    {
     "data": {
      "text/plain": [
       "Date                                         datetime64[ns]\n",
       "Province Old                                         object\n",
       "Suspected Cases Last Date                             int64\n",
       "Suspected Cases Last 24 Hrs                           int64\n",
       "Suspected Cases Cumulative                            int64\n",
       "Lab Tests Last 24 Hrs                                 int64\n",
       "Lab Tests Cumulative                                  int64\n",
       "Confirmed Cases Last Date                             int64\n",
       "Confirmed Cases Last 24 Hrs                           int64\n",
       "Confirmed Cases Cumulative                            int64\n",
       " Deaths Last Date                                     int64\n",
       " Deaths Last 24 Hrs                                   int64\n",
       " Deaths Cumulative                                    int64\n",
       "Transmission Total                                    int64\n",
       "Transmission Foreign - Iran                           int64\n",
       "Transmission Foreign - Iran %                       float64\n",
       "Transmission Foreign - Other                          int64\n",
       "Transmission Foreign - Other %                      float64\n",
       "Transmission Local - Tableegh                         int64\n",
       "Transmission Local % - Tableegh                     float64\n",
       "Transmission Local - Others                           int64\n",
       "Transmission Local % - Others                       float64\n",
       "Transmission Local                                    int64\n",
       "Transmission Local %                                float64\n",
       "Total Hospitals                                       int64\n",
       "Beds for COVID                                        int64\n",
       "Total Admitted                                        int64\n",
       "Admitted Stable                                       int64\n",
       "Admitted Critical                                     int64\n",
       "Admitted Venilator                                    int64\n",
       "Home Quarantine                                       int64\n",
       "Recovered                                             int64\n",
       "Death                                                 int64\n",
       "Quarantine Facilities                                 int64\n",
       "Last 24 Hrs Arrival                                   int64\n",
       "Last 24 Hrs (Location)                                int64\n",
       "Last 24 Hrs Departure                                 int64\n",
       "Cumulative Quarantined                                int64\n",
       "Number of Tests                                       int64\n",
       "Results Achieved                                      int64\n",
       "Test Positive Cases                                   int64\n",
       "Test Positive Cases %                               float64\n",
       "Confirmed HW - Active Doctors                         int64\n",
       "Confirmed HW - Active Nurses                          int64\n",
       "Confirmed HW - Active Others                          int64\n",
       "Confirmed HW - Active Total                           int64\n",
       "Confirmed HW - Active Isolation                       int64\n",
       "Confirmed HW - Active Hospital                        int64\n",
       "Confirmed HW - Active Hospital Stable                 int64\n",
       "Confirmed HW - Active Hospital Ventilator             int64\n",
       "Confirmed HW - Active Recovered                       int64\n",
       "Confirmed HW - Active Deaths                          int64\n",
       "dtype: object"
      ]
     },
     "execution_count": 233,
     "metadata": {
      "tags": []
     },
     "output_type": "execute_result"
    }
   ],
   "source": [
    "#Checking the datatypes\n",
    "sheet2.dtypes"
   ]
  },
  {
   "cell_type": "code",
   "execution_count": 0,
   "metadata": {
    "colab": {
     "base_uri": "https://localhost:8080/",
     "height": 420
    },
    "colab_type": "code",
    "id": "7eeIbl1whLv6",
    "outputId": "1ff83830-d2a4-464f-8ba3-cc58e2001d47"
   },
   "outputs": [
    {
     "data": {
      "text/plain": [
       "Index(['DATE', 'PROVINCE OLD', 'SUSPECTED CASES LAST DATE',\n",
       "       'SUSPECTED CASES LAST 24 HRS', 'SUSPECTED CASES CUMULATIVE',\n",
       "       'LAB TESTS LAST 24 HRS', 'LAB TESTS CUMULATIVE',\n",
       "       'CONFIRMED CASES LAST DATE', 'CONFIRMED CASES LAST 24 HRS',\n",
       "       'CONFIRMED CASES CUMULATIVE', 'DEATHS LAST DATE', 'DEATHS LAST 24 HRS',\n",
       "       'DEATHS CUMULATIVE', 'TRANSMISSION TOTAL',\n",
       "       'TRANSMISSION FOREIGN - IRAN', 'TRANSMISSION FOREIGN - IRAN %',\n",
       "       'TRANSMISSION FOREIGN - OTHER', 'TRANSMISSION FOREIGN - OTHER %',\n",
       "       'TRANSMISSION LOCAL - TABLEEGH', 'TRANSMISSION LOCAL % - TABLEEGH',\n",
       "       'TRANSMISSION LOCAL - OTHERS', 'TRANSMISSION LOCAL % - OTHERS',\n",
       "       'TRANSMISSION LOCAL', 'TRANSMISSION LOCAL %', 'TOTAL HOSPITALS',\n",
       "       'BEDS FOR COVID', 'TOTAL ADMITTED', 'ADMITTED STABLE',\n",
       "       'ADMITTED CRITICAL', 'ADMITTED VENILATOR', 'HOME QUARANTINE',\n",
       "       'RECOVERED', 'DEATH', 'QUARANTINE FACILITIES', 'LAST 24 HRS ARRIVAL',\n",
       "       'LAST 24 HRS (LOCATION)', 'LAST 24 HRS DEPARTURE',\n",
       "       'CUMULATIVE QUARANTINED', 'NUMBER OF TESTS', 'RESULTS ACHIEVED',\n",
       "       'TEST POSITIVE CASES', 'TEST POSITIVE CASES %',\n",
       "       'CONFIRMED HW - ACTIVE DOCTORS', 'CONFIRMED HW - ACTIVE NURSES',\n",
       "       'CONFIRMED HW - ACTIVE OTHERS', 'CONFIRMED HW - ACTIVE TOTAL',\n",
       "       'CONFIRMED HW - ACTIVE ISOLATION', 'CONFIRMED HW - ACTIVE HOSPITAL',\n",
       "       'CONFIRMED HW - ACTIVE HOSPITAL STABLE',\n",
       "       'CONFIRMED HW - ACTIVE HOSPITAL VENTILATOR',\n",
       "       'CONFIRMED HW - ACTIVE RECOVERED', 'CONFIRMED HW - ACTIVE DEATHS'],\n",
       "      dtype='object')"
      ]
     },
     "execution_count": 234,
     "metadata": {
      "tags": []
     },
     "output_type": "execute_result"
    }
   ],
   "source": [
    "#Converting the column names in uppercase\n",
    "sheet2.columns=sheet2.columns.str.upper().str.strip()\n",
    "sheet2.columns"
   ]
  },
  {
   "cell_type": "code",
   "execution_count": 0,
   "metadata": {
    "colab": {},
    "colab_type": "code",
    "id": "mKoZWByshnDv"
   },
   "outputs": [],
   "source": [
    "#Changing the datatype\n",
    "sheet2['DATE']=pd.to_datetime(sheet2['DATE']).dt.date"
   ]
  },
  {
   "cell_type": "code",
   "execution_count": 0,
   "metadata": {
    "colab": {},
    "colab_type": "code",
    "id": "POG1z1cUhr6h"
   },
   "outputs": [],
   "source": [
    "#Padding of the column\n",
    "sheet2['PROVINCE OLD']=sheet2['PROVINCE OLD'].str.pad(12,side='right')"
   ]
  },
  {
   "cell_type": "code",
   "execution_count": 0,
   "metadata": {
    "colab": {
     "base_uri": "https://localhost:8080/",
     "height": 657
    },
    "colab_type": "code",
    "id": "5XmI8-pJhxHX",
    "outputId": "2e6f3fd8-5d1d-44f2-80d2-cfc0936bfbbf"
   },
   "outputs": [
    {
     "data": {
      "text/html": [
       "<div>\n",
       "<style scoped>\n",
       "    .dataframe tbody tr th:only-of-type {\n",
       "        vertical-align: middle;\n",
       "    }\n",
       "\n",
       "    .dataframe tbody tr th {\n",
       "        vertical-align: top;\n",
       "    }\n",
       "\n",
       "    .dataframe thead th {\n",
       "        text-align: right;\n",
       "    }\n",
       "</style>\n",
       "<table border=\"1\" class=\"dataframe\">\n",
       "  <thead>\n",
       "    <tr style=\"text-align: right;\">\n",
       "      <th></th>\n",
       "      <th>DATE</th>\n",
       "      <th>PROVINCE OLD</th>\n",
       "      <th>SUSPECTED CASES LAST DATE</th>\n",
       "      <th>SUSPECTED CASES LAST 24 HRS</th>\n",
       "      <th>SUSPECTED CASES CUMULATIVE</th>\n",
       "      <th>LAB TESTS LAST 24 HRS</th>\n",
       "      <th>LAB TESTS CUMULATIVE</th>\n",
       "      <th>CONFIRMED CASES LAST DATE</th>\n",
       "      <th>CONFIRMED CASES LAST 24 HRS</th>\n",
       "      <th>CONFIRMED CASES CUMULATIVE</th>\n",
       "      <th>DEATHS LAST DATE</th>\n",
       "      <th>DEATHS LAST 24 HRS</th>\n",
       "      <th>DEATHS CUMULATIVE</th>\n",
       "      <th>TRANSMISSION TOTAL</th>\n",
       "      <th>TRANSMISSION FOREIGN - IRAN</th>\n",
       "      <th>TRANSMISSION FOREIGN - IRAN %</th>\n",
       "      <th>TRANSMISSION FOREIGN - OTHER</th>\n",
       "      <th>TRANSMISSION FOREIGN - OTHER %</th>\n",
       "      <th>TRANSMISSION LOCAL - TABLEEGH</th>\n",
       "      <th>TRANSMISSION LOCAL % - TABLEEGH</th>\n",
       "      <th>TRANSMISSION LOCAL - OTHERS</th>\n",
       "      <th>TRANSMISSION LOCAL % - OTHERS</th>\n",
       "      <th>TRANSMISSION LOCAL</th>\n",
       "      <th>TRANSMISSION LOCAL %</th>\n",
       "      <th>TOTAL HOSPITALS</th>\n",
       "      <th>BEDS FOR COVID</th>\n",
       "      <th>TOTAL ADMITTED</th>\n",
       "      <th>ADMITTED STABLE</th>\n",
       "      <th>ADMITTED CRITICAL</th>\n",
       "      <th>ADMITTED VENILATOR</th>\n",
       "      <th>HOME QUARANTINE</th>\n",
       "      <th>RECOVERED</th>\n",
       "      <th>DEATH</th>\n",
       "      <th>QUARANTINE FACILITIES</th>\n",
       "      <th>LAST 24 HRS ARRIVAL</th>\n",
       "      <th>LAST 24 HRS (LOCATION)</th>\n",
       "      <th>LAST 24 HRS DEPARTURE</th>\n",
       "      <th>CUMULATIVE QUARANTINED</th>\n",
       "      <th>NUMBER OF TESTS</th>\n",
       "      <th>RESULTS ACHIEVED</th>\n",
       "      <th>TEST POSITIVE CASES</th>\n",
       "      <th>TEST POSITIVE CASES %</th>\n",
       "      <th>CONFIRMED HW - ACTIVE DOCTORS</th>\n",
       "      <th>CONFIRMED HW - ACTIVE NURSES</th>\n",
       "      <th>CONFIRMED HW - ACTIVE OTHERS</th>\n",
       "      <th>CONFIRMED HW - ACTIVE TOTAL</th>\n",
       "      <th>CONFIRMED HW - ACTIVE ISOLATION</th>\n",
       "      <th>CONFIRMED HW - ACTIVE HOSPITAL</th>\n",
       "      <th>CONFIRMED HW - ACTIVE HOSPITAL STABLE</th>\n",
       "      <th>CONFIRMED HW - ACTIVE HOSPITAL VENTILATOR</th>\n",
       "      <th>CONFIRMED HW - ACTIVE RECOVERED</th>\n",
       "      <th>CONFIRMED HW - ACTIVE DEATHS</th>\n",
       "    </tr>\n",
       "  </thead>\n",
       "  <tbody>\n",
       "    <tr>\n",
       "      <th>0</th>\n",
       "      <td>2020-04-04</td>\n",
       "      <td>AJK</td>\n",
       "      <td>322</td>\n",
       "      <td>21</td>\n",
       "      <td>343</td>\n",
       "      <td>21</td>\n",
       "      <td>343</td>\n",
       "      <td>9</td>\n",
       "      <td>2</td>\n",
       "      <td>11</td>\n",
       "      <td>0</td>\n",
       "      <td>0</td>\n",
       "      <td>0</td>\n",
       "      <td>11</td>\n",
       "      <td>1</td>\n",
       "      <td>0.09</td>\n",
       "      <td>2</td>\n",
       "      <td>0.18</td>\n",
       "      <td>0</td>\n",
       "      <td>0.00</td>\n",
       "      <td>0</td>\n",
       "      <td>0.00</td>\n",
       "      <td>8</td>\n",
       "      <td>0.73</td>\n",
       "      <td>14</td>\n",
       "      <td>262</td>\n",
       "      <td>11</td>\n",
       "      <td>11</td>\n",
       "      <td>0</td>\n",
       "      <td>0</td>\n",
       "      <td>0</td>\n",
       "      <td>0</td>\n",
       "      <td>0</td>\n",
       "      <td>57</td>\n",
       "      <td>10</td>\n",
       "      <td>0</td>\n",
       "      <td>61</td>\n",
       "      <td>192</td>\n",
       "      <td>107</td>\n",
       "      <td>102</td>\n",
       "      <td>5</td>\n",
       "      <td>0.05</td>\n",
       "      <td>0</td>\n",
       "      <td>0</td>\n",
       "      <td>0</td>\n",
       "      <td>0</td>\n",
       "      <td>0</td>\n",
       "      <td>0</td>\n",
       "      <td>0</td>\n",
       "      <td>0</td>\n",
       "      <td>0</td>\n",
       "      <td>0</td>\n",
       "    </tr>\n",
       "    <tr>\n",
       "      <th>1</th>\n",
       "      <td>2020-04-04</td>\n",
       "      <td>Balochistan</td>\n",
       "      <td>2171</td>\n",
       "      <td>230</td>\n",
       "      <td>2401</td>\n",
       "      <td>0</td>\n",
       "      <td>2401</td>\n",
       "      <td>169</td>\n",
       "      <td>6</td>\n",
       "      <td>175</td>\n",
       "      <td>1</td>\n",
       "      <td>0</td>\n",
       "      <td>1</td>\n",
       "      <td>175</td>\n",
       "      <td>139</td>\n",
       "      <td>0.79</td>\n",
       "      <td>2</td>\n",
       "      <td>0.01</td>\n",
       "      <td>0</td>\n",
       "      <td>0.00</td>\n",
       "      <td>0</td>\n",
       "      <td>0.00</td>\n",
       "      <td>34</td>\n",
       "      <td>0.19</td>\n",
       "      <td>74</td>\n",
       "      <td>1699</td>\n",
       "      <td>132</td>\n",
       "      <td>132</td>\n",
       "      <td>0</td>\n",
       "      <td>0</td>\n",
       "      <td>25</td>\n",
       "      <td>17</td>\n",
       "      <td>1</td>\n",
       "      <td>68</td>\n",
       "      <td>17</td>\n",
       "      <td>0</td>\n",
       "      <td>0</td>\n",
       "      <td>273</td>\n",
       "      <td>230</td>\n",
       "      <td>230</td>\n",
       "      <td>6</td>\n",
       "      <td>0.03</td>\n",
       "      <td>0</td>\n",
       "      <td>0</td>\n",
       "      <td>0</td>\n",
       "      <td>0</td>\n",
       "      <td>0</td>\n",
       "      <td>0</td>\n",
       "      <td>0</td>\n",
       "      <td>0</td>\n",
       "      <td>0</td>\n",
       "      <td>0</td>\n",
       "    </tr>\n",
       "    <tr>\n",
       "      <th>2</th>\n",
       "      <td>2020-04-04</td>\n",
       "      <td>GB</td>\n",
       "      <td>961</td>\n",
       "      <td>2</td>\n",
       "      <td>963</td>\n",
       "      <td>844</td>\n",
       "      <td>860</td>\n",
       "      <td>190</td>\n",
       "      <td>3</td>\n",
       "      <td>193</td>\n",
       "      <td>3</td>\n",
       "      <td>0</td>\n",
       "      <td>3</td>\n",
       "      <td>193</td>\n",
       "      <td>155</td>\n",
       "      <td>0.80</td>\n",
       "      <td>5</td>\n",
       "      <td>0.03</td>\n",
       "      <td>0</td>\n",
       "      <td>0.00</td>\n",
       "      <td>0</td>\n",
       "      <td>0.00</td>\n",
       "      <td>33</td>\n",
       "      <td>0.17</td>\n",
       "      <td>26</td>\n",
       "      <td>151</td>\n",
       "      <td>12</td>\n",
       "      <td>12</td>\n",
       "      <td>0</td>\n",
       "      <td>0</td>\n",
       "      <td>169</td>\n",
       "      <td>9</td>\n",
       "      <td>3</td>\n",
       "      <td>47</td>\n",
       "      <td>0</td>\n",
       "      <td>0</td>\n",
       "      <td>232</td>\n",
       "      <td>274</td>\n",
       "      <td>963</td>\n",
       "      <td>860</td>\n",
       "      <td>193</td>\n",
       "      <td>0.23</td>\n",
       "      <td>0</td>\n",
       "      <td>0</td>\n",
       "      <td>0</td>\n",
       "      <td>0</td>\n",
       "      <td>0</td>\n",
       "      <td>0</td>\n",
       "      <td>0</td>\n",
       "      <td>0</td>\n",
       "      <td>0</td>\n",
       "      <td>0</td>\n",
       "    </tr>\n",
       "    <tr>\n",
       "      <th>3</th>\n",
       "      <td>2020-04-04</td>\n",
       "      <td>ICT</td>\n",
       "      <td>2395</td>\n",
       "      <td>174</td>\n",
       "      <td>2569</td>\n",
       "      <td>174</td>\n",
       "      <td>2569</td>\n",
       "      <td>68</td>\n",
       "      <td>7</td>\n",
       "      <td>75</td>\n",
       "      <td>0</td>\n",
       "      <td>0</td>\n",
       "      <td>0</td>\n",
       "      <td>75</td>\n",
       "      <td>0</td>\n",
       "      <td>0.00</td>\n",
       "      <td>17</td>\n",
       "      <td>0.23</td>\n",
       "      <td>0</td>\n",
       "      <td>0.00</td>\n",
       "      <td>0</td>\n",
       "      <td>0.00</td>\n",
       "      <td>58</td>\n",
       "      <td>0.77</td>\n",
       "      <td>2</td>\n",
       "      <td>40</td>\n",
       "      <td>14</td>\n",
       "      <td>12</td>\n",
       "      <td>2</td>\n",
       "      <td>0</td>\n",
       "      <td>58</td>\n",
       "      <td>3</td>\n",
       "      <td>0</td>\n",
       "      <td>6</td>\n",
       "      <td>213</td>\n",
       "      <td>0</td>\n",
       "      <td>0</td>\n",
       "      <td>243</td>\n",
       "      <td>213</td>\n",
       "      <td>27</td>\n",
       "      <td>2</td>\n",
       "      <td>0.07</td>\n",
       "      <td>0</td>\n",
       "      <td>0</td>\n",
       "      <td>0</td>\n",
       "      <td>0</td>\n",
       "      <td>0</td>\n",
       "      <td>0</td>\n",
       "      <td>0</td>\n",
       "      <td>0</td>\n",
       "      <td>0</td>\n",
       "      <td>0</td>\n",
       "    </tr>\n",
       "    <tr>\n",
       "      <th>4</th>\n",
       "      <td>2020-04-04</td>\n",
       "      <td>KP</td>\n",
       "      <td>1938</td>\n",
       "      <td>431</td>\n",
       "      <td>2369</td>\n",
       "      <td>181</td>\n",
       "      <td>1624</td>\n",
       "      <td>311</td>\n",
       "      <td>32</td>\n",
       "      <td>343</td>\n",
       "      <td>9</td>\n",
       "      <td>2</td>\n",
       "      <td>11</td>\n",
       "      <td>343</td>\n",
       "      <td>69</td>\n",
       "      <td>0.20</td>\n",
       "      <td>163</td>\n",
       "      <td>0.48</td>\n",
       "      <td>0</td>\n",
       "      <td>0.00</td>\n",
       "      <td>0</td>\n",
       "      <td>0.00</td>\n",
       "      <td>111</td>\n",
       "      <td>0.32</td>\n",
       "      <td>141</td>\n",
       "      <td>3046</td>\n",
       "      <td>92</td>\n",
       "      <td>87</td>\n",
       "      <td>5</td>\n",
       "      <td>0</td>\n",
       "      <td>210</td>\n",
       "      <td>30</td>\n",
       "      <td>11</td>\n",
       "      <td>102</td>\n",
       "      <td>113</td>\n",
       "      <td>0</td>\n",
       "      <td>140</td>\n",
       "      <td>3306</td>\n",
       "      <td>1640</td>\n",
       "      <td>1011</td>\n",
       "      <td>293</td>\n",
       "      <td>0.29</td>\n",
       "      <td>0</td>\n",
       "      <td>0</td>\n",
       "      <td>0</td>\n",
       "      <td>0</td>\n",
       "      <td>0</td>\n",
       "      <td>0</td>\n",
       "      <td>0</td>\n",
       "      <td>0</td>\n",
       "      <td>0</td>\n",
       "      <td>0</td>\n",
       "    </tr>\n",
       "    <tr>\n",
       "      <th>...</th>\n",
       "      <td>...</td>\n",
       "      <td>...</td>\n",
       "      <td>...</td>\n",
       "      <td>...</td>\n",
       "      <td>...</td>\n",
       "      <td>...</td>\n",
       "      <td>...</td>\n",
       "      <td>...</td>\n",
       "      <td>...</td>\n",
       "      <td>...</td>\n",
       "      <td>...</td>\n",
       "      <td>...</td>\n",
       "      <td>...</td>\n",
       "      <td>...</td>\n",
       "      <td>...</td>\n",
       "      <td>...</td>\n",
       "      <td>...</td>\n",
       "      <td>...</td>\n",
       "      <td>...</td>\n",
       "      <td>...</td>\n",
       "      <td>...</td>\n",
       "      <td>...</td>\n",
       "      <td>...</td>\n",
       "      <td>...</td>\n",
       "      <td>...</td>\n",
       "      <td>...</td>\n",
       "      <td>...</td>\n",
       "      <td>...</td>\n",
       "      <td>...</td>\n",
       "      <td>...</td>\n",
       "      <td>...</td>\n",
       "      <td>...</td>\n",
       "      <td>...</td>\n",
       "      <td>...</td>\n",
       "      <td>...</td>\n",
       "      <td>...</td>\n",
       "      <td>...</td>\n",
       "      <td>...</td>\n",
       "      <td>...</td>\n",
       "      <td>...</td>\n",
       "      <td>...</td>\n",
       "      <td>...</td>\n",
       "      <td>...</td>\n",
       "      <td>...</td>\n",
       "      <td>...</td>\n",
       "      <td>...</td>\n",
       "      <td>...</td>\n",
       "      <td>...</td>\n",
       "      <td>...</td>\n",
       "      <td>...</td>\n",
       "      <td>...</td>\n",
       "      <td>...</td>\n",
       "    </tr>\n",
       "    <tr>\n",
       "      <th>149</th>\n",
       "      <td>2020-04-25</td>\n",
       "      <td>GB</td>\n",
       "      <td>3434</td>\n",
       "      <td>157</td>\n",
       "      <td>3591</td>\n",
       "      <td>111</td>\n",
       "      <td>3273</td>\n",
       "      <td>307</td>\n",
       "      <td>1</td>\n",
       "      <td>308</td>\n",
       "      <td>3</td>\n",
       "      <td>0</td>\n",
       "      <td>3</td>\n",
       "      <td>308</td>\n",
       "      <td>166</td>\n",
       "      <td>0.54</td>\n",
       "      <td>5</td>\n",
       "      <td>0.02</td>\n",
       "      <td>26</td>\n",
       "      <td>0.08</td>\n",
       "      <td>111</td>\n",
       "      <td>0.36</td>\n",
       "      <td>137</td>\n",
       "      <td>0.44</td>\n",
       "      <td>26</td>\n",
       "      <td>151</td>\n",
       "      <td>10</td>\n",
       "      <td>10</td>\n",
       "      <td>0</td>\n",
       "      <td>0</td>\n",
       "      <td>79</td>\n",
       "      <td>216</td>\n",
       "      <td>3</td>\n",
       "      <td>43</td>\n",
       "      <td>18</td>\n",
       "      <td>0</td>\n",
       "      <td>7</td>\n",
       "      <td>116</td>\n",
       "      <td>3591</td>\n",
       "      <td>3273</td>\n",
       "      <td>308</td>\n",
       "      <td>0.09</td>\n",
       "      <td>1</td>\n",
       "      <td>0</td>\n",
       "      <td>16</td>\n",
       "      <td>17</td>\n",
       "      <td>0</td>\n",
       "      <td>14</td>\n",
       "      <td>14</td>\n",
       "      <td>0</td>\n",
       "      <td>1</td>\n",
       "      <td>2</td>\n",
       "    </tr>\n",
       "    <tr>\n",
       "      <th>150</th>\n",
       "      <td>2020-04-25</td>\n",
       "      <td>ICT</td>\n",
       "      <td>8059</td>\n",
       "      <td>396</td>\n",
       "      <td>8455</td>\n",
       "      <td>396</td>\n",
       "      <td>8455</td>\n",
       "      <td>223</td>\n",
       "      <td>12</td>\n",
       "      <td>235</td>\n",
       "      <td>3</td>\n",
       "      <td>0</td>\n",
       "      <td>3</td>\n",
       "      <td>235</td>\n",
       "      <td>0</td>\n",
       "      <td>0.00</td>\n",
       "      <td>18</td>\n",
       "      <td>0.08</td>\n",
       "      <td>12</td>\n",
       "      <td>0.05</td>\n",
       "      <td>205</td>\n",
       "      <td>0.87</td>\n",
       "      <td>217</td>\n",
       "      <td>0.92</td>\n",
       "      <td>22</td>\n",
       "      <td>358</td>\n",
       "      <td>15</td>\n",
       "      <td>13</td>\n",
       "      <td>2</td>\n",
       "      <td>0</td>\n",
       "      <td>188</td>\n",
       "      <td>29</td>\n",
       "      <td>3</td>\n",
       "      <td>16</td>\n",
       "      <td>0</td>\n",
       "      <td>0</td>\n",
       "      <td>0</td>\n",
       "      <td>295</td>\n",
       "      <td>2576</td>\n",
       "      <td>2576</td>\n",
       "      <td>34</td>\n",
       "      <td>0.01</td>\n",
       "      <td>14</td>\n",
       "      <td>7</td>\n",
       "      <td>12</td>\n",
       "      <td>33</td>\n",
       "      <td>27</td>\n",
       "      <td>1</td>\n",
       "      <td>1</td>\n",
       "      <td>0</td>\n",
       "      <td>4</td>\n",
       "      <td>1</td>\n",
       "    </tr>\n",
       "    <tr>\n",
       "      <th>151</th>\n",
       "      <td>2020-04-25</td>\n",
       "      <td>KP</td>\n",
       "      <td>12100</td>\n",
       "      <td>821</td>\n",
       "      <td>12921</td>\n",
       "      <td>821</td>\n",
       "      <td>13930</td>\n",
       "      <td>1708</td>\n",
       "      <td>85</td>\n",
       "      <td>1793</td>\n",
       "      <td>89</td>\n",
       "      <td>4</td>\n",
       "      <td>93</td>\n",
       "      <td>1793</td>\n",
       "      <td>70</td>\n",
       "      <td>0.04</td>\n",
       "      <td>311</td>\n",
       "      <td>0.17</td>\n",
       "      <td>282</td>\n",
       "      <td>0.16</td>\n",
       "      <td>1130</td>\n",
       "      <td>0.63</td>\n",
       "      <td>1412</td>\n",
       "      <td>0.79</td>\n",
       "      <td>200</td>\n",
       "      <td>4093</td>\n",
       "      <td>455</td>\n",
       "      <td>405</td>\n",
       "      <td>40</td>\n",
       "      <td>10</td>\n",
       "      <td>760</td>\n",
       "      <td>485</td>\n",
       "      <td>93</td>\n",
       "      <td>279</td>\n",
       "      <td>752</td>\n",
       "      <td>0</td>\n",
       "      <td>163</td>\n",
       "      <td>1200</td>\n",
       "      <td>1730</td>\n",
       "      <td>1730</td>\n",
       "      <td>206</td>\n",
       "      <td>0.12</td>\n",
       "      <td>36</td>\n",
       "      <td>6</td>\n",
       "      <td>34</td>\n",
       "      <td>76</td>\n",
       "      <td>58</td>\n",
       "      <td>2</td>\n",
       "      <td>2</td>\n",
       "      <td>0</td>\n",
       "      <td>15</td>\n",
       "      <td>1</td>\n",
       "    </tr>\n",
       "    <tr>\n",
       "      <th>152</th>\n",
       "      <td>2020-04-25</td>\n",
       "      <td>Punjab</td>\n",
       "      <td>41126</td>\n",
       "      <td>1330</td>\n",
       "      <td>42456</td>\n",
       "      <td>1755</td>\n",
       "      <td>71726</td>\n",
       "      <td>5046</td>\n",
       "      <td>332</td>\n",
       "      <td>5378</td>\n",
       "      <td>73</td>\n",
       "      <td>8</td>\n",
       "      <td>81</td>\n",
       "      <td>5378</td>\n",
       "      <td>768</td>\n",
       "      <td>0.14</td>\n",
       "      <td>499</td>\n",
       "      <td>0.09</td>\n",
       "      <td>1922</td>\n",
       "      <td>0.36</td>\n",
       "      <td>2189</td>\n",
       "      <td>0.41</td>\n",
       "      <td>4111</td>\n",
       "      <td>0.76</td>\n",
       "      <td>188</td>\n",
       "      <td>2674</td>\n",
       "      <td>1594</td>\n",
       "      <td>1566</td>\n",
       "      <td>3</td>\n",
       "      <td>25</td>\n",
       "      <td>2577</td>\n",
       "      <td>1126</td>\n",
       "      <td>81</td>\n",
       "      <td>233</td>\n",
       "      <td>0</td>\n",
       "      <td>0</td>\n",
       "      <td>0</td>\n",
       "      <td>5165</td>\n",
       "      <td>15490</td>\n",
       "      <td>12633</td>\n",
       "      <td>2840</td>\n",
       "      <td>0.22</td>\n",
       "      <td>55</td>\n",
       "      <td>16</td>\n",
       "      <td>22</td>\n",
       "      <td>93</td>\n",
       "      <td>8</td>\n",
       "      <td>50</td>\n",
       "      <td>50</td>\n",
       "      <td>0</td>\n",
       "      <td>35</td>\n",
       "      <td>0</td>\n",
       "    </tr>\n",
       "    <tr>\n",
       "      <th>153</th>\n",
       "      <td>2020-04-25</td>\n",
       "      <td>Sindh</td>\n",
       "      <td>35582</td>\n",
       "      <td>2599</td>\n",
       "      <td>38181</td>\n",
       "      <td>2599</td>\n",
       "      <td>38181</td>\n",
       "      <td>3945</td>\n",
       "      <td>287</td>\n",
       "      <td>4232</td>\n",
       "      <td>75</td>\n",
       "      <td>3</td>\n",
       "      <td>78</td>\n",
       "      <td>4232</td>\n",
       "      <td>280</td>\n",
       "      <td>0.07</td>\n",
       "      <td>196</td>\n",
       "      <td>0.05</td>\n",
       "      <td>765</td>\n",
       "      <td>0.18</td>\n",
       "      <td>2991</td>\n",
       "      <td>0.71</td>\n",
       "      <td>3756</td>\n",
       "      <td>0.89</td>\n",
       "      <td>169</td>\n",
       "      <td>4688</td>\n",
       "      <td>1206</td>\n",
       "      <td>1162</td>\n",
       "      <td>30</td>\n",
       "      <td>14</td>\n",
       "      <td>2146</td>\n",
       "      <td>802</td>\n",
       "      <td>78</td>\n",
       "      <td>17</td>\n",
       "      <td>0</td>\n",
       "      <td>0</td>\n",
       "      <td>0</td>\n",
       "      <td>765</td>\n",
       "      <td>7569</td>\n",
       "      <td>7569</td>\n",
       "      <td>1191</td>\n",
       "      <td>0.16</td>\n",
       "      <td>29</td>\n",
       "      <td>17</td>\n",
       "      <td>31</td>\n",
       "      <td>77</td>\n",
       "      <td>0</td>\n",
       "      <td>62</td>\n",
       "      <td>62</td>\n",
       "      <td>0</td>\n",
       "      <td>15</td>\n",
       "      <td>0</td>\n",
       "    </tr>\n",
       "  </tbody>\n",
       "</table>\n",
       "<p>154 rows × 52 columns</p>\n",
       "</div>"
      ],
      "text/plain": [
       "           DATE  ... CONFIRMED HW - ACTIVE DEATHS\n",
       "0    2020-04-04  ...                            0\n",
       "1    2020-04-04  ...                            0\n",
       "2    2020-04-04  ...                            0\n",
       "3    2020-04-04  ...                            0\n",
       "4    2020-04-04  ...                            0\n",
       "..          ...  ...                          ...\n",
       "149  2020-04-25  ...                            2\n",
       "150  2020-04-25  ...                            1\n",
       "151  2020-04-25  ...                            1\n",
       "152  2020-04-25  ...                            0\n",
       "153  2020-04-25  ...                            0\n",
       "\n",
       "[154 rows x 52 columns]"
      ]
     },
     "execution_count": 237,
     "metadata": {
      "tags": []
     },
     "output_type": "execute_result"
    }
   ],
   "source": [
    "#Displaying the sheet\n",
    "sheet2"
   ]
  },
  {
   "cell_type": "code",
   "execution_count": 0,
   "metadata": {
    "colab": {
     "base_uri": "https://localhost:8080/",
     "height": 420
    },
    "colab_type": "code",
    "id": "OvuzKcUih3X1",
    "outputId": "2a1c146f-b8e2-4788-d8e7-f18b8e0709a7"
   },
   "outputs": [
    {
     "data": {
      "text/plain": [
       "Index(['DATE', 'REGION', 'SUSPECTED CASES LAST DATE',\n",
       "       'SUSPECTED CASES LAST 24 HRS', 'SUSPECTED CASES CUMULATIVE',\n",
       "       'LAB TESTS LAST 24 HRS', 'LAB TESTS CUMULATIVE',\n",
       "       'CONFIRMED CASES LAST DATE', 'CONFIRMED CASES LAST 24 HRS',\n",
       "       'CONFIRMED CASES CUMULATIVE', 'DEATHS LAST DATE', 'DEATHS LAST 24 HRS',\n",
       "       'DEATHS CUMULATIVE', 'TRANSMISSION TOTAL',\n",
       "       'TRANSMISSION FOREIGN - IRAN', 'TRANSMISSION FOREIGN - IRAN %',\n",
       "       'TRANSMISSION FOREIGN - OTHER', 'TRANSMISSION FOREIGN - OTHER %',\n",
       "       'TRANSMISSION LOCAL - TABLEEGH', 'TRANSMISSION LOCAL % - TABLEEGH',\n",
       "       'TRANSMISSION LOCAL - OTHERS', 'TRANSMISSION LOCAL % - OTHERS',\n",
       "       'TRANSMISSION LOCAL', 'TRANSMISSION LOCAL %', 'TOTAL HOSPITALS',\n",
       "       'BEDS FOR COVID', 'TOTAL ADMITTED', 'ADMITTED STABLE',\n",
       "       'ADMITTED CRITICAL', 'ADMITTED VENILATOR', 'HOME QUARANTINE',\n",
       "       'RECOVERED', 'DEATH', 'QUARANTINE FACILITIES', 'LAST 24 HRS ARRIVAL',\n",
       "       'LAST 24 HRS (LOCATION)', 'LAST 24 HRS DEPARTURE',\n",
       "       'CUMULATIVE QUARANTINED', 'NUMBER OF TESTS', 'RESULTS ACHIEVED',\n",
       "       'TEST POSITIVE CASES', 'TEST POSITIVE CASES %',\n",
       "       'CONFIRMED HW - ACTIVE DOCTORS', 'CONFIRMED HW - ACTIVE NURSES',\n",
       "       'CONFIRMED HW - ACTIVE OTHERS', 'CONFIRMED HW - ACTIVE TOTAL',\n",
       "       'CONFIRMED HW - ACTIVE ISOLATION', 'CONFIRMED HW - ACTIVE HOSPITAL',\n",
       "       'CONFIRMED HW - ACTIVE HOSPITAL STABLE',\n",
       "       'CONFIRMED HW - ACTIVE HOSPITAL VENTILATOR',\n",
       "       'CONFIRMED HW - ACTIVE RECOVERED', 'CONFIRMED HW - ACTIVE DEATHS'],\n",
       "      dtype='object')"
      ]
     },
     "execution_count": 238,
     "metadata": {
      "tags": []
     },
     "output_type": "execute_result"
    }
   ],
   "source": [
    "#Renaming the column and checking it\n",
    "sheet2.rename(columns={'PROVINCE OLD':'REGION'},inplace=True)\n",
    "sheet2.columns"
   ]
  },
  {
   "cell_type": "code",
   "execution_count": 0,
   "metadata": {
    "colab": {
     "base_uri": "https://localhost:8080/",
     "height": 657
    },
    "colab_type": "code",
    "id": "ck5wnxOiiBLL",
    "outputId": "80d8a03c-97fb-4425-cfd2-2cd7e7a1c010"
   },
   "outputs": [
    {
     "data": {
      "text/html": [
       "<div>\n",
       "<style scoped>\n",
       "    .dataframe tbody tr th:only-of-type {\n",
       "        vertical-align: middle;\n",
       "    }\n",
       "\n",
       "    .dataframe tbody tr th {\n",
       "        vertical-align: top;\n",
       "    }\n",
       "\n",
       "    .dataframe thead th {\n",
       "        text-align: right;\n",
       "    }\n",
       "</style>\n",
       "<table border=\"1\" class=\"dataframe\">\n",
       "  <thead>\n",
       "    <tr style=\"text-align: right;\">\n",
       "      <th></th>\n",
       "      <th>DATE</th>\n",
       "      <th>REGION</th>\n",
       "      <th>SUSPECTED CASES LAST DATE</th>\n",
       "      <th>SUSPECTED CASES LAST 24 HRS</th>\n",
       "      <th>SUSPECTED CASES CUMULATIVE</th>\n",
       "      <th>LAB TESTS LAST 24 HRS</th>\n",
       "      <th>LAB TESTS CUMULATIVE</th>\n",
       "      <th>CONFIRMED CASES LAST DATE</th>\n",
       "      <th>CONFIRMED CASES LAST 24 HRS</th>\n",
       "      <th>CONFIRMED CASES CUMULATIVE</th>\n",
       "      <th>DEATHS LAST DATE</th>\n",
       "      <th>DEATHS LAST 24 HRS</th>\n",
       "      <th>DEATHS CUMULATIVE</th>\n",
       "      <th>TRANSMISSION TOTAL</th>\n",
       "      <th>TRANSMISSION FOREIGN - IRAN</th>\n",
       "      <th>TRANSMISSION FOREIGN - IRAN %</th>\n",
       "      <th>TRANSMISSION FOREIGN - OTHER</th>\n",
       "      <th>TRANSMISSION FOREIGN - OTHER %</th>\n",
       "      <th>TRANSMISSION LOCAL - TABLEEGH</th>\n",
       "      <th>TRANSMISSION LOCAL % - TABLEEGH</th>\n",
       "      <th>TRANSMISSION LOCAL - OTHERS</th>\n",
       "      <th>TRANSMISSION LOCAL % - OTHERS</th>\n",
       "      <th>TRANSMISSION LOCAL</th>\n",
       "      <th>TRANSMISSION LOCAL %</th>\n",
       "      <th>TOTAL HOSPITALS</th>\n",
       "      <th>BEDS FOR COVID</th>\n",
       "      <th>TOTAL ADMITTED</th>\n",
       "      <th>ADMITTED STABLE</th>\n",
       "      <th>ADMITTED CRITICAL</th>\n",
       "      <th>ADMITTED VENILATOR</th>\n",
       "      <th>HOME QUARANTINE</th>\n",
       "      <th>RECOVERED</th>\n",
       "      <th>DEATH</th>\n",
       "      <th>QUARANTINE FACILITIES</th>\n",
       "      <th>LAST 24 HRS ARRIVAL</th>\n",
       "      <th>LAST 24 HRS (LOCATION)</th>\n",
       "      <th>LAST 24 HRS DEPARTURE</th>\n",
       "      <th>CUMULATIVE QUARANTINED</th>\n",
       "      <th>NUMBER OF TESTS</th>\n",
       "      <th>RESULTS ACHIEVED</th>\n",
       "      <th>TEST POSITIVE CASES</th>\n",
       "      <th>TEST POSITIVE CASES %</th>\n",
       "      <th>CONFIRMED HW - ACTIVE DOCTORS</th>\n",
       "      <th>CONFIRMED HW - ACTIVE NURSES</th>\n",
       "      <th>CONFIRMED HW - ACTIVE OTHERS</th>\n",
       "      <th>CONFIRMED HW - ACTIVE TOTAL</th>\n",
       "      <th>CONFIRMED HW - ACTIVE ISOLATION</th>\n",
       "      <th>CONFIRMED HW - ACTIVE HOSPITAL</th>\n",
       "      <th>CONFIRMED HW - ACTIVE HOSPITAL STABLE</th>\n",
       "      <th>CONFIRMED HW - ACTIVE HOSPITAL VENTILATOR</th>\n",
       "      <th>CONFIRMED HW - ACTIVE RECOVERED</th>\n",
       "      <th>CONFIRMED HW - ACTIVE DEATHS</th>\n",
       "    </tr>\n",
       "  </thead>\n",
       "  <tbody>\n",
       "    <tr>\n",
       "      <th>0</th>\n",
       "      <td>2020-04-04</td>\n",
       "      <td>AJK</td>\n",
       "      <td>322</td>\n",
       "      <td>21</td>\n",
       "      <td>343</td>\n",
       "      <td>21</td>\n",
       "      <td>343</td>\n",
       "      <td>9</td>\n",
       "      <td>2</td>\n",
       "      <td>11</td>\n",
       "      <td>0</td>\n",
       "      <td>0</td>\n",
       "      <td>0</td>\n",
       "      <td>11</td>\n",
       "      <td>1</td>\n",
       "      <td>0.09</td>\n",
       "      <td>2</td>\n",
       "      <td>0.18</td>\n",
       "      <td>0</td>\n",
       "      <td>0.00</td>\n",
       "      <td>0</td>\n",
       "      <td>0.00</td>\n",
       "      <td>8</td>\n",
       "      <td>0.73</td>\n",
       "      <td>14</td>\n",
       "      <td>262</td>\n",
       "      <td>11</td>\n",
       "      <td>11</td>\n",
       "      <td>0</td>\n",
       "      <td>0</td>\n",
       "      <td>0</td>\n",
       "      <td>0</td>\n",
       "      <td>0</td>\n",
       "      <td>57</td>\n",
       "      <td>10</td>\n",
       "      <td>0</td>\n",
       "      <td>61</td>\n",
       "      <td>192</td>\n",
       "      <td>107</td>\n",
       "      <td>102</td>\n",
       "      <td>5</td>\n",
       "      <td>0.05</td>\n",
       "      <td>0</td>\n",
       "      <td>0</td>\n",
       "      <td>0</td>\n",
       "      <td>0</td>\n",
       "      <td>0</td>\n",
       "      <td>0</td>\n",
       "      <td>0</td>\n",
       "      <td>0</td>\n",
       "      <td>0</td>\n",
       "      <td>0</td>\n",
       "    </tr>\n",
       "    <tr>\n",
       "      <th>1</th>\n",
       "      <td>2020-04-04</td>\n",
       "      <td>Balochistan</td>\n",
       "      <td>2171</td>\n",
       "      <td>230</td>\n",
       "      <td>2401</td>\n",
       "      <td>0</td>\n",
       "      <td>2401</td>\n",
       "      <td>169</td>\n",
       "      <td>6</td>\n",
       "      <td>175</td>\n",
       "      <td>1</td>\n",
       "      <td>0</td>\n",
       "      <td>1</td>\n",
       "      <td>175</td>\n",
       "      <td>139</td>\n",
       "      <td>0.79</td>\n",
       "      <td>2</td>\n",
       "      <td>0.01</td>\n",
       "      <td>0</td>\n",
       "      <td>0.00</td>\n",
       "      <td>0</td>\n",
       "      <td>0.00</td>\n",
       "      <td>34</td>\n",
       "      <td>0.19</td>\n",
       "      <td>74</td>\n",
       "      <td>1699</td>\n",
       "      <td>132</td>\n",
       "      <td>132</td>\n",
       "      <td>0</td>\n",
       "      <td>0</td>\n",
       "      <td>25</td>\n",
       "      <td>17</td>\n",
       "      <td>1</td>\n",
       "      <td>68</td>\n",
       "      <td>17</td>\n",
       "      <td>0</td>\n",
       "      <td>0</td>\n",
       "      <td>273</td>\n",
       "      <td>230</td>\n",
       "      <td>230</td>\n",
       "      <td>6</td>\n",
       "      <td>0.03</td>\n",
       "      <td>0</td>\n",
       "      <td>0</td>\n",
       "      <td>0</td>\n",
       "      <td>0</td>\n",
       "      <td>0</td>\n",
       "      <td>0</td>\n",
       "      <td>0</td>\n",
       "      <td>0</td>\n",
       "      <td>0</td>\n",
       "      <td>0</td>\n",
       "    </tr>\n",
       "    <tr>\n",
       "      <th>2</th>\n",
       "      <td>2020-04-04</td>\n",
       "      <td>GB</td>\n",
       "      <td>961</td>\n",
       "      <td>2</td>\n",
       "      <td>963</td>\n",
       "      <td>844</td>\n",
       "      <td>860</td>\n",
       "      <td>190</td>\n",
       "      <td>3</td>\n",
       "      <td>193</td>\n",
       "      <td>3</td>\n",
       "      <td>0</td>\n",
       "      <td>3</td>\n",
       "      <td>193</td>\n",
       "      <td>155</td>\n",
       "      <td>0.80</td>\n",
       "      <td>5</td>\n",
       "      <td>0.03</td>\n",
       "      <td>0</td>\n",
       "      <td>0.00</td>\n",
       "      <td>0</td>\n",
       "      <td>0.00</td>\n",
       "      <td>33</td>\n",
       "      <td>0.17</td>\n",
       "      <td>26</td>\n",
       "      <td>151</td>\n",
       "      <td>12</td>\n",
       "      <td>12</td>\n",
       "      <td>0</td>\n",
       "      <td>0</td>\n",
       "      <td>169</td>\n",
       "      <td>9</td>\n",
       "      <td>3</td>\n",
       "      <td>47</td>\n",
       "      <td>0</td>\n",
       "      <td>0</td>\n",
       "      <td>232</td>\n",
       "      <td>274</td>\n",
       "      <td>963</td>\n",
       "      <td>860</td>\n",
       "      <td>193</td>\n",
       "      <td>0.23</td>\n",
       "      <td>0</td>\n",
       "      <td>0</td>\n",
       "      <td>0</td>\n",
       "      <td>0</td>\n",
       "      <td>0</td>\n",
       "      <td>0</td>\n",
       "      <td>0</td>\n",
       "      <td>0</td>\n",
       "      <td>0</td>\n",
       "      <td>0</td>\n",
       "    </tr>\n",
       "    <tr>\n",
       "      <th>3</th>\n",
       "      <td>2020-04-04</td>\n",
       "      <td>ICT</td>\n",
       "      <td>2395</td>\n",
       "      <td>174</td>\n",
       "      <td>2569</td>\n",
       "      <td>174</td>\n",
       "      <td>2569</td>\n",
       "      <td>68</td>\n",
       "      <td>7</td>\n",
       "      <td>75</td>\n",
       "      <td>0</td>\n",
       "      <td>0</td>\n",
       "      <td>0</td>\n",
       "      <td>75</td>\n",
       "      <td>0</td>\n",
       "      <td>0.00</td>\n",
       "      <td>17</td>\n",
       "      <td>0.23</td>\n",
       "      <td>0</td>\n",
       "      <td>0.00</td>\n",
       "      <td>0</td>\n",
       "      <td>0.00</td>\n",
       "      <td>58</td>\n",
       "      <td>0.77</td>\n",
       "      <td>2</td>\n",
       "      <td>40</td>\n",
       "      <td>14</td>\n",
       "      <td>12</td>\n",
       "      <td>2</td>\n",
       "      <td>0</td>\n",
       "      <td>58</td>\n",
       "      <td>3</td>\n",
       "      <td>0</td>\n",
       "      <td>6</td>\n",
       "      <td>213</td>\n",
       "      <td>0</td>\n",
       "      <td>0</td>\n",
       "      <td>243</td>\n",
       "      <td>213</td>\n",
       "      <td>27</td>\n",
       "      <td>2</td>\n",
       "      <td>0.07</td>\n",
       "      <td>0</td>\n",
       "      <td>0</td>\n",
       "      <td>0</td>\n",
       "      <td>0</td>\n",
       "      <td>0</td>\n",
       "      <td>0</td>\n",
       "      <td>0</td>\n",
       "      <td>0</td>\n",
       "      <td>0</td>\n",
       "      <td>0</td>\n",
       "    </tr>\n",
       "    <tr>\n",
       "      <th>4</th>\n",
       "      <td>2020-04-04</td>\n",
       "      <td>KP</td>\n",
       "      <td>1938</td>\n",
       "      <td>431</td>\n",
       "      <td>2369</td>\n",
       "      <td>181</td>\n",
       "      <td>1624</td>\n",
       "      <td>311</td>\n",
       "      <td>32</td>\n",
       "      <td>343</td>\n",
       "      <td>9</td>\n",
       "      <td>2</td>\n",
       "      <td>11</td>\n",
       "      <td>343</td>\n",
       "      <td>69</td>\n",
       "      <td>0.20</td>\n",
       "      <td>163</td>\n",
       "      <td>0.48</td>\n",
       "      <td>0</td>\n",
       "      <td>0.00</td>\n",
       "      <td>0</td>\n",
       "      <td>0.00</td>\n",
       "      <td>111</td>\n",
       "      <td>0.32</td>\n",
       "      <td>141</td>\n",
       "      <td>3046</td>\n",
       "      <td>92</td>\n",
       "      <td>87</td>\n",
       "      <td>5</td>\n",
       "      <td>0</td>\n",
       "      <td>210</td>\n",
       "      <td>30</td>\n",
       "      <td>11</td>\n",
       "      <td>102</td>\n",
       "      <td>113</td>\n",
       "      <td>0</td>\n",
       "      <td>140</td>\n",
       "      <td>3306</td>\n",
       "      <td>1640</td>\n",
       "      <td>1011</td>\n",
       "      <td>293</td>\n",
       "      <td>0.29</td>\n",
       "      <td>0</td>\n",
       "      <td>0</td>\n",
       "      <td>0</td>\n",
       "      <td>0</td>\n",
       "      <td>0</td>\n",
       "      <td>0</td>\n",
       "      <td>0</td>\n",
       "      <td>0</td>\n",
       "      <td>0</td>\n",
       "      <td>0</td>\n",
       "    </tr>\n",
       "    <tr>\n",
       "      <th>...</th>\n",
       "      <td>...</td>\n",
       "      <td>...</td>\n",
       "      <td>...</td>\n",
       "      <td>...</td>\n",
       "      <td>...</td>\n",
       "      <td>...</td>\n",
       "      <td>...</td>\n",
       "      <td>...</td>\n",
       "      <td>...</td>\n",
       "      <td>...</td>\n",
       "      <td>...</td>\n",
       "      <td>...</td>\n",
       "      <td>...</td>\n",
       "      <td>...</td>\n",
       "      <td>...</td>\n",
       "      <td>...</td>\n",
       "      <td>...</td>\n",
       "      <td>...</td>\n",
       "      <td>...</td>\n",
       "      <td>...</td>\n",
       "      <td>...</td>\n",
       "      <td>...</td>\n",
       "      <td>...</td>\n",
       "      <td>...</td>\n",
       "      <td>...</td>\n",
       "      <td>...</td>\n",
       "      <td>...</td>\n",
       "      <td>...</td>\n",
       "      <td>...</td>\n",
       "      <td>...</td>\n",
       "      <td>...</td>\n",
       "      <td>...</td>\n",
       "      <td>...</td>\n",
       "      <td>...</td>\n",
       "      <td>...</td>\n",
       "      <td>...</td>\n",
       "      <td>...</td>\n",
       "      <td>...</td>\n",
       "      <td>...</td>\n",
       "      <td>...</td>\n",
       "      <td>...</td>\n",
       "      <td>...</td>\n",
       "      <td>...</td>\n",
       "      <td>...</td>\n",
       "      <td>...</td>\n",
       "      <td>...</td>\n",
       "      <td>...</td>\n",
       "      <td>...</td>\n",
       "      <td>...</td>\n",
       "      <td>...</td>\n",
       "      <td>...</td>\n",
       "      <td>...</td>\n",
       "    </tr>\n",
       "    <tr>\n",
       "      <th>149</th>\n",
       "      <td>2020-04-25</td>\n",
       "      <td>GB</td>\n",
       "      <td>3434</td>\n",
       "      <td>157</td>\n",
       "      <td>3591</td>\n",
       "      <td>111</td>\n",
       "      <td>3273</td>\n",
       "      <td>307</td>\n",
       "      <td>1</td>\n",
       "      <td>308</td>\n",
       "      <td>3</td>\n",
       "      <td>0</td>\n",
       "      <td>3</td>\n",
       "      <td>308</td>\n",
       "      <td>166</td>\n",
       "      <td>0.54</td>\n",
       "      <td>5</td>\n",
       "      <td>0.02</td>\n",
       "      <td>26</td>\n",
       "      <td>0.08</td>\n",
       "      <td>111</td>\n",
       "      <td>0.36</td>\n",
       "      <td>137</td>\n",
       "      <td>0.44</td>\n",
       "      <td>26</td>\n",
       "      <td>151</td>\n",
       "      <td>10</td>\n",
       "      <td>10</td>\n",
       "      <td>0</td>\n",
       "      <td>0</td>\n",
       "      <td>79</td>\n",
       "      <td>216</td>\n",
       "      <td>3</td>\n",
       "      <td>43</td>\n",
       "      <td>18</td>\n",
       "      <td>0</td>\n",
       "      <td>7</td>\n",
       "      <td>116</td>\n",
       "      <td>3591</td>\n",
       "      <td>3273</td>\n",
       "      <td>308</td>\n",
       "      <td>0.09</td>\n",
       "      <td>1</td>\n",
       "      <td>0</td>\n",
       "      <td>16</td>\n",
       "      <td>17</td>\n",
       "      <td>0</td>\n",
       "      <td>14</td>\n",
       "      <td>14</td>\n",
       "      <td>0</td>\n",
       "      <td>1</td>\n",
       "      <td>2</td>\n",
       "    </tr>\n",
       "    <tr>\n",
       "      <th>150</th>\n",
       "      <td>2020-04-25</td>\n",
       "      <td>ICT</td>\n",
       "      <td>8059</td>\n",
       "      <td>396</td>\n",
       "      <td>8455</td>\n",
       "      <td>396</td>\n",
       "      <td>8455</td>\n",
       "      <td>223</td>\n",
       "      <td>12</td>\n",
       "      <td>235</td>\n",
       "      <td>3</td>\n",
       "      <td>0</td>\n",
       "      <td>3</td>\n",
       "      <td>235</td>\n",
       "      <td>0</td>\n",
       "      <td>0.00</td>\n",
       "      <td>18</td>\n",
       "      <td>0.08</td>\n",
       "      <td>12</td>\n",
       "      <td>0.05</td>\n",
       "      <td>205</td>\n",
       "      <td>0.87</td>\n",
       "      <td>217</td>\n",
       "      <td>0.92</td>\n",
       "      <td>22</td>\n",
       "      <td>358</td>\n",
       "      <td>15</td>\n",
       "      <td>13</td>\n",
       "      <td>2</td>\n",
       "      <td>0</td>\n",
       "      <td>188</td>\n",
       "      <td>29</td>\n",
       "      <td>3</td>\n",
       "      <td>16</td>\n",
       "      <td>0</td>\n",
       "      <td>0</td>\n",
       "      <td>0</td>\n",
       "      <td>295</td>\n",
       "      <td>2576</td>\n",
       "      <td>2576</td>\n",
       "      <td>34</td>\n",
       "      <td>0.01</td>\n",
       "      <td>14</td>\n",
       "      <td>7</td>\n",
       "      <td>12</td>\n",
       "      <td>33</td>\n",
       "      <td>27</td>\n",
       "      <td>1</td>\n",
       "      <td>1</td>\n",
       "      <td>0</td>\n",
       "      <td>4</td>\n",
       "      <td>1</td>\n",
       "    </tr>\n",
       "    <tr>\n",
       "      <th>151</th>\n",
       "      <td>2020-04-25</td>\n",
       "      <td>KP</td>\n",
       "      <td>12100</td>\n",
       "      <td>821</td>\n",
       "      <td>12921</td>\n",
       "      <td>821</td>\n",
       "      <td>13930</td>\n",
       "      <td>1708</td>\n",
       "      <td>85</td>\n",
       "      <td>1793</td>\n",
       "      <td>89</td>\n",
       "      <td>4</td>\n",
       "      <td>93</td>\n",
       "      <td>1793</td>\n",
       "      <td>70</td>\n",
       "      <td>0.04</td>\n",
       "      <td>311</td>\n",
       "      <td>0.17</td>\n",
       "      <td>282</td>\n",
       "      <td>0.16</td>\n",
       "      <td>1130</td>\n",
       "      <td>0.63</td>\n",
       "      <td>1412</td>\n",
       "      <td>0.79</td>\n",
       "      <td>200</td>\n",
       "      <td>4093</td>\n",
       "      <td>455</td>\n",
       "      <td>405</td>\n",
       "      <td>40</td>\n",
       "      <td>10</td>\n",
       "      <td>760</td>\n",
       "      <td>485</td>\n",
       "      <td>93</td>\n",
       "      <td>279</td>\n",
       "      <td>752</td>\n",
       "      <td>0</td>\n",
       "      <td>163</td>\n",
       "      <td>1200</td>\n",
       "      <td>1730</td>\n",
       "      <td>1730</td>\n",
       "      <td>206</td>\n",
       "      <td>0.12</td>\n",
       "      <td>36</td>\n",
       "      <td>6</td>\n",
       "      <td>34</td>\n",
       "      <td>76</td>\n",
       "      <td>58</td>\n",
       "      <td>2</td>\n",
       "      <td>2</td>\n",
       "      <td>0</td>\n",
       "      <td>15</td>\n",
       "      <td>1</td>\n",
       "    </tr>\n",
       "    <tr>\n",
       "      <th>152</th>\n",
       "      <td>2020-04-25</td>\n",
       "      <td>Punjab</td>\n",
       "      <td>41126</td>\n",
       "      <td>1330</td>\n",
       "      <td>42456</td>\n",
       "      <td>1755</td>\n",
       "      <td>71726</td>\n",
       "      <td>5046</td>\n",
       "      <td>332</td>\n",
       "      <td>5378</td>\n",
       "      <td>73</td>\n",
       "      <td>8</td>\n",
       "      <td>81</td>\n",
       "      <td>5378</td>\n",
       "      <td>768</td>\n",
       "      <td>0.14</td>\n",
       "      <td>499</td>\n",
       "      <td>0.09</td>\n",
       "      <td>1922</td>\n",
       "      <td>0.36</td>\n",
       "      <td>2189</td>\n",
       "      <td>0.41</td>\n",
       "      <td>4111</td>\n",
       "      <td>0.76</td>\n",
       "      <td>188</td>\n",
       "      <td>2674</td>\n",
       "      <td>1594</td>\n",
       "      <td>1566</td>\n",
       "      <td>3</td>\n",
       "      <td>25</td>\n",
       "      <td>2577</td>\n",
       "      <td>1126</td>\n",
       "      <td>81</td>\n",
       "      <td>233</td>\n",
       "      <td>0</td>\n",
       "      <td>0</td>\n",
       "      <td>0</td>\n",
       "      <td>5165</td>\n",
       "      <td>15490</td>\n",
       "      <td>12633</td>\n",
       "      <td>2840</td>\n",
       "      <td>0.22</td>\n",
       "      <td>55</td>\n",
       "      <td>16</td>\n",
       "      <td>22</td>\n",
       "      <td>93</td>\n",
       "      <td>8</td>\n",
       "      <td>50</td>\n",
       "      <td>50</td>\n",
       "      <td>0</td>\n",
       "      <td>35</td>\n",
       "      <td>0</td>\n",
       "    </tr>\n",
       "    <tr>\n",
       "      <th>153</th>\n",
       "      <td>2020-04-25</td>\n",
       "      <td>Sindh</td>\n",
       "      <td>35582</td>\n",
       "      <td>2599</td>\n",
       "      <td>38181</td>\n",
       "      <td>2599</td>\n",
       "      <td>38181</td>\n",
       "      <td>3945</td>\n",
       "      <td>287</td>\n",
       "      <td>4232</td>\n",
       "      <td>75</td>\n",
       "      <td>3</td>\n",
       "      <td>78</td>\n",
       "      <td>4232</td>\n",
       "      <td>280</td>\n",
       "      <td>0.07</td>\n",
       "      <td>196</td>\n",
       "      <td>0.05</td>\n",
       "      <td>765</td>\n",
       "      <td>0.18</td>\n",
       "      <td>2991</td>\n",
       "      <td>0.71</td>\n",
       "      <td>3756</td>\n",
       "      <td>0.89</td>\n",
       "      <td>169</td>\n",
       "      <td>4688</td>\n",
       "      <td>1206</td>\n",
       "      <td>1162</td>\n",
       "      <td>30</td>\n",
       "      <td>14</td>\n",
       "      <td>2146</td>\n",
       "      <td>802</td>\n",
       "      <td>78</td>\n",
       "      <td>17</td>\n",
       "      <td>0</td>\n",
       "      <td>0</td>\n",
       "      <td>0</td>\n",
       "      <td>765</td>\n",
       "      <td>7569</td>\n",
       "      <td>7569</td>\n",
       "      <td>1191</td>\n",
       "      <td>0.16</td>\n",
       "      <td>29</td>\n",
       "      <td>17</td>\n",
       "      <td>31</td>\n",
       "      <td>77</td>\n",
       "      <td>0</td>\n",
       "      <td>62</td>\n",
       "      <td>62</td>\n",
       "      <td>0</td>\n",
       "      <td>15</td>\n",
       "      <td>0</td>\n",
       "    </tr>\n",
       "  </tbody>\n",
       "</table>\n",
       "<p>154 rows × 52 columns</p>\n",
       "</div>"
      ],
      "text/plain": [
       "           DATE  ... CONFIRMED HW - ACTIVE DEATHS\n",
       "0    2020-04-04  ...                            0\n",
       "1    2020-04-04  ...                            0\n",
       "2    2020-04-04  ...                            0\n",
       "3    2020-04-04  ...                            0\n",
       "4    2020-04-04  ...                            0\n",
       "..          ...  ...                          ...\n",
       "149  2020-04-25  ...                            2\n",
       "150  2020-04-25  ...                            1\n",
       "151  2020-04-25  ...                            1\n",
       "152  2020-04-25  ...                            0\n",
       "153  2020-04-25  ...                            0\n",
       "\n",
       "[154 rows x 52 columns]"
      ]
     },
     "execution_count": 239,
     "metadata": {
      "tags": []
     },
     "output_type": "execute_result"
    }
   ],
   "source": [
    "#Again displaying the sheet2\n",
    "sheet2"
   ]
  },
  {
   "cell_type": "markdown",
   "metadata": {
    "colab_type": "text",
    "id": "fikRsfxriKCw"
   },
   "source": [
    "# **SHEET 3**"
   ]
  },
  {
   "cell_type": "code",
   "execution_count": 0,
   "metadata": {
    "colab": {
     "base_uri": "https://localhost:8080/"
    },
    "colab_type": "code",
    "id": "1_spHUeNiHkw",
    "outputId": "6ae873f1-0374-46be-a646-97a2ee312a60"
   },
   "outputs": [
    {
     "data": {
      "text/plain": [
       "Date                                                     0\n",
       "Cumulative travelers Screened                            0\n",
       "Suspected at Points of Entry                             0\n",
       "Travelers Screened at Points ofEntry in last 24 hours    0\n",
       "dtype: int64"
      ]
     },
     "execution_count": 240,
     "metadata": {
      "tags": []
     },
     "output_type": "execute_result"
    }
   ],
   "source": [
    "#Checking for any empty spaces in the sheet\n",
    "sheet3.isnull().sum()"
   ]
  },
  {
   "cell_type": "code",
   "execution_count": 0,
   "metadata": {
    "colab": {
     "base_uri": "https://localhost:8080/"
    },
    "colab_type": "code",
    "id": "9GkWoHiKiWQ5",
    "outputId": "3cda9b85-0e13-44ee-f7fc-c40152942f54"
   },
   "outputs": [
    {
     "data": {
      "text/plain": [
       "Date                                                     object\n",
       "Cumulative travelers Screened                             int64\n",
       "Suspected at Points of Entry                              int64\n",
       "Travelers Screened at Points ofEntry in last 24 hours     int64\n",
       "dtype: object"
      ]
     },
     "execution_count": 241,
     "metadata": {
      "tags": []
     },
     "output_type": "execute_result"
    }
   ],
   "source": [
    "#Now checking the datatypes \n",
    "sheet3.dtypes"
   ]
  },
  {
   "cell_type": "code",
   "execution_count": 0,
   "metadata": {
    "colab": {
     "base_uri": "https://localhost:8080/"
    },
    "colab_type": "code",
    "id": "PW9kLM16iciw",
    "outputId": "48b6cfac-b287-4e69-dcc8-0511c10da560"
   },
   "outputs": [
    {
     "data": {
      "text/plain": [
       "Index(['DATE', 'CUMULATIVE TRAVELERS SCREENED', 'SUSPECTED AT POINTS OF ENTRY',\n",
       "       'TRAVELERS SCREENED AT POINTS OFENTRY IN LAST 24 HOURS'],\n",
       "      dtype='object')"
      ]
     },
     "execution_count": 242,
     "metadata": {
      "tags": []
     },
     "output_type": "execute_result"
    }
   ],
   "source": [
    "#Changing column names to uppercase\n",
    "sheet3.columns=sheet3.columns.str.upper().str.strip()\n",
    "sheet3.columns"
   ]
  },
  {
   "cell_type": "code",
   "execution_count": 0,
   "metadata": {
    "colab": {
     "base_uri": "https://localhost:8080/"
    },
    "colab_type": "code",
    "id": "zrkiel-jijjb",
    "outputId": "823631df-3b3c-42f6-cadb-e337a3287ad4"
   },
   "outputs": [
    {
     "data": {
      "text/plain": [
       "datetime.datetime(2020, 3, 31, 0, 0)"
      ]
     },
     "execution_count": 243,
     "metadata": {
      "tags": []
     },
     "output_type": "execute_result"
    }
   ],
   "source": [
    "#Checking the date syntax\n",
    "sheet3['DATE'][20]"
   ]
  },
  {
   "cell_type": "code",
   "execution_count": 0,
   "metadata": {
    "colab": {
     "base_uri": "https://localhost:8080/"
    },
    "colab_type": "code",
    "id": "mGKbylUJioEq",
    "outputId": "8e63234f-25c0-4fea-e7e8-8def2b3d807c"
   },
   "outputs": [
    {
     "data": {
      "text/plain": [
       "datetime.date(2020, 3, 31)"
      ]
     },
     "execution_count": 244,
     "metadata": {
      "tags": []
     },
     "output_type": "execute_result"
    }
   ],
   "source": [
    "#Changing syntax of date\n",
    "sheet3['DATE']=pd.to_datetime(sheet3['DATE']).dt.date\n",
    "sheet3['DATE'][20]"
   ]
  },
  {
   "cell_type": "code",
   "execution_count": 0,
   "metadata": {
    "colab": {
     "base_uri": "https://localhost:8080/"
    },
    "colab_type": "code",
    "id": "Jii5a4HgiyNy",
    "outputId": "d348733e-f4ff-4bb1-9651-10dfbab2ce68"
   },
   "outputs": [
    {
     "data": {
      "text/plain": [
       "DATE                                                     object\n",
       "CUMULATIVE TRAVELERS SCREENED                             int64\n",
       "SUSPECTED AT POINTS OF ENTRY                              int64\n",
       "TRAVELERS SCREENED AT POINTS OFENTRY IN LAST 24 HOURS     int64\n",
       "dtype: object"
      ]
     },
     "execution_count": 245,
     "metadata": {
      "tags": []
     },
     "output_type": "execute_result"
    }
   ],
   "source": [
    "#Now displaying the datatypes\n",
    "sheet3.dtypes"
   ]
  },
  {
   "cell_type": "code",
   "execution_count": 0,
   "metadata": {
    "colab": {
     "base_uri": "https://localhost:8080/"
    },
    "colab_type": "code",
    "id": "-2L8aaTqi4I1",
    "outputId": "d14c11cd-7dd2-4a71-d987-8ea577acf204"
   },
   "outputs": [
    {
     "data": {
      "text/html": [
       "<div>\n",
       "<style scoped>\n",
       "    .dataframe tbody tr th:only-of-type {\n",
       "        vertical-align: middle;\n",
       "    }\n",
       "\n",
       "    .dataframe tbody tr th {\n",
       "        vertical-align: top;\n",
       "    }\n",
       "\n",
       "    .dataframe thead th {\n",
       "        text-align: right;\n",
       "    }\n",
       "</style>\n",
       "<table border=\"1\" class=\"dataframe\">\n",
       "  <thead>\n",
       "    <tr style=\"text-align: right;\">\n",
       "      <th></th>\n",
       "      <th>DATE</th>\n",
       "      <th>CUMULATIVE TRAVELERS SCREENED</th>\n",
       "      <th>SUSPECTED AT POINTS OF ENTRY</th>\n",
       "      <th>TRAVELERS SCREENED AT POINTS OFENTRY IN LAST 24 HOURS</th>\n",
       "    </tr>\n",
       "  </thead>\n",
       "  <tbody>\n",
       "    <tr>\n",
       "      <th>0</th>\n",
       "      <td>2020-03-11</td>\n",
       "      <td>873288</td>\n",
       "      <td>26</td>\n",
       "      <td>21102</td>\n",
       "    </tr>\n",
       "    <tr>\n",
       "      <th>1</th>\n",
       "      <td>2020-03-12</td>\n",
       "      <td>894256</td>\n",
       "      <td>29</td>\n",
       "      <td>20968</td>\n",
       "    </tr>\n",
       "    <tr>\n",
       "      <th>2</th>\n",
       "      <td>2020-03-13</td>\n",
       "      <td>913542</td>\n",
       "      <td>33</td>\n",
       "      <td>19286</td>\n",
       "    </tr>\n",
       "    <tr>\n",
       "      <th>3</th>\n",
       "      <td>2020-03-14</td>\n",
       "      <td>933970</td>\n",
       "      <td>43</td>\n",
       "      <td>20428</td>\n",
       "    </tr>\n",
       "    <tr>\n",
       "      <th>4</th>\n",
       "      <td>2020-03-15</td>\n",
       "      <td>954646</td>\n",
       "      <td>59</td>\n",
       "      <td>20676</td>\n",
       "    </tr>\n",
       "    <tr>\n",
       "      <th>5</th>\n",
       "      <td>2020-03-16</td>\n",
       "      <td>975634</td>\n",
       "      <td>74</td>\n",
       "      <td>20988</td>\n",
       "    </tr>\n",
       "    <tr>\n",
       "      <th>6</th>\n",
       "      <td>2020-03-17</td>\n",
       "      <td>995821</td>\n",
       "      <td>95</td>\n",
       "      <td>20187</td>\n",
       "    </tr>\n",
       "    <tr>\n",
       "      <th>7</th>\n",
       "      <td>2020-03-18</td>\n",
       "      <td>1015909</td>\n",
       "      <td>115</td>\n",
       "      <td>20088</td>\n",
       "    </tr>\n",
       "    <tr>\n",
       "      <th>8</th>\n",
       "      <td>2020-03-19</td>\n",
       "      <td>1033884</td>\n",
       "      <td>151</td>\n",
       "      <td>17975</td>\n",
       "    </tr>\n",
       "    <tr>\n",
       "      <th>9</th>\n",
       "      <td>2020-03-20</td>\n",
       "      <td>1049282</td>\n",
       "      <td>170</td>\n",
       "      <td>15398</td>\n",
       "    </tr>\n",
       "    <tr>\n",
       "      <th>10</th>\n",
       "      <td>2020-03-21</td>\n",
       "      <td>1063193</td>\n",
       "      <td>186</td>\n",
       "      <td>13911</td>\n",
       "    </tr>\n",
       "    <tr>\n",
       "      <th>11</th>\n",
       "      <td>2020-03-22</td>\n",
       "      <td>1077632</td>\n",
       "      <td>202</td>\n",
       "      <td>14439</td>\n",
       "    </tr>\n",
       "    <tr>\n",
       "      <th>12</th>\n",
       "      <td>2020-03-23</td>\n",
       "      <td>1089933</td>\n",
       "      <td>217</td>\n",
       "      <td>12301</td>\n",
       "    </tr>\n",
       "    <tr>\n",
       "      <th>13</th>\n",
       "      <td>2020-03-24</td>\n",
       "      <td>1102234</td>\n",
       "      <td>232</td>\n",
       "      <td>12301</td>\n",
       "    </tr>\n",
       "    <tr>\n",
       "      <th>14</th>\n",
       "      <td>2020-03-25</td>\n",
       "      <td>1102383</td>\n",
       "      <td>234</td>\n",
       "      <td>149</td>\n",
       "    </tr>\n",
       "    <tr>\n",
       "      <th>15</th>\n",
       "      <td>2020-03-26</td>\n",
       "      <td>1102383</td>\n",
       "      <td>234</td>\n",
       "      <td>0</td>\n",
       "    </tr>\n",
       "    <tr>\n",
       "      <th>16</th>\n",
       "      <td>2020-03-27</td>\n",
       "      <td>1102383</td>\n",
       "      <td>234</td>\n",
       "      <td>0</td>\n",
       "    </tr>\n",
       "    <tr>\n",
       "      <th>17</th>\n",
       "      <td>2020-03-28</td>\n",
       "      <td>1102383</td>\n",
       "      <td>234</td>\n",
       "      <td>0</td>\n",
       "    </tr>\n",
       "    <tr>\n",
       "      <th>18</th>\n",
       "      <td>2020-03-29</td>\n",
       "      <td>1102383</td>\n",
       "      <td>234</td>\n",
       "      <td>0</td>\n",
       "    </tr>\n",
       "    <tr>\n",
       "      <th>19</th>\n",
       "      <td>2020-03-30</td>\n",
       "      <td>1102562</td>\n",
       "      <td>234</td>\n",
       "      <td>0</td>\n",
       "    </tr>\n",
       "    <tr>\n",
       "      <th>20</th>\n",
       "      <td>2020-03-31</td>\n",
       "      <td>1102562</td>\n",
       "      <td>234</td>\n",
       "      <td>0</td>\n",
       "    </tr>\n",
       "    <tr>\n",
       "      <th>21</th>\n",
       "      <td>2020-04-01</td>\n",
       "      <td>1102562</td>\n",
       "      <td>234</td>\n",
       "      <td>0</td>\n",
       "    </tr>\n",
       "    <tr>\n",
       "      <th>22</th>\n",
       "      <td>2020-04-02</td>\n",
       "      <td>1102562</td>\n",
       "      <td>234</td>\n",
       "      <td>0</td>\n",
       "    </tr>\n",
       "    <tr>\n",
       "      <th>23</th>\n",
       "      <td>2020-04-03</td>\n",
       "      <td>1102562</td>\n",
       "      <td>234</td>\n",
       "      <td>0</td>\n",
       "    </tr>\n",
       "  </tbody>\n",
       "</table>\n",
       "</div>"
      ],
      "text/plain": [
       "          DATE  ...  TRAVELERS SCREENED AT POINTS OFENTRY IN LAST 24 HOURS\n",
       "0   2020-03-11  ...                                              21102    \n",
       "1   2020-03-12  ...                                              20968    \n",
       "2   2020-03-13  ...                                              19286    \n",
       "3   2020-03-14  ...                                              20428    \n",
       "4   2020-03-15  ...                                              20676    \n",
       "5   2020-03-16  ...                                              20988    \n",
       "6   2020-03-17  ...                                              20187    \n",
       "7   2020-03-18  ...                                              20088    \n",
       "8   2020-03-19  ...                                              17975    \n",
       "9   2020-03-20  ...                                              15398    \n",
       "10  2020-03-21  ...                                              13911    \n",
       "11  2020-03-22  ...                                              14439    \n",
       "12  2020-03-23  ...                                              12301    \n",
       "13  2020-03-24  ...                                              12301    \n",
       "14  2020-03-25  ...                                                149    \n",
       "15  2020-03-26  ...                                                  0    \n",
       "16  2020-03-27  ...                                                  0    \n",
       "17  2020-03-28  ...                                                  0    \n",
       "18  2020-03-29  ...                                                  0    \n",
       "19  2020-03-30  ...                                                  0    \n",
       "20  2020-03-31  ...                                                  0    \n",
       "21  2020-04-01  ...                                                  0    \n",
       "22  2020-04-02  ...                                                  0    \n",
       "23  2020-04-03  ...                                                  0    \n",
       "\n",
       "[24 rows x 4 columns]"
      ]
     },
     "execution_count": 246,
     "metadata": {
      "tags": []
     },
     "output_type": "execute_result"
    }
   ],
   "source": [
    "#Displaying the sheet3\n",
    "sheet3"
   ]
  },
  {
   "cell_type": "markdown",
   "metadata": {
    "colab_type": "text",
    "id": "wLs4sZnMjBmD"
   },
   "source": [
    "# **SHEET 4**"
   ]
  },
  {
   "cell_type": "code",
   "execution_count": 0,
   "metadata": {
    "colab": {
     "base_uri": "https://localhost:8080/"
    },
    "colab_type": "code",
    "id": "TaXor3Z4i9x5",
    "outputId": "ebb2bc46-8053-40ad-94f4-9aa2e35800f4"
   },
   "outputs": [
    {
     "data": {
      "text/plain": [
       "Returnees                           0\n",
       "Advised Self-Quarantine             0\n",
       "Cumulative no offirst-time calls    0\n",
       "Cumulativefollow-up calls           0\n",
       "Date                                0\n",
       "First-time calls inpast 24 hrs      0\n",
       "Follow-up calls inpast 24 hrs       0\n",
       "dtype: int64"
      ]
     },
     "execution_count": 247,
     "metadata": {
      "tags": []
     },
     "output_type": "execute_result"
    }
   ],
   "source": [
    "#Checking any empty spaces in the sheet\n",
    "sheet4.isnull().sum() "
   ]
  },
  {
   "cell_type": "code",
   "execution_count": 0,
   "metadata": {
    "colab": {
     "base_uri": "https://localhost:8080/"
    },
    "colab_type": "code",
    "id": "bQqgQx1bjRGL",
    "outputId": "33e25d9d-f441-4e38-cb4a-7c338f5a6bfb"
   },
   "outputs": [
    {
     "data": {
      "text/plain": [
       "Returnees                           object\n",
       "Advised Self-Quarantine              int64\n",
       "Cumulative no offirst-time calls     int64\n",
       "Cumulativefollow-up calls            int64\n",
       "Date                                object\n",
       "First-time calls inpast 24 hrs       int64\n",
       "Follow-up calls inpast 24 hrs        int64\n",
       "dtype: object"
      ]
     },
     "execution_count": 248,
     "metadata": {
      "tags": []
     },
     "output_type": "execute_result"
    }
   ],
   "source": [
    "#Checking the datatypes\n",
    "sheet4.dtypes"
   ]
  },
  {
   "cell_type": "code",
   "execution_count": 0,
   "metadata": {
    "colab": {
     "base_uri": "https://localhost:8080/"
    },
    "colab_type": "code",
    "id": "KFJTiQPwjc85",
    "outputId": "9e72ba5f-25af-4514-be55-0a1147426bd2"
   },
   "outputs": [
    {
     "data": {
      "text/plain": [
       "Index(['RETURNEES', 'ADVISED SELF-QUARANTINE',\n",
       "       'CUMULATIVE NO OFFIRST-TIME CALLS', 'CUMULATIVEFOLLOW-UP CALLS', 'DATE',\n",
       "       'FIRST-TIME CALLS INPAST 24 HRS', 'FOLLOW-UP CALLS INPAST 24 HRS'],\n",
       "      dtype='object')"
      ]
     },
     "execution_count": 249,
     "metadata": {
      "tags": []
     },
     "output_type": "execute_result"
    }
   ],
   "source": [
    "#Changing the columns names to uppercase\n",
    "sheet4.columns=sheet4.columns.str.upper().str.strip()\n",
    "sheet4.columns "
   ]
  },
  {
   "cell_type": "code",
   "execution_count": 0,
   "metadata": {
    "colab": {},
    "colab_type": "code",
    "id": "2PnhpriCkIo3"
   },
   "outputs": [],
   "source": [
    "#Changing the datatype and syntax of date\n",
    "sheet4['DATE']=pd.to_datetime(sheet4['DATE']).dt.date"
   ]
  },
  {
   "cell_type": "code",
   "execution_count": 0,
   "metadata": {
    "colab": {
     "base_uri": "https://localhost:8080/"
    },
    "colab_type": "code",
    "id": "WWvqHgW_kPnp",
    "outputId": "2be7fcc0-97f1-42ac-f41a-441a730c9d91"
   },
   "outputs": [
    {
     "data": {
      "text/plain": [
       "RETURNEES                           object\n",
       "ADVISED SELF-QUARANTINE              int64\n",
       "CUMULATIVE NO OFFIRST-TIME CALLS     int64\n",
       "CUMULATIVEFOLLOW-UP CALLS            int64\n",
       "DATE                                object\n",
       "FIRST-TIME CALLS INPAST 24 HRS       int64\n",
       "FOLLOW-UP CALLS INPAST 24 HRS        int64\n",
       "dtype: object"
      ]
     },
     "execution_count": 251,
     "metadata": {
      "tags": []
     },
     "output_type": "execute_result"
    }
   ],
   "source": [
    "#Again checking the datatypes\n",
    "sheet4.dtypes"
   ]
  },
  {
   "cell_type": "code",
   "execution_count": 0,
   "metadata": {
    "colab": {
     "base_uri": "https://localhost:8080/"
    },
    "colab_type": "code",
    "id": "gXWnsINikbVH",
    "outputId": "dbc984ce-b833-4f6f-a866-2ff8764b0287"
   },
   "outputs": [
    {
     "data": {
      "text/plain": [
       "0      Returnees from Iran\n",
       "1     Returnees from China\n",
       "2      Returnees from Iran\n",
       "3     Returnees from China\n",
       "4      Returnees from Iran\n",
       "5     Returnees from China\n",
       "6      Returnees from Iran\n",
       "7     Returnees from China\n",
       "8      Returnees from Iran\n",
       "9     Returnees from China\n",
       "10     Returnees from Iran\n",
       "11    Returnees from China\n",
       "12     Returnees from Iran\n",
       "13    Returnees from China\n",
       "14     Returnees from Iran\n",
       "15    Returnees from China\n",
       "16     Returnees from Iran\n",
       "17    Returnees from China\n",
       "18     Returnees from Iran\n",
       "19    Returnees from China\n",
       "20     Returnees from Iran\n",
       "21    Returnees from China\n",
       "22     Returnees from Iran\n",
       "23    Returnees from China\n",
       "24     Returnees from Iran\n",
       "25    Returnees from China\n",
       "26     Returnees from Iran\n",
       "27    Returnees from China\n",
       "28     Returnees from Iran\n",
       "29    Returnees from China\n",
       "30     Returnees from Iran\n",
       "31    Returnees from China\n",
       "32     Returnees from Iran\n",
       "33    Returnees from China\n",
       "34     Returnees from Iran\n",
       "35    Returnees from China\n",
       "36     Returnees from Iran\n",
       "37    Returnees from China\n",
       "38     Returnees from Iran\n",
       "39    Returnees from China\n",
       "Name: RETURNEES, dtype: object"
      ]
     },
     "execution_count": 252,
     "metadata": {
      "tags": []
     },
     "output_type": "execute_result"
    }
   ],
   "source": [
    "#Padding of the column and displaying it\n",
    "sheet4['RETURNEES']=sheet4['RETURNEES'].str.pad(12,side='right')\n",
    "sheet4['RETURNEES']"
   ]
  },
  {
   "cell_type": "code",
   "execution_count": 0,
   "metadata": {
    "colab": {
     "base_uri": "https://localhost:8080/"
    },
    "colab_type": "code",
    "id": "QdK1Hi_Wkgtp",
    "outputId": "93f5aad0-b4b2-4948-a1dc-f590c6e50187"
   },
   "outputs": [
    {
     "data": {
      "text/html": [
       "<div>\n",
       "<style scoped>\n",
       "    .dataframe tbody tr th:only-of-type {\n",
       "        vertical-align: middle;\n",
       "    }\n",
       "\n",
       "    .dataframe tbody tr th {\n",
       "        vertical-align: top;\n",
       "    }\n",
       "\n",
       "    .dataframe thead th {\n",
       "        text-align: right;\n",
       "    }\n",
       "</style>\n",
       "<table border=\"1\" class=\"dataframe\">\n",
       "  <thead>\n",
       "    <tr style=\"text-align: right;\">\n",
       "      <th></th>\n",
       "      <th>RETURNEES</th>\n",
       "      <th>ADVISED SELF-QUARANTINE</th>\n",
       "      <th>CUMULATIVE NO OFFIRST-TIME CALLS</th>\n",
       "      <th>CUMULATIVEFOLLOW-UP CALLS</th>\n",
       "      <th>DATE</th>\n",
       "      <th>FIRST-TIME CALLS INPAST 24 HRS</th>\n",
       "      <th>FOLLOW-UP CALLS INPAST 24 HRS</th>\n",
       "    </tr>\n",
       "  </thead>\n",
       "  <tbody>\n",
       "    <tr>\n",
       "      <th>0</th>\n",
       "      <td>Returnees from Iran</td>\n",
       "      <td>0</td>\n",
       "      <td>9459</td>\n",
       "      <td>2553</td>\n",
       "      <td>2020-03-11</td>\n",
       "      <td>0</td>\n",
       "      <td>353</td>\n",
       "    </tr>\n",
       "    <tr>\n",
       "      <th>1</th>\n",
       "      <td>Returnees from China</td>\n",
       "      <td>11</td>\n",
       "      <td>5342</td>\n",
       "      <td>7746</td>\n",
       "      <td>2020-03-11</td>\n",
       "      <td>17</td>\n",
       "      <td>400</td>\n",
       "    </tr>\n",
       "    <tr>\n",
       "      <th>2</th>\n",
       "      <td>Returnees from Iran</td>\n",
       "      <td>14</td>\n",
       "      <td>9475</td>\n",
       "      <td>3221</td>\n",
       "      <td>2020-03-12</td>\n",
       "      <td>16</td>\n",
       "      <td>668</td>\n",
       "    </tr>\n",
       "    <tr>\n",
       "      <th>3</th>\n",
       "      <td>Returnees from China</td>\n",
       "      <td>7</td>\n",
       "      <td>5352</td>\n",
       "      <td>7855</td>\n",
       "      <td>2020-03-12</td>\n",
       "      <td>10</td>\n",
       "      <td>109</td>\n",
       "    </tr>\n",
       "    <tr>\n",
       "      <th>4</th>\n",
       "      <td>Returnees from Iran</td>\n",
       "      <td>0</td>\n",
       "      <td>9475</td>\n",
       "      <td>3853</td>\n",
       "      <td>2020-03-13</td>\n",
       "      <td>0</td>\n",
       "      <td>632</td>\n",
       "    </tr>\n",
       "    <tr>\n",
       "      <th>5</th>\n",
       "      <td>Returnees from China</td>\n",
       "      <td>10</td>\n",
       "      <td>5362</td>\n",
       "      <td>8041</td>\n",
       "      <td>2020-03-13</td>\n",
       "      <td>10</td>\n",
       "      <td>186</td>\n",
       "    </tr>\n",
       "    <tr>\n",
       "      <th>6</th>\n",
       "      <td>Returnees from Iran</td>\n",
       "      <td>3</td>\n",
       "      <td>9480</td>\n",
       "      <td>4182</td>\n",
       "      <td>2020-03-14</td>\n",
       "      <td>5</td>\n",
       "      <td>329</td>\n",
       "    </tr>\n",
       "    <tr>\n",
       "      <th>7</th>\n",
       "      <td>Returnees from China</td>\n",
       "      <td>5</td>\n",
       "      <td>5370</td>\n",
       "      <td>8083</td>\n",
       "      <td>2020-03-14</td>\n",
       "      <td>8</td>\n",
       "      <td>42</td>\n",
       "    </tr>\n",
       "    <tr>\n",
       "      <th>8</th>\n",
       "      <td>Returnees from Iran</td>\n",
       "      <td>0</td>\n",
       "      <td>9480</td>\n",
       "      <td>4625</td>\n",
       "      <td>2020-03-15</td>\n",
       "      <td>0</td>\n",
       "      <td>443</td>\n",
       "    </tr>\n",
       "    <tr>\n",
       "      <th>9</th>\n",
       "      <td>Returnees from China</td>\n",
       "      <td>0</td>\n",
       "      <td>5370</td>\n",
       "      <td>8160</td>\n",
       "      <td>2020-03-15</td>\n",
       "      <td>0</td>\n",
       "      <td>77</td>\n",
       "    </tr>\n",
       "    <tr>\n",
       "      <th>10</th>\n",
       "      <td>Returnees from Iran</td>\n",
       "      <td>3</td>\n",
       "      <td>9488</td>\n",
       "      <td>4625</td>\n",
       "      <td>2020-03-16</td>\n",
       "      <td>8</td>\n",
       "      <td>0</td>\n",
       "    </tr>\n",
       "    <tr>\n",
       "      <th>11</th>\n",
       "      <td>Returnees from China</td>\n",
       "      <td>11</td>\n",
       "      <td>5394</td>\n",
       "      <td>8160</td>\n",
       "      <td>2020-03-16</td>\n",
       "      <td>24</td>\n",
       "      <td>0</td>\n",
       "    </tr>\n",
       "    <tr>\n",
       "      <th>12</th>\n",
       "      <td>Returnees from Iran</td>\n",
       "      <td>0</td>\n",
       "      <td>9488</td>\n",
       "      <td>5063</td>\n",
       "      <td>2020-03-17</td>\n",
       "      <td>0</td>\n",
       "      <td>438</td>\n",
       "    </tr>\n",
       "    <tr>\n",
       "      <th>13</th>\n",
       "      <td>Returnees from China</td>\n",
       "      <td>13</td>\n",
       "      <td>5413</td>\n",
       "      <td>8180</td>\n",
       "      <td>2020-03-17</td>\n",
       "      <td>19</td>\n",
       "      <td>20</td>\n",
       "    </tr>\n",
       "    <tr>\n",
       "      <th>14</th>\n",
       "      <td>Returnees from Iran</td>\n",
       "      <td>0</td>\n",
       "      <td>9488</td>\n",
       "      <td>5337</td>\n",
       "      <td>2020-03-18</td>\n",
       "      <td>0</td>\n",
       "      <td>274</td>\n",
       "    </tr>\n",
       "    <tr>\n",
       "      <th>15</th>\n",
       "      <td>Returnees from China</td>\n",
       "      <td>16</td>\n",
       "      <td>5439</td>\n",
       "      <td>8899</td>\n",
       "      <td>2020-03-18</td>\n",
       "      <td>26</td>\n",
       "      <td>719</td>\n",
       "    </tr>\n",
       "    <tr>\n",
       "      <th>16</th>\n",
       "      <td>Returnees from Iran</td>\n",
       "      <td>0</td>\n",
       "      <td>9488</td>\n",
       "      <td>5337</td>\n",
       "      <td>2020-03-19</td>\n",
       "      <td>0</td>\n",
       "      <td>32</td>\n",
       "    </tr>\n",
       "    <tr>\n",
       "      <th>17</th>\n",
       "      <td>Returnees from China</td>\n",
       "      <td>0</td>\n",
       "      <td>5441</td>\n",
       "      <td>9392</td>\n",
       "      <td>2020-03-19</td>\n",
       "      <td>2</td>\n",
       "      <td>493</td>\n",
       "    </tr>\n",
       "    <tr>\n",
       "      <th>18</th>\n",
       "      <td>Returnees from Iran</td>\n",
       "      <td>0</td>\n",
       "      <td>9488</td>\n",
       "      <td>5623</td>\n",
       "      <td>2020-03-20</td>\n",
       "      <td>0</td>\n",
       "      <td>286</td>\n",
       "    </tr>\n",
       "    <tr>\n",
       "      <th>19</th>\n",
       "      <td>Returnees from China</td>\n",
       "      <td>8</td>\n",
       "      <td>5458</td>\n",
       "      <td>9392</td>\n",
       "      <td>2020-03-20</td>\n",
       "      <td>17</td>\n",
       "      <td>0</td>\n",
       "    </tr>\n",
       "    <tr>\n",
       "      <th>20</th>\n",
       "      <td>Returnees from Iran</td>\n",
       "      <td>1</td>\n",
       "      <td>9489</td>\n",
       "      <td>5977</td>\n",
       "      <td>2020-03-21</td>\n",
       "      <td>1</td>\n",
       "      <td>354</td>\n",
       "    </tr>\n",
       "    <tr>\n",
       "      <th>21</th>\n",
       "      <td>Returnees from China</td>\n",
       "      <td>1</td>\n",
       "      <td>5462</td>\n",
       "      <td>9658</td>\n",
       "      <td>2020-03-21</td>\n",
       "      <td>4</td>\n",
       "      <td>266</td>\n",
       "    </tr>\n",
       "    <tr>\n",
       "      <th>22</th>\n",
       "      <td>Returnees from Iran</td>\n",
       "      <td>0</td>\n",
       "      <td>9489</td>\n",
       "      <td>6116</td>\n",
       "      <td>2020-03-22</td>\n",
       "      <td>0</td>\n",
       "      <td>139</td>\n",
       "    </tr>\n",
       "    <tr>\n",
       "      <th>23</th>\n",
       "      <td>Returnees from China</td>\n",
       "      <td>3</td>\n",
       "      <td>5473</td>\n",
       "      <td>10109</td>\n",
       "      <td>2020-03-22</td>\n",
       "      <td>11</td>\n",
       "      <td>451</td>\n",
       "    </tr>\n",
       "    <tr>\n",
       "      <th>24</th>\n",
       "      <td>Returnees from Iran</td>\n",
       "      <td>0</td>\n",
       "      <td>9489</td>\n",
       "      <td>6289</td>\n",
       "      <td>2020-03-23</td>\n",
       "      <td>0</td>\n",
       "      <td>173</td>\n",
       "    </tr>\n",
       "    <tr>\n",
       "      <th>25</th>\n",
       "      <td>Returnees from China</td>\n",
       "      <td>1</td>\n",
       "      <td>5474</td>\n",
       "      <td>10451</td>\n",
       "      <td>2020-03-23</td>\n",
       "      <td>1</td>\n",
       "      <td>342</td>\n",
       "    </tr>\n",
       "    <tr>\n",
       "      <th>26</th>\n",
       "      <td>Returnees from Iran</td>\n",
       "      <td>0</td>\n",
       "      <td>9489</td>\n",
       "      <td>6289</td>\n",
       "      <td>2020-03-24</td>\n",
       "      <td>0</td>\n",
       "      <td>0</td>\n",
       "    </tr>\n",
       "    <tr>\n",
       "      <th>27</th>\n",
       "      <td>Returnees from China</td>\n",
       "      <td>0</td>\n",
       "      <td>5474</td>\n",
       "      <td>10875</td>\n",
       "      <td>2020-03-24</td>\n",
       "      <td>0</td>\n",
       "      <td>424</td>\n",
       "    </tr>\n",
       "    <tr>\n",
       "      <th>28</th>\n",
       "      <td>Returnees from Iran</td>\n",
       "      <td>0</td>\n",
       "      <td>9489</td>\n",
       "      <td>6474</td>\n",
       "      <td>2020-03-25</td>\n",
       "      <td>0</td>\n",
       "      <td>185</td>\n",
       "    </tr>\n",
       "    <tr>\n",
       "      <th>29</th>\n",
       "      <td>Returnees from China</td>\n",
       "      <td>0</td>\n",
       "      <td>5474</td>\n",
       "      <td>11110</td>\n",
       "      <td>2020-03-25</td>\n",
       "      <td>0</td>\n",
       "      <td>235</td>\n",
       "    </tr>\n",
       "    <tr>\n",
       "      <th>30</th>\n",
       "      <td>Returnees from Iran</td>\n",
       "      <td>0</td>\n",
       "      <td>9489</td>\n",
       "      <td>6890</td>\n",
       "      <td>2020-03-26</td>\n",
       "      <td>0</td>\n",
       "      <td>416</td>\n",
       "    </tr>\n",
       "    <tr>\n",
       "      <th>31</th>\n",
       "      <td>Returnees from China</td>\n",
       "      <td>0</td>\n",
       "      <td>5474</td>\n",
       "      <td>11460</td>\n",
       "      <td>2020-03-26</td>\n",
       "      <td>0</td>\n",
       "      <td>350</td>\n",
       "    </tr>\n",
       "    <tr>\n",
       "      <th>32</th>\n",
       "      <td>Returnees from Iran</td>\n",
       "      <td>0</td>\n",
       "      <td>9489</td>\n",
       "      <td>6923</td>\n",
       "      <td>2020-03-27</td>\n",
       "      <td>0</td>\n",
       "      <td>133</td>\n",
       "    </tr>\n",
       "    <tr>\n",
       "      <th>33</th>\n",
       "      <td>Returnees from China</td>\n",
       "      <td>0</td>\n",
       "      <td>5474</td>\n",
       "      <td>11727</td>\n",
       "      <td>2020-03-27</td>\n",
       "      <td>0</td>\n",
       "      <td>267</td>\n",
       "    </tr>\n",
       "    <tr>\n",
       "      <th>34</th>\n",
       "      <td>Returnees from Iran</td>\n",
       "      <td>0</td>\n",
       "      <td>9489</td>\n",
       "      <td>7115</td>\n",
       "      <td>2020-03-28</td>\n",
       "      <td>0</td>\n",
       "      <td>192</td>\n",
       "    </tr>\n",
       "    <tr>\n",
       "      <th>35</th>\n",
       "      <td>Returnees from China</td>\n",
       "      <td>0</td>\n",
       "      <td>5474</td>\n",
       "      <td>12247</td>\n",
       "      <td>2020-03-28</td>\n",
       "      <td>0</td>\n",
       "      <td>520</td>\n",
       "    </tr>\n",
       "    <tr>\n",
       "      <th>36</th>\n",
       "      <td>Returnees from Iran</td>\n",
       "      <td>0</td>\n",
       "      <td>9489</td>\n",
       "      <td>7115</td>\n",
       "      <td>2020-03-29</td>\n",
       "      <td>0</td>\n",
       "      <td>0</td>\n",
       "    </tr>\n",
       "    <tr>\n",
       "      <th>37</th>\n",
       "      <td>Returnees from China</td>\n",
       "      <td>0</td>\n",
       "      <td>5474</td>\n",
       "      <td>12409</td>\n",
       "      <td>2020-03-29</td>\n",
       "      <td>0</td>\n",
       "      <td>162</td>\n",
       "    </tr>\n",
       "    <tr>\n",
       "      <th>38</th>\n",
       "      <td>Returnees from Iran</td>\n",
       "      <td>0</td>\n",
       "      <td>9489</td>\n",
       "      <td>7215</td>\n",
       "      <td>2020-03-30</td>\n",
       "      <td>0</td>\n",
       "      <td>100</td>\n",
       "    </tr>\n",
       "    <tr>\n",
       "      <th>39</th>\n",
       "      <td>Returnees from China</td>\n",
       "      <td>0</td>\n",
       "      <td>5474</td>\n",
       "      <td>12480</td>\n",
       "      <td>2020-03-30</td>\n",
       "      <td>0</td>\n",
       "      <td>71</td>\n",
       "    </tr>\n",
       "  </tbody>\n",
       "</table>\n",
       "</div>"
      ],
      "text/plain": [
       "               RETURNEES  ...  FOLLOW-UP CALLS INPAST 24 HRS\n",
       "0    Returnees from Iran  ...                            353\n",
       "1   Returnees from China  ...                            400\n",
       "2    Returnees from Iran  ...                            668\n",
       "3   Returnees from China  ...                            109\n",
       "4    Returnees from Iran  ...                            632\n",
       "5   Returnees from China  ...                            186\n",
       "6    Returnees from Iran  ...                            329\n",
       "7   Returnees from China  ...                             42\n",
       "8    Returnees from Iran  ...                            443\n",
       "9   Returnees from China  ...                             77\n",
       "10   Returnees from Iran  ...                              0\n",
       "11  Returnees from China  ...                              0\n",
       "12   Returnees from Iran  ...                            438\n",
       "13  Returnees from China  ...                             20\n",
       "14   Returnees from Iran  ...                            274\n",
       "15  Returnees from China  ...                            719\n",
       "16   Returnees from Iran  ...                             32\n",
       "17  Returnees from China  ...                            493\n",
       "18   Returnees from Iran  ...                            286\n",
       "19  Returnees from China  ...                              0\n",
       "20   Returnees from Iran  ...                            354\n",
       "21  Returnees from China  ...                            266\n",
       "22   Returnees from Iran  ...                            139\n",
       "23  Returnees from China  ...                            451\n",
       "24   Returnees from Iran  ...                            173\n",
       "25  Returnees from China  ...                            342\n",
       "26   Returnees from Iran  ...                              0\n",
       "27  Returnees from China  ...                            424\n",
       "28   Returnees from Iran  ...                            185\n",
       "29  Returnees from China  ...                            235\n",
       "30   Returnees from Iran  ...                            416\n",
       "31  Returnees from China  ...                            350\n",
       "32   Returnees from Iran  ...                            133\n",
       "33  Returnees from China  ...                            267\n",
       "34   Returnees from Iran  ...                            192\n",
       "35  Returnees from China  ...                            520\n",
       "36   Returnees from Iran  ...                              0\n",
       "37  Returnees from China  ...                            162\n",
       "38   Returnees from Iran  ...                            100\n",
       "39  Returnees from China  ...                             71\n",
       "\n",
       "[40 rows x 7 columns]"
      ]
     },
     "execution_count": 253,
     "metadata": {
      "tags": []
     },
     "output_type": "execute_result"
    }
   ],
   "source": [
    "#Displaying the sheet4\n",
    "sheet4"
   ]
  },
  {
   "cell_type": "markdown",
   "metadata": {
    "colab_type": "text",
    "id": "ztyfTI5Vkuui"
   },
   "source": [
    "# **SHEET 5**"
   ]
  },
  {
   "cell_type": "code",
   "execution_count": 0,
   "metadata": {
    "colab": {
     "base_uri": "https://localhost:8080/"
    },
    "colab_type": "code",
    "id": "EMZu1C5AkrnX",
    "outputId": "7fc2601d-43d3-406c-d768-7ff1e7509759"
   },
   "outputs": [
    {
     "data": {
      "text/plain": [
       "Unnamed: 0    0\n",
       "Date          0\n",
       "News          0\n",
       "Agg News      0\n",
       "dtype: int64"
      ]
     },
     "execution_count": 254,
     "metadata": {
      "tags": []
     },
     "output_type": "execute_result"
    }
   ],
   "source": [
    "#Checking any empty spaces in the sheet\n",
    "sheet5.isnull().sum()"
   ]
  },
  {
   "cell_type": "code",
   "execution_count": 0,
   "metadata": {
    "colab": {
     "base_uri": "https://localhost:8080/"
    },
    "colab_type": "code",
    "id": "KbOIgfdwk2nv",
    "outputId": "3dd278ec-9bb6-4144-8a82-c8abb35502aa"
   },
   "outputs": [
    {
     "data": {
      "text/plain": [
       "Unnamed: 0     int64\n",
       "Date          object\n",
       "News          object\n",
       "Agg News      object\n",
       "dtype: object"
      ]
     },
     "execution_count": 255,
     "metadata": {
      "tags": []
     },
     "output_type": "execute_result"
    }
   ],
   "source": [
    "#Checking the datatypes\n",
    "sheet5.dtypes"
   ]
  },
  {
   "cell_type": "code",
   "execution_count": 0,
   "metadata": {
    "colab": {
     "base_uri": "https://localhost:8080/"
    },
    "colab_type": "code",
    "id": "q9onF2Erk7OM",
    "outputId": "430fb8cd-8777-491e-c460-fb7ab475aa33"
   },
   "outputs": [
    {
     "data": {
      "text/plain": [
       "Index(['NEWS_ID', 'DATE', 'NEWS', 'AGG NEWS'], dtype='object')"
      ]
     },
     "execution_count": 256,
     "metadata": {
      "tags": []
     },
     "output_type": "execute_result"
    }
   ],
   "source": [
    "#Renaming the column and changing the columns names to upper case\n",
    "sheet5.rename(columns={'Unnamed: 0':'NEWS_ID'},inplace=True)\n",
    "sheet5.columns=sheet5.columns.str.upper().str.strip()\n",
    "sheet5.columns"
   ]
  },
  {
   "cell_type": "code",
   "execution_count": 0,
   "metadata": {
    "colab": {
     "base_uri": "https://localhost:8080/"
    },
    "colab_type": "code",
    "id": "mqfGlQFwlBqW",
    "outputId": "b4fbcf1c-263d-4bae-a61d-4bb1870765d1"
   },
   "outputs": [
    {
     "data": {
      "text/html": [
       "<div>\n",
       "<style scoped>\n",
       "    .dataframe tbody tr th:only-of-type {\n",
       "        vertical-align: middle;\n",
       "    }\n",
       "\n",
       "    .dataframe tbody tr th {\n",
       "        vertical-align: top;\n",
       "    }\n",
       "\n",
       "    .dataframe thead th {\n",
       "        text-align: right;\n",
       "    }\n",
       "</style>\n",
       "<table border=\"1\" class=\"dataframe\">\n",
       "  <thead>\n",
       "    <tr style=\"text-align: right;\">\n",
       "      <th></th>\n",
       "      <th>NEWS_ID</th>\n",
       "      <th>DATE</th>\n",
       "      <th>NEWS</th>\n",
       "      <th>AGG NEWS</th>\n",
       "    </tr>\n",
       "  </thead>\n",
       "  <tbody>\n",
       "    <tr>\n",
       "      <th>0</th>\n",
       "      <td>0</td>\n",
       "      <td>2020-03-11</td>\n",
       "      <td>Updates: Pakistan:</td>\n",
       "      <td>Updates: Pakistan: \\n Three new cases have bee...</td>\n",
       "    </tr>\n",
       "    <tr>\n",
       "      <th>1</th>\n",
       "      <td>1</td>\n",
       "      <td>2020-03-11</td>\n",
       "      <td>Three new cases have been confirmed in the pas...</td>\n",
       "      <td>Updates: Pakistan: \\n Three new cases have bee...</td>\n",
       "    </tr>\n",
       "    <tr>\n",
       "      <th>2</th>\n",
       "      <td>2</td>\n",
       "      <td>2020-03-11</td>\n",
       "      <td>Number of calls to passengers returning from I...</td>\n",
       "      <td>Updates: Pakistan: \\n Three new cases have bee...</td>\n",
       "    </tr>\n",
       "    <tr>\n",
       "      <th>3</th>\n",
       "      <td>3</td>\n",
       "      <td>2020-03-11</td>\n",
       "      <td>Global:</td>\n",
       "      <td>Updates: Pakistan: \\n Three new cases have bee...</td>\n",
       "    </tr>\n",
       "    <tr>\n",
       "      <th>4</th>\n",
       "      <td>4</td>\n",
       "      <td>2020-03-11</td>\n",
       "      <td>Total cases: 118,887,  Total Deaths: 4,290 •</td>\n",
       "      <td>Updates: Pakistan: \\n Three new cases have bee...</td>\n",
       "    </tr>\n",
       "    <tr>\n",
       "      <th>...</th>\n",
       "      <td>...</td>\n",
       "      <td>...</td>\n",
       "      <td>...</td>\n",
       "      <td>...</td>\n",
       "    </tr>\n",
       "    <tr>\n",
       "      <th>141</th>\n",
       "      <td>2</td>\n",
       "      <td>2020-04-03</td>\n",
       "      <td>2,450. Two deaths reported from Sindh. One dea...</td>\n",
       "      <td>Updates: Pakistan: \\n During last 24 hours, 15...</td>\n",
       "    </tr>\n",
       "    <tr>\n",
       "      <th>142</th>\n",
       "      <td>3</td>\n",
       "      <td>2020-04-03</td>\n",
       "      <td>deaths 35. •</td>\n",
       "      <td>Updates: Pakistan: \\n During last 24 hours, 15...</td>\n",
       "    </tr>\n",
       "    <tr>\n",
       "      <th>143</th>\n",
       "      <td>4</td>\n",
       "      <td>2020-04-03</td>\n",
       "      <td>Global:</td>\n",
       "      <td>Updates: Pakistan: \\n During last 24 hours, 15...</td>\n",
       "    </tr>\n",
       "    <tr>\n",
       "      <th>144</th>\n",
       "      <td>5</td>\n",
       "      <td>2020-04-03</td>\n",
       "      <td>Total cases:1,015,709 Total Deaths: 53,069 •</td>\n",
       "      <td>Updates: Pakistan: \\n During last 24 hours, 15...</td>\n",
       "    </tr>\n",
       "    <tr>\n",
       "      <th>145</th>\n",
       "      <td>6</td>\n",
       "      <td>2020-04-03</td>\n",
       "      <td>Total number of countries/regions affected: 181 •</td>\n",
       "      <td>Updates: Pakistan: \\n During last 24 hours, 15...</td>\n",
       "    </tr>\n",
       "  </tbody>\n",
       "</table>\n",
       "<p>146 rows × 4 columns</p>\n",
       "</div>"
      ],
      "text/plain": [
       "     NEWS_ID  ...                                           AGG NEWS\n",
       "0          0  ...  Updates: Pakistan: \\n Three new cases have bee...\n",
       "1          1  ...  Updates: Pakistan: \\n Three new cases have bee...\n",
       "2          2  ...  Updates: Pakistan: \\n Three new cases have bee...\n",
       "3          3  ...  Updates: Pakistan: \\n Three new cases have bee...\n",
       "4          4  ...  Updates: Pakistan: \\n Three new cases have bee...\n",
       "..       ...  ...                                                ...\n",
       "141        2  ...  Updates: Pakistan: \\n During last 24 hours, 15...\n",
       "142        3  ...  Updates: Pakistan: \\n During last 24 hours, 15...\n",
       "143        4  ...  Updates: Pakistan: \\n During last 24 hours, 15...\n",
       "144        5  ...  Updates: Pakistan: \\n During last 24 hours, 15...\n",
       "145        6  ...  Updates: Pakistan: \\n During last 24 hours, 15...\n",
       "\n",
       "[146 rows x 4 columns]"
      ]
     },
     "execution_count": 257,
     "metadata": {
      "tags": []
     },
     "output_type": "execute_result"
    }
   ],
   "source": [
    "#Changing the syntax and type od Date\n",
    "sheet5['DATE']=pd.to_datetime(sheet5['DATE']).dt.date\n",
    "sheet5"
   ]
  },
  {
   "cell_type": "code",
   "execution_count": 0,
   "metadata": {
    "colab": {},
    "colab_type": "code",
    "id": "ORWOVQ4DlJ0-"
   },
   "outputs": [],
   "source": [
    "#Padding of the columns\n",
    "sheet5['NEWS']=sheet5['NEWS'].str.pad(12,side='right')\n",
    "sheet5['AGG NEWS']=sheet5['AGG NEWS'].str.pad(12,side='right')"
   ]
  },
  {
   "cell_type": "code",
   "execution_count": 0,
   "metadata": {
    "colab": {
     "base_uri": "https://localhost:8080/"
    },
    "colab_type": "code",
    "id": "SZ-CR2FclQnD",
    "outputId": "863b1a49-3168-426b-ef6e-3dd887887788"
   },
   "outputs": [
    {
     "data": {
      "text/plain": [
       "NEWS_ID      int64\n",
       "DATE        object\n",
       "NEWS        object\n",
       "AGG NEWS    object\n",
       "dtype: object"
      ]
     },
     "execution_count": 259,
     "metadata": {
      "tags": []
     },
     "output_type": "execute_result"
    }
   ],
   "source": [
    "#Again checking the datatypes\n",
    "sheet5.dtypes"
   ]
  },
  {
   "cell_type": "markdown",
   "metadata": {
    "colab_type": "text",
    "id": "QjSerQ-uleXD"
   },
   "source": [
    "# **SHEET 6**"
   ]
  },
  {
   "cell_type": "code",
   "execution_count": 0,
   "metadata": {
    "colab": {
     "base_uri": "https://localhost:8080/"
    },
    "colab_type": "code",
    "id": "n6au1vXmlXiw",
    "outputId": "3eee10be-0cec-4009-eb5d-f7ea60e8f2b0"
   },
   "outputs": [
    {
     "data": {
      "text/plain": [
       "Unnamed: 0                           0\n",
       "Date                                 0\n",
       "NIH Preparedness and Response        0\n",
       "Agg NIH Preparedness and Response    0\n",
       "dtype: int64"
      ]
     },
     "execution_count": 260,
     "metadata": {
      "tags": []
     },
     "output_type": "execute_result"
    }
   ],
   "source": [
    "#Checking any empty spaces in the sheet\n",
    "sheet6.isnull().sum()"
   ]
  },
  {
   "cell_type": "code",
   "execution_count": 0,
   "metadata": {
    "colab": {
     "base_uri": "https://localhost:8080/"
    },
    "colab_type": "code",
    "id": "fsOlbFPrlrx5",
    "outputId": "93bfc8ca-9e7b-4f28-9151-77f8c9049664"
   },
   "outputs": [
    {
     "data": {
      "text/plain": [
       "Unnamed: 0                            int64\n",
       "Date                                 object\n",
       "NIH Preparedness and Response        object\n",
       "Agg NIH Preparedness and Response    object\n",
       "dtype: object"
      ]
     },
     "execution_count": 261,
     "metadata": {
      "tags": []
     },
     "output_type": "execute_result"
    }
   ],
   "source": [
    "#Now checking the datatypes\n",
    "sheet6.dtypes"
   ]
  },
  {
   "cell_type": "code",
   "execution_count": 0,
   "metadata": {
    "colab": {
     "base_uri": "https://localhost:8080/"
    },
    "colab_type": "code",
    "id": "RCZqoQHelxJN",
    "outputId": "6642eaa5-23cf-4e39-a9d9-e07f5266901a"
   },
   "outputs": [
    {
     "data": {
      "text/plain": [
       "Index(['NIH_RESPONSE_ID', 'DATE', 'NIH PREPAREDNESS AND RESPONSE',\n",
       "       'AGG NIH PREPAREDNESS AND RESPONSE'],\n",
       "      dtype='object')"
      ]
     },
     "execution_count": 262,
     "metadata": {
      "tags": []
     },
     "output_type": "execute_result"
    }
   ],
   "source": [
    "#Renaming the column and converting columns names to uppercase\n",
    "sheet6.rename(columns={'Unnamed: 0':'NIH_RESPONSE_ID'},inplace=True)\n",
    "sheet6.columns=sheet6.columns.str.upper().str.strip()\n",
    "sheet6.columns"
   ]
  },
  {
   "cell_type": "code",
   "execution_count": 0,
   "metadata": {
    "colab": {},
    "colab_type": "code",
    "id": "WgiwseD8l_uM"
   },
   "outputs": [],
   "source": [
    "#Changing the datatype and syntax of Date\n",
    "sheet6['DATE']=pd.to_datetime(sheet6['DATE']).dt.date"
   ]
  },
  {
   "cell_type": "code",
   "execution_count": 0,
   "metadata": {
    "colab": {},
    "colab_type": "code",
    "id": "n5iKB_KjmHmV"
   },
   "outputs": [],
   "source": [
    "#Padding the columns\n",
    "sheet6['NIH PREPAREDNESS AND RESPONSE']=sheet6['NIH PREPAREDNESS AND RESPONSE'].str.pad(12,side='right')\n",
    "sheet6['AGG NIH PREPAREDNESS AND RESPONSE']=sheet6['AGG NIH PREPAREDNESS AND RESPONSE'].str.pad(12,side='right')"
   ]
  },
  {
   "cell_type": "code",
   "execution_count": 0,
   "metadata": {
    "colab": {
     "base_uri": "https://localhost:8080/"
    },
    "colab_type": "code",
    "id": "RuPjLrjCmMlP",
    "outputId": "b3aa5d22-1676-4e37-aa04-5a8faaa158c9"
   },
   "outputs": [
    {
     "data": {
      "text/plain": [
       "NIH_RESPONSE_ID                       int64\n",
       "DATE                                 object\n",
       "NIH PREPAREDNESS AND RESPONSE        object\n",
       "AGG NIH PREPAREDNESS AND RESPONSE    object\n",
       "dtype: object"
      ]
     },
     "execution_count": 265,
     "metadata": {
      "tags": []
     },
     "output_type": "execute_result"
    }
   ],
   "source": [
    "#Again checking the datatypes\n",
    "sheet6.dtypes"
   ]
  },
  {
   "cell_type": "code",
   "execution_count": 0,
   "metadata": {
    "colab": {
     "base_uri": "https://localhost:8080/"
    },
    "colab_type": "code",
    "id": "lrwNW11RmQ5V",
    "outputId": "bc653238-29d1-49eb-f648-b1fa49f828a0"
   },
   "outputs": [
    {
     "data": {
      "text/html": [
       "<div>\n",
       "<style scoped>\n",
       "    .dataframe tbody tr th:only-of-type {\n",
       "        vertical-align: middle;\n",
       "    }\n",
       "\n",
       "    .dataframe tbody tr th {\n",
       "        vertical-align: top;\n",
       "    }\n",
       "\n",
       "    .dataframe thead th {\n",
       "        text-align: right;\n",
       "    }\n",
       "</style>\n",
       "<table border=\"1\" class=\"dataframe\">\n",
       "  <thead>\n",
       "    <tr style=\"text-align: right;\">\n",
       "      <th></th>\n",
       "      <th>NIH_RESPONSE_ID</th>\n",
       "      <th>DATE</th>\n",
       "      <th>NIH PREPAREDNESS AND RESPONSE</th>\n",
       "      <th>AGG NIH PREPAREDNESS AND RESPONSE</th>\n",
       "    </tr>\n",
       "  </thead>\n",
       "  <tbody>\n",
       "    <tr>\n",
       "      <th>0</th>\n",
       "      <td>0</td>\n",
       "      <td>2020-03-11</td>\n",
       "      <td>BSL-3 mobile lab with state of art equipment h...</td>\n",
       "      <td>BSL-3 mobile lab with state of art equipment h...</td>\n",
       "    </tr>\n",
       "    <tr>\n",
       "      <th>1</th>\n",
       "      <td>1</td>\n",
       "      <td>2020-03-11</td>\n",
       "      <td>IPC trainings have been completed at Gilgit an...</td>\n",
       "      <td>BSL-3 mobile lab with state of art equipment h...</td>\n",
       "    </tr>\n",
       "    <tr>\n",
       "      <th>2</th>\n",
       "      <td>2</td>\n",
       "      <td>2020-03-11</td>\n",
       "      <td>Training of the GB lab staff has been conducte...</td>\n",
       "      <td>BSL-3 mobile lab with state of art equipment h...</td>\n",
       "    </tr>\n",
       "    <tr>\n",
       "      <th>3</th>\n",
       "      <td>3</td>\n",
       "      <td>2020-03-11</td>\n",
       "      <td>IPC training is in progress for FG Hospital st...</td>\n",
       "      <td>BSL-3 mobile lab with state of art equipment h...</td>\n",
       "    </tr>\n",
       "    <tr>\n",
       "      <th>4</th>\n",
       "      <td>0</td>\n",
       "      <td>2020-03-12</td>\n",
       "      <td>BSL-3 mobile lab is ready for testing.  •</td>\n",
       "      <td>BSL-3 mobile lab is ready for testing.  • \\n I...</td>\n",
       "    </tr>\n",
       "    <tr>\n",
       "      <th>...</th>\n",
       "      <td>...</td>\n",
       "      <td>...</td>\n",
       "      <td>...</td>\n",
       "      <td>...</td>\n",
       "    </tr>\n",
       "    <tr>\n",
       "      <th>60</th>\n",
       "      <td>1</td>\n",
       "      <td>2020-04-02</td>\n",
       "      <td>Risk communication carried out among healthcar...</td>\n",
       "      <td>Contact tracing of confirmed cases being carri...</td>\n",
       "    </tr>\n",
       "    <tr>\n",
       "      <th>61</th>\n",
       "      <td>2</td>\n",
       "      <td>2020-04-02</td>\n",
       "      <td>NIH laboratory is providing support to provinc...</td>\n",
       "      <td>Contact tracing of confirmed cases being carri...</td>\n",
       "    </tr>\n",
       "    <tr>\n",
       "      <th>62</th>\n",
       "      <td>0</td>\n",
       "      <td>2020-04-03</td>\n",
       "      <td>Contact tracing of confirmed cases being carri...</td>\n",
       "      <td>Contact tracing of confirmed cases being carri...</td>\n",
       "    </tr>\n",
       "    <tr>\n",
       "      <th>63</th>\n",
       "      <td>1</td>\n",
       "      <td>2020-04-03</td>\n",
       "      <td>Risk communication carried out among healthcar...</td>\n",
       "      <td>Contact tracing of confirmed cases being carri...</td>\n",
       "    </tr>\n",
       "    <tr>\n",
       "      <th>64</th>\n",
       "      <td>2</td>\n",
       "      <td>2020-04-03</td>\n",
       "      <td>NIH laboratory is providing support to provinc...</td>\n",
       "      <td>Contact tracing of confirmed cases being carri...</td>\n",
       "    </tr>\n",
       "  </tbody>\n",
       "</table>\n",
       "<p>65 rows × 4 columns</p>\n",
       "</div>"
      ],
      "text/plain": [
       "    NIH_RESPONSE_ID  ...                  AGG NIH PREPAREDNESS AND RESPONSE\n",
       "0                 0  ...  BSL-3 mobile lab with state of art equipment h...\n",
       "1                 1  ...  BSL-3 mobile lab with state of art equipment h...\n",
       "2                 2  ...  BSL-3 mobile lab with state of art equipment h...\n",
       "3                 3  ...  BSL-3 mobile lab with state of art equipment h...\n",
       "4                 0  ...  BSL-3 mobile lab is ready for testing.  • \\n I...\n",
       "..              ...  ...                                                ...\n",
       "60                1  ...  Contact tracing of confirmed cases being carri...\n",
       "61                2  ...  Contact tracing of confirmed cases being carri...\n",
       "62                0  ...  Contact tracing of confirmed cases being carri...\n",
       "63                1  ...  Contact tracing of confirmed cases being carri...\n",
       "64                2  ...  Contact tracing of confirmed cases being carri...\n",
       "\n",
       "[65 rows x 4 columns]"
      ]
     },
     "execution_count": 266,
     "metadata": {
      "tags": []
     },
     "output_type": "execute_result"
    }
   ],
   "source": [
    "#Displaying the sheet6\n",
    "sheet6"
   ]
  },
  {
   "cell_type": "markdown",
   "metadata": {
    "colab_type": "text",
    "id": "xAYYllVsmbH1"
   },
   "source": [
    "# **SHEET 7**"
   ]
  },
  {
   "cell_type": "code",
   "execution_count": 0,
   "metadata": {
    "colab": {
     "base_uri": "https://localhost:8080/"
    },
    "colab_type": "code",
    "id": "8VzGwDXAmYXf",
    "outputId": "d222dd25-9bca-4388-8d8d-3302d2edc2cb"
   },
   "outputs": [
    {
     "data": {
      "text/plain": [
       "Unnamed: 0             0\n",
       "Date                   0\n",
       "Risk Assessment NIH    0\n",
       "dtype: int64"
      ]
     },
     "execution_count": 267,
     "metadata": {
      "tags": []
     },
     "output_type": "execute_result"
    }
   ],
   "source": [
    "#Checking for any empty spaces in the sheet\n",
    "sheet7.isnull().sum()"
   ]
  },
  {
   "cell_type": "code",
   "execution_count": 0,
   "metadata": {
    "colab": {
     "base_uri": "https://localhost:8080/"
    },
    "colab_type": "code",
    "id": "yU6iLz3Nmjis",
    "outputId": "fbb1cec5-b5ae-4187-a97a-dae554b50b5f"
   },
   "outputs": [
    {
     "data": {
      "text/plain": [
       "Unnamed: 0              int64\n",
       "Date                   object\n",
       "Risk Assessment NIH    object\n",
       "dtype: object"
      ]
     },
     "execution_count": 268,
     "metadata": {
      "tags": []
     },
     "output_type": "execute_result"
    }
   ],
   "source": [
    "#Checking the datatypes\n",
    "sheet7.dtypes"
   ]
  },
  {
   "cell_type": "code",
   "execution_count": 0,
   "metadata": {
    "colab": {},
    "colab_type": "code",
    "id": "mGfpLuNbmnLF"
   },
   "outputs": [],
   "source": [
    "#Dropping the column\n",
    "sheet7.drop(['Unnamed: 0'], axis=1, inplace=True)"
   ]
  },
  {
   "cell_type": "code",
   "execution_count": 0,
   "metadata": {
    "colab": {
     "base_uri": "https://localhost:8080/"
    },
    "colab_type": "code",
    "id": "bqhV-4hwmqXS",
    "outputId": "e96d30b1-f4de-48be-b58a-f38581e7a7a6"
   },
   "outputs": [
    {
     "data": {
      "text/html": [
       "<div>\n",
       "<style scoped>\n",
       "    .dataframe tbody tr th:only-of-type {\n",
       "        vertical-align: middle;\n",
       "    }\n",
       "\n",
       "    .dataframe tbody tr th {\n",
       "        vertical-align: top;\n",
       "    }\n",
       "\n",
       "    .dataframe thead th {\n",
       "        text-align: right;\n",
       "    }\n",
       "</style>\n",
       "<table border=\"1\" class=\"dataframe\">\n",
       "  <thead>\n",
       "    <tr style=\"text-align: right;\">\n",
       "      <th></th>\n",
       "      <th>Date</th>\n",
       "      <th>Risk Assessment NIH</th>\n",
       "    </tr>\n",
       "  </thead>\n",
       "  <tbody>\n",
       "    <tr>\n",
       "      <th>0</th>\n",
       "      <td>11-Mar-2020</td>\n",
       "      <td>MODERATE.</td>\n",
       "    </tr>\n",
       "    <tr>\n",
       "      <th>1</th>\n",
       "      <td>12-Mar-2020</td>\n",
       "      <td>MODERATE.</td>\n",
       "    </tr>\n",
       "    <tr>\n",
       "      <th>2</th>\n",
       "      <td>13-Mar-2020</td>\n",
       "      <td>MODERATE.</td>\n",
       "    </tr>\n",
       "    <tr>\n",
       "      <th>3</th>\n",
       "      <td>14-Mar-2020</td>\n",
       "      <td>MODERATE.</td>\n",
       "    </tr>\n",
       "    <tr>\n",
       "      <th>4</th>\n",
       "      <td>15-Mar-2020</td>\n",
       "      <td>Moderate</td>\n",
       "    </tr>\n",
       "    <tr>\n",
       "      <th>5</th>\n",
       "      <td>16-Mar-2020</td>\n",
       "      <td>Moderate</td>\n",
       "    </tr>\n",
       "    <tr>\n",
       "      <th>6</th>\n",
       "      <td>17-Mar-2020</td>\n",
       "      <td>Moderate</td>\n",
       "    </tr>\n",
       "    <tr>\n",
       "      <th>7</th>\n",
       "      <td>18-Mar-2020</td>\n",
       "      <td>Moderate</td>\n",
       "    </tr>\n",
       "    <tr>\n",
       "      <th>8</th>\n",
       "      <td>19-Mar-2020</td>\n",
       "      <td>High</td>\n",
       "    </tr>\n",
       "    <tr>\n",
       "      <th>9</th>\n",
       "      <td>20-Mar-2020</td>\n",
       "      <td>High</td>\n",
       "    </tr>\n",
       "    <tr>\n",
       "      <th>10</th>\n",
       "      <td>21-Mar-2020</td>\n",
       "      <td>High</td>\n",
       "    </tr>\n",
       "    <tr>\n",
       "      <th>11</th>\n",
       "      <td>22-Mar-2020</td>\n",
       "      <td>High</td>\n",
       "    </tr>\n",
       "    <tr>\n",
       "      <th>12</th>\n",
       "      <td>23-Mar-2020</td>\n",
       "      <td>High</td>\n",
       "    </tr>\n",
       "    <tr>\n",
       "      <th>13</th>\n",
       "      <td>24-Mar-2020</td>\n",
       "      <td>High</td>\n",
       "    </tr>\n",
       "    <tr>\n",
       "      <th>14</th>\n",
       "      <td>25-Mar-2020</td>\n",
       "      <td>High</td>\n",
       "    </tr>\n",
       "    <tr>\n",
       "      <th>15</th>\n",
       "      <td>26-Mar-2020</td>\n",
       "      <td>High</td>\n",
       "    </tr>\n",
       "    <tr>\n",
       "      <th>16</th>\n",
       "      <td>27-Mar-2020</td>\n",
       "      <td>High</td>\n",
       "    </tr>\n",
       "    <tr>\n",
       "      <th>17</th>\n",
       "      <td>28-Mar-2020</td>\n",
       "      <td>High</td>\n",
       "    </tr>\n",
       "    <tr>\n",
       "      <th>18</th>\n",
       "      <td>29-Mar-2020</td>\n",
       "      <td>High</td>\n",
       "    </tr>\n",
       "    <tr>\n",
       "      <th>19</th>\n",
       "      <td>30-Mar-2020</td>\n",
       "      <td>High</td>\n",
       "    </tr>\n",
       "    <tr>\n",
       "      <th>20</th>\n",
       "      <td>2020-03-31 00:00:00</td>\n",
       "      <td>High</td>\n",
       "    </tr>\n",
       "    <tr>\n",
       "      <th>21</th>\n",
       "      <td>2020-04-01 00:00:00</td>\n",
       "      <td>High</td>\n",
       "    </tr>\n",
       "    <tr>\n",
       "      <th>22</th>\n",
       "      <td>2020-04-02 00:00:00</td>\n",
       "      <td>High</td>\n",
       "    </tr>\n",
       "    <tr>\n",
       "      <th>23</th>\n",
       "      <td>2020-04-03 00:00:00</td>\n",
       "      <td>High</td>\n",
       "    </tr>\n",
       "  </tbody>\n",
       "</table>\n",
       "</div>"
      ],
      "text/plain": [
       "                   Date Risk Assessment NIH\n",
       "0           11-Mar-2020           MODERATE.\n",
       "1           12-Mar-2020           MODERATE.\n",
       "2           13-Mar-2020           MODERATE.\n",
       "3           14-Mar-2020           MODERATE.\n",
       "4           15-Mar-2020            Moderate\n",
       "5           16-Mar-2020            Moderate\n",
       "6           17-Mar-2020            Moderate\n",
       "7           18-Mar-2020            Moderate\n",
       "8           19-Mar-2020                High\n",
       "9           20-Mar-2020                High\n",
       "10          21-Mar-2020                High\n",
       "11          22-Mar-2020                High\n",
       "12          23-Mar-2020                High\n",
       "13          24-Mar-2020                High\n",
       "14          25-Mar-2020                High\n",
       "15          26-Mar-2020                High\n",
       "16          27-Mar-2020                High\n",
       "17          28-Mar-2020                High\n",
       "18          29-Mar-2020                High\n",
       "19          30-Mar-2020                High\n",
       "20  2020-03-31 00:00:00                High\n",
       "21  2020-04-01 00:00:00                High\n",
       "22  2020-04-02 00:00:00                High\n",
       "23  2020-04-03 00:00:00                High"
      ]
     },
     "execution_count": 270,
     "metadata": {
      "tags": []
     },
     "output_type": "execute_result"
    }
   ],
   "source": [
    "sheet7"
   ]
  },
  {
   "cell_type": "code",
   "execution_count": 0,
   "metadata": {
    "colab": {},
    "colab_type": "code",
    "id": "eEFezCUFmugR"
   },
   "outputs": [],
   "source": [
    "#Replacing or converting the MODERATE\n",
    "sheet7['Risk Assessment NIH']=sheet7['Risk Assessment NIH'].str.replace('MODERATE','Moderate')"
   ]
  },
  {
   "cell_type": "code",
   "execution_count": 0,
   "metadata": {
    "colab": {},
    "colab_type": "code",
    "id": "p7JAKifans1R"
   },
   "outputs": [],
   "source": [
    "sheet7['Risk Assessment NIH']=sheet7['Risk Assessment NIH'].str.replace('Moderate.','Moderate')"
   ]
  },
  {
   "cell_type": "code",
   "execution_count": 0,
   "metadata": {
    "colab": {},
    "colab_type": "code",
    "id": "4xf4sq19m5pb"
   },
   "outputs": [],
   "source": [
    "#Padding of the column\n",
    "sheet7['Risk Assessment NIH']=sheet7['Risk Assessment NIH'].str.pad(12,side='right')"
   ]
  },
  {
   "cell_type": "code",
   "execution_count": 0,
   "metadata": {
    "colab": {
     "base_uri": "https://localhost:8080/"
    },
    "colab_type": "code",
    "id": "FXcUTy7JniDk",
    "outputId": "1a482abe-bb3a-4695-94ff-2459f5e8a191"
   },
   "outputs": [
    {
     "data": {
      "text/html": [
       "<div>\n",
       "<style scoped>\n",
       "    .dataframe tbody tr th:only-of-type {\n",
       "        vertical-align: middle;\n",
       "    }\n",
       "\n",
       "    .dataframe tbody tr th {\n",
       "        vertical-align: top;\n",
       "    }\n",
       "\n",
       "    .dataframe thead th {\n",
       "        text-align: right;\n",
       "    }\n",
       "</style>\n",
       "<table border=\"1\" class=\"dataframe\">\n",
       "  <thead>\n",
       "    <tr style=\"text-align: right;\">\n",
       "      <th></th>\n",
       "      <th>Date</th>\n",
       "      <th>Risk Assessment NIH</th>\n",
       "    </tr>\n",
       "  </thead>\n",
       "  <tbody>\n",
       "    <tr>\n",
       "      <th>0</th>\n",
       "      <td>11-Mar-2020</td>\n",
       "      <td>Moderate</td>\n",
       "    </tr>\n",
       "    <tr>\n",
       "      <th>1</th>\n",
       "      <td>12-Mar-2020</td>\n",
       "      <td>Moderate</td>\n",
       "    </tr>\n",
       "    <tr>\n",
       "      <th>2</th>\n",
       "      <td>13-Mar-2020</td>\n",
       "      <td>Moderate</td>\n",
       "    </tr>\n",
       "    <tr>\n",
       "      <th>3</th>\n",
       "      <td>14-Mar-2020</td>\n",
       "      <td>Moderate</td>\n",
       "    </tr>\n",
       "    <tr>\n",
       "      <th>4</th>\n",
       "      <td>15-Mar-2020</td>\n",
       "      <td>Moderate</td>\n",
       "    </tr>\n",
       "    <tr>\n",
       "      <th>5</th>\n",
       "      <td>16-Mar-2020</td>\n",
       "      <td>Moderate</td>\n",
       "    </tr>\n",
       "    <tr>\n",
       "      <th>6</th>\n",
       "      <td>17-Mar-2020</td>\n",
       "      <td>Moderate</td>\n",
       "    </tr>\n",
       "    <tr>\n",
       "      <th>7</th>\n",
       "      <td>18-Mar-2020</td>\n",
       "      <td>Moderate</td>\n",
       "    </tr>\n",
       "    <tr>\n",
       "      <th>8</th>\n",
       "      <td>19-Mar-2020</td>\n",
       "      <td>High</td>\n",
       "    </tr>\n",
       "    <tr>\n",
       "      <th>9</th>\n",
       "      <td>20-Mar-2020</td>\n",
       "      <td>High</td>\n",
       "    </tr>\n",
       "    <tr>\n",
       "      <th>10</th>\n",
       "      <td>21-Mar-2020</td>\n",
       "      <td>High</td>\n",
       "    </tr>\n",
       "    <tr>\n",
       "      <th>11</th>\n",
       "      <td>22-Mar-2020</td>\n",
       "      <td>High</td>\n",
       "    </tr>\n",
       "    <tr>\n",
       "      <th>12</th>\n",
       "      <td>23-Mar-2020</td>\n",
       "      <td>High</td>\n",
       "    </tr>\n",
       "    <tr>\n",
       "      <th>13</th>\n",
       "      <td>24-Mar-2020</td>\n",
       "      <td>High</td>\n",
       "    </tr>\n",
       "    <tr>\n",
       "      <th>14</th>\n",
       "      <td>25-Mar-2020</td>\n",
       "      <td>High</td>\n",
       "    </tr>\n",
       "    <tr>\n",
       "      <th>15</th>\n",
       "      <td>26-Mar-2020</td>\n",
       "      <td>High</td>\n",
       "    </tr>\n",
       "    <tr>\n",
       "      <th>16</th>\n",
       "      <td>27-Mar-2020</td>\n",
       "      <td>High</td>\n",
       "    </tr>\n",
       "    <tr>\n",
       "      <th>17</th>\n",
       "      <td>28-Mar-2020</td>\n",
       "      <td>High</td>\n",
       "    </tr>\n",
       "    <tr>\n",
       "      <th>18</th>\n",
       "      <td>29-Mar-2020</td>\n",
       "      <td>High</td>\n",
       "    </tr>\n",
       "    <tr>\n",
       "      <th>19</th>\n",
       "      <td>30-Mar-2020</td>\n",
       "      <td>High</td>\n",
       "    </tr>\n",
       "    <tr>\n",
       "      <th>20</th>\n",
       "      <td>2020-03-31 00:00:00</td>\n",
       "      <td>High</td>\n",
       "    </tr>\n",
       "    <tr>\n",
       "      <th>21</th>\n",
       "      <td>2020-04-01 00:00:00</td>\n",
       "      <td>High</td>\n",
       "    </tr>\n",
       "    <tr>\n",
       "      <th>22</th>\n",
       "      <td>2020-04-02 00:00:00</td>\n",
       "      <td>High</td>\n",
       "    </tr>\n",
       "    <tr>\n",
       "      <th>23</th>\n",
       "      <td>2020-04-03 00:00:00</td>\n",
       "      <td>High</td>\n",
       "    </tr>\n",
       "  </tbody>\n",
       "</table>\n",
       "</div>"
      ],
      "text/plain": [
       "                   Date Risk Assessment NIH\n",
       "0           11-Mar-2020         Moderate   \n",
       "1           12-Mar-2020         Moderate   \n",
       "2           13-Mar-2020         Moderate   \n",
       "3           14-Mar-2020         Moderate   \n",
       "4           15-Mar-2020         Moderate   \n",
       "5           16-Mar-2020         Moderate   \n",
       "6           17-Mar-2020         Moderate   \n",
       "7           18-Mar-2020         Moderate   \n",
       "8           19-Mar-2020         High       \n",
       "9           20-Mar-2020         High       \n",
       "10          21-Mar-2020         High       \n",
       "11          22-Mar-2020         High       \n",
       "12          23-Mar-2020         High       \n",
       "13          24-Mar-2020         High       \n",
       "14          25-Mar-2020         High       \n",
       "15          26-Mar-2020         High       \n",
       "16          27-Mar-2020         High       \n",
       "17          28-Mar-2020         High       \n",
       "18          29-Mar-2020         High       \n",
       "19          30-Mar-2020         High       \n",
       "20  2020-03-31 00:00:00         High       \n",
       "21  2020-04-01 00:00:00         High       \n",
       "22  2020-04-02 00:00:00         High       \n",
       "23  2020-04-03 00:00:00         High       "
      ]
     },
     "execution_count": 274,
     "metadata": {
      "tags": []
     },
     "output_type": "execute_result"
    }
   ],
   "source": [
    "#Displaying the sheet7\n",
    "sheet7"
   ]
  },
  {
   "cell_type": "code",
   "execution_count": 0,
   "metadata": {
    "colab": {
     "base_uri": "https://localhost:8080/"
    },
    "colab_type": "code",
    "id": "-DxSho80nlX4",
    "outputId": "6a1033c1-1c67-476a-89d6-e5441c12f2b8"
   },
   "outputs": [
    {
     "data": {
      "text/plain": [
       "Index(['DATE', 'RISK ASSESSMENT NIH'], dtype='object')"
      ]
     },
     "execution_count": 275,
     "metadata": {
      "tags": []
     },
     "output_type": "execute_result"
    }
   ],
   "source": [
    "#Converting the columns names to uppercase\n",
    "sheet7.columns=sheet7.columns.str.upper().str.strip()\n",
    "sheet7.columns"
   ]
  },
  {
   "cell_type": "code",
   "execution_count": 0,
   "metadata": {
    "colab": {},
    "colab_type": "code",
    "id": "UG42BLiLn9md"
   },
   "outputs": [],
   "source": [
    "#Changing the syntax and type od Date\n",
    "sheet7['DATE']=pd.to_datetime(sheet7['DATE']).dt.date"
   ]
  },
  {
   "cell_type": "code",
   "execution_count": 0,
   "metadata": {
    "colab": {
     "base_uri": "https://localhost:8080/"
    },
    "colab_type": "code",
    "id": "Koq2JdW3oFN9",
    "outputId": "3dd79f83-3f25-45e5-ba5c-747efb607b19"
   },
   "outputs": [
    {
     "data": {
      "text/plain": [
       "DATE                   object\n",
       "RISK ASSESSMENT NIH    object\n",
       "dtype: object"
      ]
     },
     "execution_count": 277,
     "metadata": {
      "tags": []
     },
     "output_type": "execute_result"
    }
   ],
   "source": [
    "#Again displaying the datatype\n",
    "sheet7.dtypes"
   ]
  },
  {
   "cell_type": "markdown",
   "metadata": {
    "colab_type": "text",
    "id": "8YejAs9yoOkv"
   },
   "source": [
    "# **SHEET 8**"
   ]
  },
  {
   "cell_type": "code",
   "execution_count": 0,
   "metadata": {
    "colab": {
     "base_uri": "https://localhost:8080/"
    },
    "colab_type": "code",
    "id": "I5lumQDtoM2c",
    "outputId": "420ed2a9-2086-40d1-bca6-e272f095b11f"
   },
   "outputs": [
    {
     "data": {
      "text/plain": [
       "Unnamed: 0                                 0\n",
       "region                                     0\n",
       "Provinces Preparedness and Response        0\n",
       "Date                                       0\n",
       "Agg Provinces Preparedness and Response    0\n",
       "dtype: int64"
      ]
     },
     "execution_count": 278,
     "metadata": {
      "tags": []
     },
     "output_type": "execute_result"
    }
   ],
   "source": [
    "#Checking for any empty spaces in the sheet\n",
    "sheet8.isnull().sum()"
   ]
  },
  {
   "cell_type": "code",
   "execution_count": 0,
   "metadata": {
    "colab": {
     "base_uri": "https://localhost:8080/"
    },
    "colab_type": "code",
    "id": "4ZROdmkpoXSO",
    "outputId": "7f3359f3-3cce-4d0a-a556-15d88d10ae53"
   },
   "outputs": [
    {
     "data": {
      "text/plain": [
       "Unnamed: 0                                  int64\n",
       "region                                     object\n",
       "Provinces Preparedness and Response        object\n",
       "Date                                       object\n",
       "Agg Provinces Preparedness and Response    object\n",
       "dtype: object"
      ]
     },
     "execution_count": 279,
     "metadata": {
      "tags": []
     },
     "output_type": "execute_result"
    }
   ],
   "source": [
    "#Checking the datatypes\n",
    "sheet8.dtypes"
   ]
  },
  {
   "cell_type": "code",
   "execution_count": 0,
   "metadata": {
    "colab": {
     "base_uri": "https://localhost:8080/"
    },
    "colab_type": "code",
    "id": "jGZdsYeuobwN",
    "outputId": "e830eae1-7c43-4579-e5bf-bd3a3f7fe169"
   },
   "outputs": [
    {
     "data": {
      "text/plain": [
       "Index(['PROVINCE_RESPONSE_ID', 'REGION', 'PROVINCES PREPAREDNESS AND RESPONSE',\n",
       "       'DATE', 'AGG PROVINCES PREPAREDNESS AND RESPONSE'],\n",
       "      dtype='object')"
      ]
     },
     "execution_count": 280,
     "metadata": {
      "tags": []
     },
     "output_type": "execute_result"
    }
   ],
   "source": [
    "#Renaming and Converting the columns names to uppercase\n",
    "sheet8.rename(columns={'Unnamed: 0':'PROVINCE_RESPONSE_ID'},inplace=True)\n",
    "sheet8.columns=sheet8.columns.str.upper().str.strip()\n",
    "sheet8.columns"
   ]
  },
  {
   "cell_type": "code",
   "execution_count": 0,
   "metadata": {
    "colab": {},
    "colab_type": "code",
    "id": "Pl8oILMeol0e"
   },
   "outputs": [],
   "source": [
    "#Padding of the columns\n",
    "sheet8['REGION']=sheet8['REGION'].str.pad(12,side='right')\n",
    "sheet8['PROVINCES PREPAREDNESS AND RESPONSE']=sheet8['PROVINCES PREPAREDNESS AND RESPONSE'].str.pad(12,side='right')\n",
    "sheet8['AGG PROVINCES PREPAREDNESS AND RESPONSE']=sheet8['AGG PROVINCES PREPAREDNESS AND RESPONSE'].str.pad(12,side='right')"
   ]
  },
  {
   "cell_type": "code",
   "execution_count": 0,
   "metadata": {
    "colab": {},
    "colab_type": "code",
    "id": "CexOkglvpF0J"
   },
   "outputs": [],
   "source": [
    "#Replacing\n",
    "sheet8['REGION']=sheet8['REGION'].str.replace('KP & TD','KPTD')"
   ]
  },
  {
   "cell_type": "code",
   "execution_count": 0,
   "metadata": {
    "colab": {
     "base_uri": "https://localhost:8080/"
    },
    "colab_type": "code",
    "id": "UPUDfN4OpKPo",
    "outputId": "a0ab3c54-4943-41c8-f0a8-324156dbb3ce"
   },
   "outputs": [
    {
     "data": {
      "text/plain": [
       "PROVINCE_RESPONSE_ID                        int64\n",
       "REGION                                     object\n",
       "PROVINCES PREPAREDNESS AND RESPONSE        object\n",
       "DATE                                       object\n",
       "AGG PROVINCES PREPAREDNESS AND RESPONSE    object\n",
       "dtype: object"
      ]
     },
     "execution_count": 283,
     "metadata": {
      "tags": []
     },
     "output_type": "execute_result"
    }
   ],
   "source": [
    "#Changing the datatype and syntax of Date\n",
    "sheet8['DATE']=pd.to_datetime(sheet8['DATE']).dt.date\n",
    "sheet8.dtypes"
   ]
  },
  {
   "cell_type": "code",
   "execution_count": 0,
   "metadata": {
    "colab": {
     "base_uri": "https://localhost:8080/"
    },
    "colab_type": "code",
    "id": "DjwiCysrpQLf",
    "outputId": "d65a90da-6d67-4ac7-ee80-ee92dc4a154d"
   },
   "outputs": [
    {
     "data": {
      "text/html": [
       "<div>\n",
       "<style scoped>\n",
       "    .dataframe tbody tr th:only-of-type {\n",
       "        vertical-align: middle;\n",
       "    }\n",
       "\n",
       "    .dataframe tbody tr th {\n",
       "        vertical-align: top;\n",
       "    }\n",
       "\n",
       "    .dataframe thead th {\n",
       "        text-align: right;\n",
       "    }\n",
       "</style>\n",
       "<table border=\"1\" class=\"dataframe\">\n",
       "  <thead>\n",
       "    <tr style=\"text-align: right;\">\n",
       "      <th></th>\n",
       "      <th>PROVINCE_RESPONSE_ID</th>\n",
       "      <th>REGION</th>\n",
       "      <th>PROVINCES PREPAREDNESS AND RESPONSE</th>\n",
       "      <th>DATE</th>\n",
       "      <th>AGG PROVINCES PREPAREDNESS AND RESPONSE</th>\n",
       "    </tr>\n",
       "  </thead>\n",
       "  <tbody>\n",
       "    <tr>\n",
       "      <th>0</th>\n",
       "      <td>0</td>\n",
       "      <td>Balochistan</td>\n",
       "      <td>316 newly arrived individuals screened and qua...</td>\n",
       "      <td>2020-03-11</td>\n",
       "      <td>316 newly arrived individuals screened and qua...</td>\n",
       "    </tr>\n",
       "    <tr>\n",
       "      <th>1</th>\n",
       "      <td>1</td>\n",
       "      <td>Balochistan</td>\n",
       "      <td>14 Chinese nationals quarantined at East Bay E...</td>\n",
       "      <td>2020-03-11</td>\n",
       "      <td>316 newly arrived individuals screened and qua...</td>\n",
       "    </tr>\n",
       "    <tr>\n",
       "      <th>2</th>\n",
       "      <td>2</td>\n",
       "      <td>Sindh</td>\n",
       "      <td>Staff deployed to designated quarantine facili...</td>\n",
       "      <td>2020-03-11</td>\n",
       "      <td>Staff deployed to designated quarantine facili...</td>\n",
       "    </tr>\n",
       "    <tr>\n",
       "      <th>3</th>\n",
       "      <td>3</td>\n",
       "      <td>Sindh</td>\n",
       "      <td>Training and orientation sessions for the heal...</td>\n",
       "      <td>2020-03-11</td>\n",
       "      <td>Staff deployed to designated quarantine facili...</td>\n",
       "    </tr>\n",
       "    <tr>\n",
       "      <th>4</th>\n",
       "      <td>4</td>\n",
       "      <td>KPTD</td>\n",
       "      <td>24 High Dependency Units established across KP...</td>\n",
       "      <td>2020-03-11</td>\n",
       "      <td>24 High Dependency Units established across KP...</td>\n",
       "    </tr>\n",
       "    <tr>\n",
       "      <th>...</th>\n",
       "      <td>...</td>\n",
       "      <td>...</td>\n",
       "      <td>...</td>\n",
       "      <td>...</td>\n",
       "      <td>...</td>\n",
       "    </tr>\n",
       "    <tr>\n",
       "      <th>161</th>\n",
       "      <td>2</td>\n",
       "      <td>Sindh</td>\n",
       "      <td>Sindh Government has disbursed Rs.569.604 mill...</td>\n",
       "      <td>2020-04-03</td>\n",
       "      <td>Sindh Government has disbursed Rs.569.604 mill...</td>\n",
       "    </tr>\n",
       "    <tr>\n",
       "      <th>162</th>\n",
       "      <td>3</td>\n",
       "      <td>Punjab</td>\n",
       "      <td>District level trainings of HDU/Isolation/Quar...</td>\n",
       "      <td>2020-04-03</td>\n",
       "      <td>District level trainings of HDU/Isolation/Quar...</td>\n",
       "    </tr>\n",
       "    <tr>\n",
       "      <th>163</th>\n",
       "      <td>4</td>\n",
       "      <td>KP</td>\n",
       "      <td>Data transcription on to the IPMS software hos...</td>\n",
       "      <td>2020-04-03</td>\n",
       "      <td>Data transcription on to the IPMS software hos...</td>\n",
       "    </tr>\n",
       "    <tr>\n",
       "      <th>164</th>\n",
       "      <td>5</td>\n",
       "      <td>AJK</td>\n",
       "      <td>Out of 9 confirmed cases, 6 are local transmis...</td>\n",
       "      <td>2020-04-03</td>\n",
       "      <td>Out of 9 confirmed cases, 6 are local transmis...</td>\n",
       "    </tr>\n",
       "    <tr>\n",
       "      <th>165</th>\n",
       "      <td>6</td>\n",
       "      <td>GB</td>\n",
       "      <td>Involvement of WHO staff to provide support in...</td>\n",
       "      <td>2020-04-03</td>\n",
       "      <td>Involvement of WHO staff to provide support in...</td>\n",
       "    </tr>\n",
       "  </tbody>\n",
       "</table>\n",
       "<p>166 rows × 5 columns</p>\n",
       "</div>"
      ],
      "text/plain": [
       "     PROVINCE_RESPONSE_ID  ...            AGG PROVINCES PREPAREDNESS AND RESPONSE\n",
       "0                       0  ...  316 newly arrived individuals screened and qua...\n",
       "1                       1  ...  316 newly arrived individuals screened and qua...\n",
       "2                       2  ...  Staff deployed to designated quarantine facili...\n",
       "3                       3  ...  Staff deployed to designated quarantine facili...\n",
       "4                       4  ...  24 High Dependency Units established across KP...\n",
       "..                    ...  ...                                                ...\n",
       "161                     2  ...  Sindh Government has disbursed Rs.569.604 mill...\n",
       "162                     3  ...  District level trainings of HDU/Isolation/Quar...\n",
       "163                     4  ...  Data transcription on to the IPMS software hos...\n",
       "164                     5  ...  Out of 9 confirmed cases, 6 are local transmis...\n",
       "165                     6  ...  Involvement of WHO staff to provide support in...\n",
       "\n",
       "[166 rows x 5 columns]"
      ]
     },
     "execution_count": 284,
     "metadata": {
      "tags": []
     },
     "output_type": "execute_result"
    }
   ],
   "source": [
    "#Displaying the Sheet8\n",
    "sheet8"
   ]
  },
  {
   "cell_type": "markdown",
   "metadata": {
    "colab_type": "text",
    "id": "SsEPBMVmpWg5"
   },
   "source": [
    "# **SHEET 9**"
   ]
  },
  {
   "cell_type": "code",
   "execution_count": 0,
   "metadata": {
    "colab": {
     "base_uri": "https://localhost:8080/"
    },
    "colab_type": "code",
    "id": "xBWMpsdWpVF6",
    "outputId": "1868c940-5a09-46ce-c9fe-a44b867e6234"
   },
   "outputs": [
    {
     "data": {
      "text/plain": [
       "Unnamed: 0          0\n",
       "Cumulative Calls    0\n",
       "Date                0\n",
       "New Calls           0\n",
       "dtype: int64"
      ]
     },
     "execution_count": 285,
     "metadata": {
      "tags": []
     },
     "output_type": "execute_result"
    }
   ],
   "source": [
    "#Checking for any empty spaces in the sheet\n",
    "sheet9.isnull().sum()"
   ]
  },
  {
   "cell_type": "code",
   "execution_count": 0,
   "metadata": {
    "colab": {
     "base_uri": "https://localhost:8080/"
    },
    "colab_type": "code",
    "id": "ud2-j77qpmM9",
    "outputId": "c863ddcb-fd33-40b8-d547-d422f564524c"
   },
   "outputs": [
    {
     "data": {
      "text/plain": [
       "Unnamed: 0                   int64\n",
       "Cumulative Calls             int64\n",
       "Date                datetime64[ns]\n",
       "New Calls                    int64\n",
       "dtype: object"
      ]
     },
     "execution_count": 286,
     "metadata": {
      "tags": []
     },
     "output_type": "execute_result"
    }
   ],
   "source": [
    "#Now checking the Datatypes\n",
    "sheet9.dtypes"
   ]
  },
  {
   "cell_type": "code",
   "execution_count": 0,
   "metadata": {
    "colab": {
     "base_uri": "https://localhost:8080/"
    },
    "colab_type": "code",
    "id": "CMckT5vkptC_",
    "outputId": "a9230779-46e4-46bc-c7a0-6a8eabded0cb"
   },
   "outputs": [
    {
     "data": {
      "text/plain": [
       "Index(['UNNAMED: 0', 'CUMULATIVE CALLS', 'DATE', 'NEW CALLS'], dtype='object')"
      ]
     },
     "execution_count": 287,
     "metadata": {
      "tags": []
     },
     "output_type": "execute_result"
    }
   ],
   "source": [
    "#Changing the columns names to uppercase\n",
    "sheet9.columns=sheet9.columns.str.upper().str.strip()\n",
    "sheet9.columns "
   ]
  },
  {
   "cell_type": "code",
   "execution_count": 0,
   "metadata": {
    "colab": {},
    "colab_type": "code",
    "id": "A4EvSBsaqADU"
   },
   "outputs": [],
   "source": [
    "#Dropping the column\n",
    "sheet9.drop(['UNNAMED: 0'], axis=1, inplace=True)"
   ]
  },
  {
   "cell_type": "code",
   "execution_count": 0,
   "metadata": {
    "colab": {},
    "colab_type": "code",
    "id": "1mcQSy5oqEje"
   },
   "outputs": [],
   "source": [
    "#Changing the syntax of Date\n",
    "sheet9['DATE']=pd.to_datetime(sheet9['DATE']).dt.date"
   ]
  },
  {
   "cell_type": "code",
   "execution_count": 0,
   "metadata": {
    "colab": {
     "base_uri": "https://localhost:8080/"
    },
    "colab_type": "code",
    "id": "vq9bWt4HqLKq",
    "outputId": "a8efaab4-e2b0-460d-91a7-f253143a4ccc"
   },
   "outputs": [
    {
     "data": {
      "text/plain": [
       "CUMULATIVE CALLS     int64\n",
       "DATE                object\n",
       "NEW CALLS            int64\n",
       "dtype: object"
      ]
     },
     "execution_count": 290,
     "metadata": {
      "tags": []
     },
     "output_type": "execute_result"
    }
   ],
   "source": [
    "#Displaying the datatypes\n",
    "sheet9.dtypes"
   ]
  },
  {
   "cell_type": "code",
   "execution_count": 0,
   "metadata": {
    "colab": {
     "base_uri": "https://localhost:8080/"
    },
    "colab_type": "code",
    "id": "qpMx1FzMqXAE",
    "outputId": "30d0c88f-32e9-40cc-8fa5-d4ee462febc8"
   },
   "outputs": [
    {
     "data": {
      "text/html": [
       "<div>\n",
       "<style scoped>\n",
       "    .dataframe tbody tr th:only-of-type {\n",
       "        vertical-align: middle;\n",
       "    }\n",
       "\n",
       "    .dataframe tbody tr th {\n",
       "        vertical-align: top;\n",
       "    }\n",
       "\n",
       "    .dataframe thead th {\n",
       "        text-align: right;\n",
       "    }\n",
       "</style>\n",
       "<table border=\"1\" class=\"dataframe\">\n",
       "  <thead>\n",
       "    <tr style=\"text-align: right;\">\n",
       "      <th></th>\n",
       "      <th>CUMULATIVE CALLS</th>\n",
       "      <th>DATE</th>\n",
       "      <th>NEW CALLS</th>\n",
       "    </tr>\n",
       "  </thead>\n",
       "  <tbody>\n",
       "    <tr>\n",
       "      <th>0</th>\n",
       "      <td>12481</td>\n",
       "      <td>2020-03-11</td>\n",
       "      <td>547</td>\n",
       "    </tr>\n",
       "    <tr>\n",
       "      <th>1</th>\n",
       "      <td>13167</td>\n",
       "      <td>2020-03-12</td>\n",
       "      <td>686</td>\n",
       "    </tr>\n",
       "    <tr>\n",
       "      <th>2</th>\n",
       "      <td>13896</td>\n",
       "      <td>2020-03-13</td>\n",
       "      <td>729</td>\n",
       "    </tr>\n",
       "    <tr>\n",
       "      <th>3</th>\n",
       "      <td>15340</td>\n",
       "      <td>2020-03-14</td>\n",
       "      <td>1444</td>\n",
       "    </tr>\n",
       "    <tr>\n",
       "      <th>4</th>\n",
       "      <td>19131</td>\n",
       "      <td>2020-03-15</td>\n",
       "      <td>3791</td>\n",
       "    </tr>\n",
       "    <tr>\n",
       "      <th>5</th>\n",
       "      <td>26193</td>\n",
       "      <td>2020-03-16</td>\n",
       "      <td>7062</td>\n",
       "    </tr>\n",
       "    <tr>\n",
       "      <th>6</th>\n",
       "      <td>33427</td>\n",
       "      <td>2020-03-17</td>\n",
       "      <td>7234</td>\n",
       "    </tr>\n",
       "    <tr>\n",
       "      <th>7</th>\n",
       "      <td>41563</td>\n",
       "      <td>2020-03-18</td>\n",
       "      <td>8136</td>\n",
       "    </tr>\n",
       "    <tr>\n",
       "      <th>8</th>\n",
       "      <td>48786</td>\n",
       "      <td>2020-03-19</td>\n",
       "      <td>7223</td>\n",
       "    </tr>\n",
       "    <tr>\n",
       "      <th>9</th>\n",
       "      <td>56892</td>\n",
       "      <td>2020-03-20</td>\n",
       "      <td>8106</td>\n",
       "    </tr>\n",
       "    <tr>\n",
       "      <th>10</th>\n",
       "      <td>65602</td>\n",
       "      <td>2020-03-21</td>\n",
       "      <td>8710</td>\n",
       "    </tr>\n",
       "    <tr>\n",
       "      <th>11</th>\n",
       "      <td>65602</td>\n",
       "      <td>2020-03-22</td>\n",
       "      <td>8710</td>\n",
       "    </tr>\n",
       "    <tr>\n",
       "      <th>12</th>\n",
       "      <td>84700</td>\n",
       "      <td>2020-03-23</td>\n",
       "      <td>9654</td>\n",
       "    </tr>\n",
       "    <tr>\n",
       "      <th>13</th>\n",
       "      <td>93991</td>\n",
       "      <td>2020-03-24</td>\n",
       "      <td>9291</td>\n",
       "    </tr>\n",
       "    <tr>\n",
       "      <th>14</th>\n",
       "      <td>110052</td>\n",
       "      <td>2020-03-25</td>\n",
       "      <td>16061</td>\n",
       "    </tr>\n",
       "    <tr>\n",
       "      <th>15</th>\n",
       "      <td>152633</td>\n",
       "      <td>2020-03-26</td>\n",
       "      <td>42581</td>\n",
       "    </tr>\n",
       "    <tr>\n",
       "      <th>16</th>\n",
       "      <td>152633</td>\n",
       "      <td>2020-03-27</td>\n",
       "      <td>0</td>\n",
       "    </tr>\n",
       "    <tr>\n",
       "      <th>17</th>\n",
       "      <td>321600</td>\n",
       "      <td>2020-03-28</td>\n",
       "      <td>138062</td>\n",
       "    </tr>\n",
       "    <tr>\n",
       "      <th>18</th>\n",
       "      <td>449289</td>\n",
       "      <td>2020-03-29</td>\n",
       "      <td>128229</td>\n",
       "    </tr>\n",
       "    <tr>\n",
       "      <th>19</th>\n",
       "      <td>531628</td>\n",
       "      <td>2020-03-30</td>\n",
       "      <td>82799</td>\n",
       "    </tr>\n",
       "    <tr>\n",
       "      <th>20</th>\n",
       "      <td>620574</td>\n",
       "      <td>2020-03-31</td>\n",
       "      <td>88946</td>\n",
       "    </tr>\n",
       "    <tr>\n",
       "      <th>21</th>\n",
       "      <td>700728</td>\n",
       "      <td>2020-04-01</td>\n",
       "      <td>80154</td>\n",
       "    </tr>\n",
       "    <tr>\n",
       "      <th>22</th>\n",
       "      <td>772723</td>\n",
       "      <td>2020-04-02</td>\n",
       "      <td>71995</td>\n",
       "    </tr>\n",
       "    <tr>\n",
       "      <th>23</th>\n",
       "      <td>840021</td>\n",
       "      <td>2020-04-03</td>\n",
       "      <td>67298</td>\n",
       "    </tr>\n",
       "  </tbody>\n",
       "</table>\n",
       "</div>"
      ],
      "text/plain": [
       "    CUMULATIVE CALLS        DATE  NEW CALLS\n",
       "0              12481  2020-03-11        547\n",
       "1              13167  2020-03-12        686\n",
       "2              13896  2020-03-13        729\n",
       "3              15340  2020-03-14       1444\n",
       "4              19131  2020-03-15       3791\n",
       "5              26193  2020-03-16       7062\n",
       "6              33427  2020-03-17       7234\n",
       "7              41563  2020-03-18       8136\n",
       "8              48786  2020-03-19       7223\n",
       "9              56892  2020-03-20       8106\n",
       "10             65602  2020-03-21       8710\n",
       "11             65602  2020-03-22       8710\n",
       "12             84700  2020-03-23       9654\n",
       "13             93991  2020-03-24       9291\n",
       "14            110052  2020-03-25      16061\n",
       "15            152633  2020-03-26      42581\n",
       "16            152633  2020-03-27          0\n",
       "17            321600  2020-03-28     138062\n",
       "18            449289  2020-03-29     128229\n",
       "19            531628  2020-03-30      82799\n",
       "20            620574  2020-03-31      88946\n",
       "21            700728  2020-04-01      80154\n",
       "22            772723  2020-04-02      71995\n",
       "23            840021  2020-04-03      67298"
      ]
     },
     "execution_count": 291,
     "metadata": {
      "tags": []
     },
     "output_type": "execute_result"
    }
   ],
   "source": [
    "#Displaying the sheet9\n",
    "sheet9"
   ]
  },
  {
   "cell_type": "markdown",
   "metadata": {
    "colab_type": "text",
    "id": "-0KdOTYoqiiT"
   },
   "source": [
    "# **SHEET 10**"
   ]
  },
  {
   "cell_type": "code",
   "execution_count": 0,
   "metadata": {
    "colab": {
     "base_uri": "https://localhost:8080/"
    },
    "colab_type": "code",
    "id": "9BblTIIqqa8z",
    "outputId": "73576534-d654-4c9d-b78e-eb13724c7dfe"
   },
   "outputs": [
    {
     "data": {
      "text/plain": [
       "Unnamed: 0                          0\n",
       "Regions                             0\n",
       "Quarantine facilities (n)           0\n",
       "No. of arrivals in last 24 hrs      0\n",
       "Cumulative no of persons present    0\n",
       "Date                                0\n",
       "dtype: int64"
      ]
     },
     "execution_count": 292,
     "metadata": {
      "tags": []
     },
     "output_type": "execute_result"
    }
   ],
   "source": [
    "#Checking for any empty spaces in the sheet\n",
    "sheet10.isnull().sum() "
   ]
  },
  {
   "cell_type": "code",
   "execution_count": 0,
   "metadata": {
    "colab": {
     "base_uri": "https://localhost:8080/"
    },
    "colab_type": "code",
    "id": "LW80sWZTqsDw",
    "outputId": "1604d93d-835b-4ded-863e-73bcf3a3f5f5"
   },
   "outputs": [
    {
     "data": {
      "text/plain": [
       "Unnamed: 0                                   int64\n",
       "Regions                                     object\n",
       "Quarantine facilities (n)                    int64\n",
       "No. of arrivals in last 24 hrs               int64\n",
       "Cumulative no of persons present             int64\n",
       "Date                                datetime64[ns]\n",
       "dtype: object"
      ]
     },
     "execution_count": 293,
     "metadata": {
      "tags": []
     },
     "output_type": "execute_result"
    }
   ],
   "source": [
    "#Checking the datatypes\n",
    "sheet10.dtypes"
   ]
  },
  {
   "cell_type": "code",
   "execution_count": 0,
   "metadata": {
    "colab": {},
    "colab_type": "code",
    "id": "kTFeHXePqvus"
   },
   "outputs": [],
   "source": [
    "#Dropping the column\n",
    "sheet10.drop(['Unnamed: 0'], axis=1, inplace=True)"
   ]
  },
  {
   "cell_type": "code",
   "execution_count": 0,
   "metadata": {
    "colab": {},
    "colab_type": "code",
    "id": "FTSmX0KDq2iZ"
   },
   "outputs": [],
   "source": [
    "#Renaming and converting the names of columns in uppercase\n",
    "sheet10.rename(columns={'Regions':'REGION'},inplace=True)\n",
    "sheet10.columns=sheet10.columns.str.upper().str.strip()"
   ]
  },
  {
   "cell_type": "code",
   "execution_count": 0,
   "metadata": {
    "colab": {},
    "colab_type": "code",
    "id": "1LvQvun6rFUy"
   },
   "outputs": [],
   "source": [
    "#Changing the syntax of date\n",
    "sheet10['DATE']=pd.to_datetime(sheet10['DATE']).dt.date"
   ]
  },
  {
   "cell_type": "code",
   "execution_count": 0,
   "metadata": {
    "colab": {},
    "colab_type": "code",
    "id": "tVM4lyKTrRUQ"
   },
   "outputs": [],
   "source": [
    "#Padding the column\n",
    "sheet10['REGION']=sheet10['REGION'].str.pad(12,side='right')"
   ]
  },
  {
   "cell_type": "code",
   "execution_count": 0,
   "metadata": {
    "colab": {
     "base_uri": "https://localhost:8080/"
    },
    "colab_type": "code",
    "id": "OZNNO4EVrZTI",
    "outputId": "43547e0d-6f3c-49c7-ba53-40cb9d5dd655"
   },
   "outputs": [
    {
     "data": {
      "text/html": [
       "<div>\n",
       "<style scoped>\n",
       "    .dataframe tbody tr th:only-of-type {\n",
       "        vertical-align: middle;\n",
       "    }\n",
       "\n",
       "    .dataframe tbody tr th {\n",
       "        vertical-align: top;\n",
       "    }\n",
       "\n",
       "    .dataframe thead th {\n",
       "        text-align: right;\n",
       "    }\n",
       "</style>\n",
       "<table border=\"1\" class=\"dataframe\">\n",
       "  <thead>\n",
       "    <tr style=\"text-align: right;\">\n",
       "      <th></th>\n",
       "      <th>REGION</th>\n",
       "      <th>QUARANTINE FACILITIES (N)</th>\n",
       "      <th>NO. OF ARRIVALS IN LAST 24 HRS</th>\n",
       "      <th>CUMULATIVE NO OF PERSONS PRESENT</th>\n",
       "      <th>DATE</th>\n",
       "    </tr>\n",
       "  </thead>\n",
       "  <tbody>\n",
       "    <tr>\n",
       "      <th>0</th>\n",
       "      <td>ICT</td>\n",
       "      <td>1</td>\n",
       "      <td>0</td>\n",
       "      <td>24</td>\n",
       "      <td>2020-04-01</td>\n",
       "    </tr>\n",
       "    <tr>\n",
       "      <th>1</th>\n",
       "      <td>Punjab</td>\n",
       "      <td>4</td>\n",
       "      <td>0</td>\n",
       "      <td>2956</td>\n",
       "      <td>2020-04-01</td>\n",
       "    </tr>\n",
       "    <tr>\n",
       "      <th>2</th>\n",
       "      <td>Sindh</td>\n",
       "      <td>5</td>\n",
       "      <td>0</td>\n",
       "      <td>1388</td>\n",
       "      <td>2020-04-01</td>\n",
       "    </tr>\n",
       "    <tr>\n",
       "      <th>3</th>\n",
       "      <td>KP</td>\n",
       "      <td>92</td>\n",
       "      <td>181</td>\n",
       "      <td>3260</td>\n",
       "      <td>2020-04-01</td>\n",
       "    </tr>\n",
       "    <tr>\n",
       "      <th>4</th>\n",
       "      <td>Balochistan</td>\n",
       "      <td>9</td>\n",
       "      <td>0</td>\n",
       "      <td>366</td>\n",
       "      <td>2020-04-01</td>\n",
       "    </tr>\n",
       "    <tr>\n",
       "      <th>5</th>\n",
       "      <td>AJK</td>\n",
       "      <td>13</td>\n",
       "      <td>210</td>\n",
       "      <td>373</td>\n",
       "      <td>2020-04-01</td>\n",
       "    </tr>\n",
       "    <tr>\n",
       "      <th>6</th>\n",
       "      <td>GB</td>\n",
       "      <td>47</td>\n",
       "      <td>0</td>\n",
       "      <td>526</td>\n",
       "      <td>2020-04-01</td>\n",
       "    </tr>\n",
       "    <tr>\n",
       "      <th>7</th>\n",
       "      <td>ICT</td>\n",
       "      <td>1</td>\n",
       "      <td>7</td>\n",
       "      <td>31</td>\n",
       "      <td>2020-04-02</td>\n",
       "    </tr>\n",
       "    <tr>\n",
       "      <th>8</th>\n",
       "      <td>Punjab</td>\n",
       "      <td>4</td>\n",
       "      <td>0</td>\n",
       "      <td>2956</td>\n",
       "      <td>2020-04-02</td>\n",
       "    </tr>\n",
       "    <tr>\n",
       "      <th>9</th>\n",
       "      <td>Sindh</td>\n",
       "      <td>5</td>\n",
       "      <td>0</td>\n",
       "      <td>1365</td>\n",
       "      <td>2020-04-02</td>\n",
       "    </tr>\n",
       "    <tr>\n",
       "      <th>10</th>\n",
       "      <td>KP</td>\n",
       "      <td>98</td>\n",
       "      <td>98</td>\n",
       "      <td>3223</td>\n",
       "      <td>2020-04-02</td>\n",
       "    </tr>\n",
       "    <tr>\n",
       "      <th>11</th>\n",
       "      <td>Balochistan</td>\n",
       "      <td>9</td>\n",
       "      <td>0</td>\n",
       "      <td>364</td>\n",
       "      <td>2020-04-02</td>\n",
       "    </tr>\n",
       "    <tr>\n",
       "      <th>12</th>\n",
       "      <td>AJK</td>\n",
       "      <td>37</td>\n",
       "      <td>5</td>\n",
       "      <td>188</td>\n",
       "      <td>2020-04-02</td>\n",
       "    </tr>\n",
       "    <tr>\n",
       "      <th>13</th>\n",
       "      <td>GB</td>\n",
       "      <td>47</td>\n",
       "      <td>3</td>\n",
       "      <td>529</td>\n",
       "      <td>2020-04-02</td>\n",
       "    </tr>\n",
       "    <tr>\n",
       "      <th>14</th>\n",
       "      <td>ICT</td>\n",
       "      <td>6</td>\n",
       "      <td>0</td>\n",
       "      <td>30</td>\n",
       "      <td>2020-04-03</td>\n",
       "    </tr>\n",
       "    <tr>\n",
       "      <th>15</th>\n",
       "      <td>Punjab</td>\n",
       "      <td>4</td>\n",
       "      <td>0</td>\n",
       "      <td>2956</td>\n",
       "      <td>2020-04-03</td>\n",
       "    </tr>\n",
       "    <tr>\n",
       "      <th>16</th>\n",
       "      <td>Sindh</td>\n",
       "      <td>5</td>\n",
       "      <td>0</td>\n",
       "      <td>1363</td>\n",
       "      <td>2020-04-03</td>\n",
       "    </tr>\n",
       "    <tr>\n",
       "      <th>17</th>\n",
       "      <td>KP</td>\n",
       "      <td>101</td>\n",
       "      <td>279</td>\n",
       "      <td>3312</td>\n",
       "      <td>2020-04-03</td>\n",
       "    </tr>\n",
       "    <tr>\n",
       "      <th>18</th>\n",
       "      <td>Balochistan</td>\n",
       "      <td>9</td>\n",
       "      <td>0</td>\n",
       "      <td>408</td>\n",
       "      <td>2020-04-03</td>\n",
       "    </tr>\n",
       "    <tr>\n",
       "      <th>19</th>\n",
       "      <td>AJK</td>\n",
       "      <td>37</td>\n",
       "      <td>22</td>\n",
       "      <td>197</td>\n",
       "      <td>2020-04-03</td>\n",
       "    </tr>\n",
       "    <tr>\n",
       "      <th>20</th>\n",
       "      <td>GB</td>\n",
       "      <td>47</td>\n",
       "      <td>0</td>\n",
       "      <td>227</td>\n",
       "      <td>2020-04-03</td>\n",
       "    </tr>\n",
       "  </tbody>\n",
       "</table>\n",
       "</div>"
      ],
      "text/plain": [
       "          REGION  ...        DATE\n",
       "0   ICT           ...  2020-04-01\n",
       "1   Punjab        ...  2020-04-01\n",
       "2   Sindh         ...  2020-04-01\n",
       "3   KP            ...  2020-04-01\n",
       "4   Balochistan   ...  2020-04-01\n",
       "5   AJK           ...  2020-04-01\n",
       "6   GB            ...  2020-04-01\n",
       "7   ICT           ...  2020-04-02\n",
       "8   Punjab        ...  2020-04-02\n",
       "9   Sindh         ...  2020-04-02\n",
       "10  KP            ...  2020-04-02\n",
       "11  Balochistan   ...  2020-04-02\n",
       "12  AJK           ...  2020-04-02\n",
       "13  GB            ...  2020-04-02\n",
       "14  ICT           ...  2020-04-03\n",
       "15  Punjab        ...  2020-04-03\n",
       "16  Sindh         ...  2020-04-03\n",
       "17  KP            ...  2020-04-03\n",
       "18  Balochistan   ...  2020-04-03\n",
       "19  AJK           ...  2020-04-03\n",
       "20  GB            ...  2020-04-03\n",
       "\n",
       "[21 rows x 5 columns]"
      ]
     },
     "execution_count": 298,
     "metadata": {
      "tags": []
     },
     "output_type": "execute_result"
    }
   ],
   "source": [
    "#Displaying the sheet10\n",
    "sheet10"
   ]
  },
  {
   "cell_type": "markdown",
   "metadata": {
    "colab_type": "text",
    "id": "b0jU_Qd0sWyD"
   },
   "source": [
    "# **SAVING THE NEW WORKBOOK**\n",
    "This workbook contains all the changes made above"
   ]
  },
  {
   "cell_type": "code",
   "execution_count": 0,
   "metadata": {
    "colab": {},
    "colab_type": "code",
    "id": "92X3iptxrc0M"
   },
   "outputs": [],
   "source": [
    "writer = pd.ExcelWriter('COVID_PAKISTAN_2020.xlsx')\n",
    "\n",
    "sheet1.to_excel(writer,'TimeSeries_KeyIndicators', index=False)\n",
    "sheet2.to_excel(writer,'TimeSeries_KeyIndicators_Detail',index=False)\n",
    "sheet3.to_excel(writer,'TimeSeries_Action_Screen',index=False)\n",
    "sheet4.to_excel(writer,'TimeSeries_Action_Call',index=False)\n",
    "sheet5.to_excel(writer,'TimeSeries_COVID_News',index=False)\n",
    "sheet6.to_excel(writer,'TimeSeries_NIH_Response',index=False)\n",
    "sheet7.to_excel(writer,'TimeSeries_NIH_Risk',index=False)\n",
    "sheet8.to_excel(writer,'TimeSeries_Province_Response',index=False)\n",
    "sheet9.to_excel(writer,'TimeSeries_Helpline_Calls',index=False)\n",
    "sheet10.to_excel(writer,'TimeSeries_Quarantine_Details',index=False)\n",
    "# save the excel\n",
    "writer.save()"
   ]
  }
 ],
 "metadata": {
  "colab": {
   "name": "COVID_PAKISTAN_2020.ipynb",
   "provenance": []
  },
  "kernelspec": {
   "display_name": "Python 3",
   "language": "python",
   "name": "python3"
  },
  "language_info": {
   "codemirror_mode": {
    "name": "ipython",
    "version": 3
   },
   "file_extension": ".py",
   "mimetype": "text/x-python",
   "name": "python",
   "nbconvert_exporter": "python",
   "pygments_lexer": "ipython3",
   "version": "3.7.4"
  }
 },
 "nbformat": 4,
 "nbformat_minor": 1
}
